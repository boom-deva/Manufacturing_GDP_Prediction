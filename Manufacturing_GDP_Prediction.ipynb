{
 "cells": [
  {
   "cell_type": "code",
   "execution_count": 1,
   "metadata": {},
   "outputs": [],
   "source": [
    "import matplotlib.pyplot as plt\n",
    "import pandas as pd\n",
    "import numpy as np\n",
    "import seaborn as sns\n",
    "\n",
    "from sklearn.linear_model import LinearRegression, LassoCV, RidgeCV, ElasticNet\n",
    "from sklearn.metrics import r2_score, mean_squared_error\n",
    "from sklearn.model_selection import train_test_split,GridSearchCV\n",
    "from sklearn.preprocessing import StandardScaler\n",
    "\n",
    "from sklearn.ensemble import AdaBoostRegressor\n",
    "from sklearn.ensemble import RandomForestRegressor\n",
    "\n",
    "%matplotlib inline"
   ]
  },
  {
   "cell_type": "markdown",
   "metadata": {},
   "source": [
    "# Table of content\n",
    "- [Data Preprocessing](#data-preprocessing)\n",
    "    - [GDP-Major Industry from 1997 to 2018](#gdp-major-97-18)\n",
    "    - [Trade Balance](#trade-balance)\n",
    "        - [Import](#import)\n",
    "        - [Export](#export)\n",
    "    - [Investment](#investment)\n",
    "        - [Investment to abroad](#inv-to-abroad)\n",
    "        - [Investment from abroad](#inv-from-abroad)\n",
    "    - [US Population](#us-population)\n",
    "    - [Empolyment](#employment)\n",
    "- [Merge Data](#merge)\n",
    "- [Exploratory Data Analysis](#eda)\n",
    "- [Feature Selection](#feature-selection)\n",
    "    - [One Feature](#one-feature)\n",
    "    - [Other Feature Tested by Linear Regression](#other-features)\n",
    "- [Model Selection](#model-selection)\n",
    "    - [Three Features Model](#3-features)\n",
    "    - [Five Features Model](#5-features)\n",
    "- [Conclusion](#conclusion)\n",
    "- [Resource](#resource)"
   ]
  },
  {
   "cell_type": "markdown",
   "metadata": {},
   "source": [
    "# Data Preprocessing<a name=\"data-preprocessing\"></a> "
   ]
  },
  {
   "cell_type": "markdown",
   "metadata": {},
   "source": [
    "In order to predict the GDP, I did some study and decided which features may affect the GDP of Manufacturing Industry and make sure I can gather them from the government open source websites. Thus, the data were from multiple sources with diversity formats. In this case, I preprocessed all the data and changed the index to be equal to the year. Then I merged all the data together for exploring data analysis."
   ]
  },
  {
   "cell_type": "markdown",
   "metadata": {},
   "source": [
    "### GDP-Major Industry from 1997 to 2018<a name=\"gdp-major-97-18\"></a>"
   ]
  },
  {
   "cell_type": "markdown",
   "metadata": {},
   "source": [
    "Historical GDP data is from the US Bureau of Economic Analysis. The data is the GDP of all major industries between 1997 to 2018. The following step is the preprocess. First of all, the \"U.Value by Industry\" column contains information such as the data frame source, units (billions of dollars) and index lines. I don't want this information show in my data, so I dropped the column. Then, I checked for missing data and delete multiple rows with no information. I want the index to be years, so I set the name of the column equal to the year. Use a row to convert the column and reset the index to year. Finally, I renamed the column name and added a source to indicate its source."
   ]
  },
  {
   "cell_type": "code",
   "execution_count": 2,
   "metadata": {},
   "outputs": [
    {
     "ename": "FileNotFoundError",
     "evalue": "[Errno 2] No such file or directory: './data/Gross_domestic_product(GDP).xls'",
     "output_type": "error",
     "traceback": [
      "\u001b[0;31m---------------------------------------------------------------------------\u001b[0m",
      "\u001b[0;31mFileNotFoundError\u001b[0m                         Traceback (most recent call last)",
      "\u001b[0;32m<ipython-input-2-2a6f5109eec0>\u001b[0m in \u001b[0;36m<module>\u001b[0;34m()\u001b[0m\n\u001b[1;32m      1\u001b[0m \u001b[0;31m# Load the data\u001b[0m\u001b[0;34m\u001b[0m\u001b[0;34m\u001b[0m\u001b[0;34m\u001b[0m\u001b[0m\n\u001b[0;32m----> 2\u001b[0;31m \u001b[0mgdp_97_18\u001b[0m \u001b[0;34m=\u001b[0m \u001b[0mpd\u001b[0m\u001b[0;34m.\u001b[0m\u001b[0mread_excel\u001b[0m\u001b[0;34m(\u001b[0m\u001b[0;34m'./data/Gross_domestic_product(GDP).xls'\u001b[0m\u001b[0;34m)\u001b[0m\u001b[0;34m\u001b[0m\u001b[0;34m\u001b[0m\u001b[0m\n\u001b[0m",
      "\u001b[0;32m/anaconda3/lib/python3.7/site-packages/pandas/util/_decorators.py\u001b[0m in \u001b[0;36mwrapper\u001b[0;34m(*args, **kwargs)\u001b[0m\n\u001b[1;32m    186\u001b[0m                 \u001b[0;32melse\u001b[0m\u001b[0;34m:\u001b[0m\u001b[0;34m\u001b[0m\u001b[0;34m\u001b[0m\u001b[0m\n\u001b[1;32m    187\u001b[0m                     \u001b[0mkwargs\u001b[0m\u001b[0;34m[\u001b[0m\u001b[0mnew_arg_name\u001b[0m\u001b[0;34m]\u001b[0m \u001b[0;34m=\u001b[0m \u001b[0mnew_arg_value\u001b[0m\u001b[0;34m\u001b[0m\u001b[0;34m\u001b[0m\u001b[0m\n\u001b[0;32m--> 188\u001b[0;31m             \u001b[0;32mreturn\u001b[0m \u001b[0mfunc\u001b[0m\u001b[0;34m(\u001b[0m\u001b[0;34m*\u001b[0m\u001b[0margs\u001b[0m\u001b[0;34m,\u001b[0m \u001b[0;34m**\u001b[0m\u001b[0mkwargs\u001b[0m\u001b[0;34m)\u001b[0m\u001b[0;34m\u001b[0m\u001b[0;34m\u001b[0m\u001b[0m\n\u001b[0m\u001b[1;32m    189\u001b[0m         \u001b[0;32mreturn\u001b[0m \u001b[0mwrapper\u001b[0m\u001b[0;34m\u001b[0m\u001b[0;34m\u001b[0m\u001b[0m\n\u001b[1;32m    190\u001b[0m     \u001b[0;32mreturn\u001b[0m \u001b[0m_deprecate_kwarg\u001b[0m\u001b[0;34m\u001b[0m\u001b[0;34m\u001b[0m\u001b[0m\n",
      "\u001b[0;32m/anaconda3/lib/python3.7/site-packages/pandas/util/_decorators.py\u001b[0m in \u001b[0;36mwrapper\u001b[0;34m(*args, **kwargs)\u001b[0m\n\u001b[1;32m    186\u001b[0m                 \u001b[0;32melse\u001b[0m\u001b[0;34m:\u001b[0m\u001b[0;34m\u001b[0m\u001b[0;34m\u001b[0m\u001b[0m\n\u001b[1;32m    187\u001b[0m                     \u001b[0mkwargs\u001b[0m\u001b[0;34m[\u001b[0m\u001b[0mnew_arg_name\u001b[0m\u001b[0;34m]\u001b[0m \u001b[0;34m=\u001b[0m \u001b[0mnew_arg_value\u001b[0m\u001b[0;34m\u001b[0m\u001b[0;34m\u001b[0m\u001b[0m\n\u001b[0;32m--> 188\u001b[0;31m             \u001b[0;32mreturn\u001b[0m \u001b[0mfunc\u001b[0m\u001b[0;34m(\u001b[0m\u001b[0;34m*\u001b[0m\u001b[0margs\u001b[0m\u001b[0;34m,\u001b[0m \u001b[0;34m**\u001b[0m\u001b[0mkwargs\u001b[0m\u001b[0;34m)\u001b[0m\u001b[0;34m\u001b[0m\u001b[0;34m\u001b[0m\u001b[0m\n\u001b[0m\u001b[1;32m    189\u001b[0m         \u001b[0;32mreturn\u001b[0m \u001b[0mwrapper\u001b[0m\u001b[0;34m\u001b[0m\u001b[0;34m\u001b[0m\u001b[0m\n\u001b[1;32m    190\u001b[0m     \u001b[0;32mreturn\u001b[0m \u001b[0m_deprecate_kwarg\u001b[0m\u001b[0;34m\u001b[0m\u001b[0;34m\u001b[0m\u001b[0m\n",
      "\u001b[0;32m/anaconda3/lib/python3.7/site-packages/pandas/io/excel.py\u001b[0m in \u001b[0;36mread_excel\u001b[0;34m(io, sheet_name, header, names, index_col, parse_cols, usecols, squeeze, dtype, engine, converters, true_values, false_values, skiprows, nrows, na_values, keep_default_na, verbose, parse_dates, date_parser, thousands, comment, skip_footer, skipfooter, convert_float, mangle_dupe_cols, **kwds)\u001b[0m\n\u001b[1;32m    348\u001b[0m \u001b[0;34m\u001b[0m\u001b[0m\n\u001b[1;32m    349\u001b[0m     \u001b[0;32mif\u001b[0m \u001b[0;32mnot\u001b[0m \u001b[0misinstance\u001b[0m\u001b[0;34m(\u001b[0m\u001b[0mio\u001b[0m\u001b[0;34m,\u001b[0m \u001b[0mExcelFile\u001b[0m\u001b[0;34m)\u001b[0m\u001b[0;34m:\u001b[0m\u001b[0;34m\u001b[0m\u001b[0;34m\u001b[0m\u001b[0m\n\u001b[0;32m--> 350\u001b[0;31m         \u001b[0mio\u001b[0m \u001b[0;34m=\u001b[0m \u001b[0mExcelFile\u001b[0m\u001b[0;34m(\u001b[0m\u001b[0mio\u001b[0m\u001b[0;34m,\u001b[0m \u001b[0mengine\u001b[0m\u001b[0;34m=\u001b[0m\u001b[0mengine\u001b[0m\u001b[0;34m)\u001b[0m\u001b[0;34m\u001b[0m\u001b[0;34m\u001b[0m\u001b[0m\n\u001b[0m\u001b[1;32m    351\u001b[0m \u001b[0;34m\u001b[0m\u001b[0m\n\u001b[1;32m    352\u001b[0m     return io.parse(\n",
      "\u001b[0;32m/anaconda3/lib/python3.7/site-packages/pandas/io/excel.py\u001b[0m in \u001b[0;36m__init__\u001b[0;34m(self, io, engine)\u001b[0m\n\u001b[1;32m    651\u001b[0m         \u001b[0mself\u001b[0m\u001b[0;34m.\u001b[0m\u001b[0m_io\u001b[0m \u001b[0;34m=\u001b[0m \u001b[0m_stringify_path\u001b[0m\u001b[0;34m(\u001b[0m\u001b[0mio\u001b[0m\u001b[0;34m)\u001b[0m\u001b[0;34m\u001b[0m\u001b[0;34m\u001b[0m\u001b[0m\n\u001b[1;32m    652\u001b[0m \u001b[0;34m\u001b[0m\u001b[0m\n\u001b[0;32m--> 653\u001b[0;31m         \u001b[0mself\u001b[0m\u001b[0;34m.\u001b[0m\u001b[0m_reader\u001b[0m \u001b[0;34m=\u001b[0m \u001b[0mself\u001b[0m\u001b[0;34m.\u001b[0m\u001b[0m_engines\u001b[0m\u001b[0;34m[\u001b[0m\u001b[0mengine\u001b[0m\u001b[0;34m]\u001b[0m\u001b[0;34m(\u001b[0m\u001b[0mself\u001b[0m\u001b[0;34m.\u001b[0m\u001b[0m_io\u001b[0m\u001b[0;34m)\u001b[0m\u001b[0;34m\u001b[0m\u001b[0;34m\u001b[0m\u001b[0m\n\u001b[0m\u001b[1;32m    654\u001b[0m \u001b[0;34m\u001b[0m\u001b[0m\n\u001b[1;32m    655\u001b[0m     \u001b[0;32mdef\u001b[0m \u001b[0m__fspath__\u001b[0m\u001b[0;34m(\u001b[0m\u001b[0mself\u001b[0m\u001b[0;34m)\u001b[0m\u001b[0;34m:\u001b[0m\u001b[0;34m\u001b[0m\u001b[0;34m\u001b[0m\u001b[0m\n",
      "\u001b[0;32m/anaconda3/lib/python3.7/site-packages/pandas/io/excel.py\u001b[0m in \u001b[0;36m__init__\u001b[0;34m(self, filepath_or_buffer)\u001b[0m\n\u001b[1;32m    422\u001b[0m             \u001b[0mself\u001b[0m\u001b[0;34m.\u001b[0m\u001b[0mbook\u001b[0m \u001b[0;34m=\u001b[0m \u001b[0mxlrd\u001b[0m\u001b[0;34m.\u001b[0m\u001b[0mopen_workbook\u001b[0m\u001b[0;34m(\u001b[0m\u001b[0mfile_contents\u001b[0m\u001b[0;34m=\u001b[0m\u001b[0mdata\u001b[0m\u001b[0;34m)\u001b[0m\u001b[0;34m\u001b[0m\u001b[0;34m\u001b[0m\u001b[0m\n\u001b[1;32m    423\u001b[0m         \u001b[0;32melif\u001b[0m \u001b[0misinstance\u001b[0m\u001b[0;34m(\u001b[0m\u001b[0mfilepath_or_buffer\u001b[0m\u001b[0;34m,\u001b[0m \u001b[0mcompat\u001b[0m\u001b[0;34m.\u001b[0m\u001b[0mstring_types\u001b[0m\u001b[0;34m)\u001b[0m\u001b[0;34m:\u001b[0m\u001b[0;34m\u001b[0m\u001b[0;34m\u001b[0m\u001b[0m\n\u001b[0;32m--> 424\u001b[0;31m             \u001b[0mself\u001b[0m\u001b[0;34m.\u001b[0m\u001b[0mbook\u001b[0m \u001b[0;34m=\u001b[0m \u001b[0mxlrd\u001b[0m\u001b[0;34m.\u001b[0m\u001b[0mopen_workbook\u001b[0m\u001b[0;34m(\u001b[0m\u001b[0mfilepath_or_buffer\u001b[0m\u001b[0;34m)\u001b[0m\u001b[0;34m\u001b[0m\u001b[0;34m\u001b[0m\u001b[0m\n\u001b[0m\u001b[1;32m    425\u001b[0m         \u001b[0;32melse\u001b[0m\u001b[0;34m:\u001b[0m\u001b[0;34m\u001b[0m\u001b[0;34m\u001b[0m\u001b[0m\n\u001b[1;32m    426\u001b[0m             raise ValueError('Must explicitly set engine if not passing in'\n",
      "\u001b[0;32m/anaconda3/lib/python3.7/site-packages/xlrd/__init__.py\u001b[0m in \u001b[0;36mopen_workbook\u001b[0;34m(filename, logfile, verbosity, use_mmap, file_contents, encoding_override, formatting_info, on_demand, ragged_rows)\u001b[0m\n\u001b[1;32m    114\u001b[0m         \u001b[0mpeek\u001b[0m \u001b[0;34m=\u001b[0m \u001b[0mfile_contents\u001b[0m\u001b[0;34m[\u001b[0m\u001b[0;34m:\u001b[0m\u001b[0mpeeksz\u001b[0m\u001b[0;34m]\u001b[0m\u001b[0;34m\u001b[0m\u001b[0;34m\u001b[0m\u001b[0m\n\u001b[1;32m    115\u001b[0m     \u001b[0;32melse\u001b[0m\u001b[0;34m:\u001b[0m\u001b[0;34m\u001b[0m\u001b[0;34m\u001b[0m\u001b[0m\n\u001b[0;32m--> 116\u001b[0;31m         \u001b[0;32mwith\u001b[0m \u001b[0mopen\u001b[0m\u001b[0;34m(\u001b[0m\u001b[0mfilename\u001b[0m\u001b[0;34m,\u001b[0m \u001b[0;34m\"rb\"\u001b[0m\u001b[0;34m)\u001b[0m \u001b[0;32mas\u001b[0m \u001b[0mf\u001b[0m\u001b[0;34m:\u001b[0m\u001b[0;34m\u001b[0m\u001b[0;34m\u001b[0m\u001b[0m\n\u001b[0m\u001b[1;32m    117\u001b[0m             \u001b[0mpeek\u001b[0m \u001b[0;34m=\u001b[0m \u001b[0mf\u001b[0m\u001b[0;34m.\u001b[0m\u001b[0mread\u001b[0m\u001b[0;34m(\u001b[0m\u001b[0mpeeksz\u001b[0m\u001b[0;34m)\u001b[0m\u001b[0;34m\u001b[0m\u001b[0;34m\u001b[0m\u001b[0m\n\u001b[1;32m    118\u001b[0m     \u001b[0;32mif\u001b[0m \u001b[0mpeek\u001b[0m \u001b[0;34m==\u001b[0m \u001b[0;34mb\"PK\\x03\\x04\"\u001b[0m\u001b[0;34m:\u001b[0m \u001b[0;31m# a ZIP file\u001b[0m\u001b[0;34m\u001b[0m\u001b[0;34m\u001b[0m\u001b[0m\n",
      "\u001b[0;31mFileNotFoundError\u001b[0m: [Errno 2] No such file or directory: './data/Gross_domestic_product(GDP).xls'"
     ]
    }
   ],
   "source": [
    "# Load the data\n",
    "gdp_97_18 = pd.read_excel('./data/Gross_domestic_product(GDP).xls')"
   ]
  },
  {
   "cell_type": "code",
   "execution_count": null,
   "metadata": {},
   "outputs": [],
   "source": [
    "# Check the head of the data. The unit is Millions of current dollars.\n",
    "gdp_97_18.head(5)"
   ]
  },
  {
   "cell_type": "code",
   "execution_count": null,
   "metadata": {},
   "outputs": [],
   "source": [
    "# Select the Total GDP and Manufacturing\n",
    "gdp_97_18 = gdp_97_18.loc[[5,16]]"
   ]
  },
  {
   "cell_type": "code",
   "execution_count": null,
   "metadata": {},
   "outputs": [],
   "source": [
    "# Remove the first 3 columns.\n",
    "gdp_97_18 = gdp_97_18.drop(columns = ['SAGDP2N Gross domestic product (GDP) by state 1/',\n",
    "                         'Unnamed: 1','Unnamed: 2'])"
   ]
  },
  {
   "cell_type": "code",
   "execution_count": null,
   "metadata": {},
   "outputs": [],
   "source": [
    "# Rename the columns to year.\n",
    "gdp_97_18.columns = ['Year',1997,1998,1999,2000,2001,2002,2003,2004,\n",
    "                     2005,2006,2007,2008,2009,2010,2011,2012,2013,2014,\n",
    "                    2015,2016,2017,2018]"
   ]
  },
  {
   "cell_type": "code",
   "execution_count": null,
   "metadata": {},
   "outputs": [],
   "source": [
    "# Convert the row with column.\n",
    "gdp_97_18 = gdp_97_18.T"
   ]
  },
  {
   "cell_type": "code",
   "execution_count": null,
   "metadata": {},
   "outputs": [],
   "source": [
    "# Rename the columns with total gdp and manufacturing. \n",
    "gdp_97_18.columns = ['total GDP','manufacturing GDP']"
   ]
  },
  {
   "cell_type": "code",
   "execution_count": null,
   "metadata": {},
   "outputs": [],
   "source": [
    "# Remove the first row.\n",
    "gdp_97_18 = gdp_97_18[1:]"
   ]
  },
  {
   "cell_type": "code",
   "execution_count": null,
   "metadata": {},
   "outputs": [],
   "source": [
    "gdp_97_18_m = gdp_97_18[['manufacturing GDP']]"
   ]
  },
  {
   "cell_type": "code",
   "execution_count": null,
   "metadata": {},
   "outputs": [],
   "source": [
    "gdp_97_18_m = gdp_97_18_m*1_000_000"
   ]
  },
  {
   "cell_type": "markdown",
   "metadata": {},
   "source": [
    "# Trade Balance<a name='trade-balance'></a>"
   ]
  },
  {
   "cell_type": "markdown",
   "metadata": {},
   "source": [
    "## Import<a name ='import'></a>"
   ]
  },
  {
   "cell_type": "markdown",
   "metadata": {},
   "source": [
    "The import data has detail information of all the country contribute to the import between 2002 to 2018. Remove the first two no information rows, and the bottom rows with the note of the data. Reset the column name to year, and then convert the columns with rows for merging."
   ]
  },
  {
   "cell_type": "code",
   "execution_count": null,
   "metadata": {},
   "outputs": [],
   "source": [
    "# load import data\n",
    "import_02_18 = pd.read_excel('./data/Import_manuf_2002_2018.xlsx')\n",
    "import_02_18.head()"
   ]
  },
  {
   "cell_type": "code",
   "execution_count": null,
   "metadata": {},
   "outputs": [],
   "source": [
    "# drop the frist 2 rows\n",
    "import_02_18 = import_02_18[3:241]"
   ]
  },
  {
   "cell_type": "code",
   "execution_count": null,
   "metadata": {},
   "outputs": [],
   "source": [
    "# Rename the column\n",
    "new_col_list =['country_import']\n",
    "for i in range(2002,2019):\n",
    "    new_col_list.append(i)"
   ]
  },
  {
   "cell_type": "code",
   "execution_count": null,
   "metadata": {},
   "outputs": [],
   "source": [
    "# Rename the column\n",
    "import_02_18.columns = new_col_list"
   ]
  },
  {
   "cell_type": "code",
   "execution_count": null,
   "metadata": {},
   "outputs": [],
   "source": [
    "# Convert the row and column\n",
    "import_02_18t = import_02_18.T"
   ]
  },
  {
   "cell_type": "code",
   "execution_count": null,
   "metadata": {},
   "outputs": [],
   "source": [
    "# convert the first row to column name\n",
    "import_02_18t.columns = [import_02_18t.iloc[0]]"
   ]
  },
  {
   "cell_type": "code",
   "execution_count": null,
   "metadata": {},
   "outputs": [],
   "source": [
    "# Select the first level as the column name \n",
    "import_02_18t.columns = import_02_18t.columns.get_level_values(0)"
   ]
  },
  {
   "cell_type": "code",
   "execution_count": null,
   "metadata": {},
   "outputs": [],
   "source": [
    "# Drop the first row\n",
    "import_02_18t = import_02_18t[1:]"
   ]
  },
  {
   "cell_type": "code",
   "execution_count": null,
   "metadata": {},
   "outputs": [],
   "source": [
    "# Check the shape of clean import data\n",
    "import_02_18t.shape"
   ]
  },
  {
   "cell_type": "code",
   "execution_count": null,
   "metadata": {},
   "outputs": [],
   "source": [
    "# Rename world to total_import\n",
    "import_02_18t = import_02_18t.rename(columns ={'World':'total_import'})"
   ]
  },
  {
   "cell_type": "markdown",
   "metadata": {},
   "source": [
    "## Export <a name='export'></a>"
   ]
  },
  {
   "cell_type": "markdown",
   "metadata": {},
   "source": [
    "The export data has detail information about the detail industries contribute to the export between 2002 to 2018. Reset the column name to year, and then convert the columns with rows. Remove the column with the note of data and columns with no information."
   ]
  },
  {
   "cell_type": "code",
   "execution_count": null,
   "metadata": {},
   "outputs": [],
   "source": [
    "# load the export data\n",
    "export_02_18 = pd.read_excel('./data/Export_manuf_2002_2018.xlsx')"
   ]
  },
  {
   "cell_type": "code",
   "execution_count": null,
   "metadata": {},
   "outputs": [],
   "source": [
    "# Check the data \n",
    "export_02_18.head()"
   ]
  },
  {
   "cell_type": "code",
   "execution_count": null,
   "metadata": {},
   "outputs": [],
   "source": [
    "# Convert the column and row\n",
    "export_02_18t = export_02_18[:26].T"
   ]
  },
  {
   "cell_type": "code",
   "execution_count": null,
   "metadata": {},
   "outputs": [],
   "source": [
    "# Rename the column\n",
    "export_02_18t.columns = [export_02_18t.iloc[0]]"
   ]
  },
  {
   "cell_type": "code",
   "execution_count": null,
   "metadata": {},
   "outputs": [],
   "source": [
    "# Drop the first row\n",
    "export_02_18t = export_02_18t[1:]"
   ]
  },
  {
   "cell_type": "code",
   "execution_count": null,
   "metadata": {},
   "outputs": [],
   "source": [
    "# Check the data a\n",
    "export_02_18t.describe()"
   ]
  },
  {
   "cell_type": "code",
   "execution_count": null,
   "metadata": {},
   "outputs": [],
   "source": [
    "# Drop the last three uninformation columns\n",
    "export_02_18t = export_02_18t.drop(columns = ['3ZZ--MANUFACTURING PRODUCTS, NESOI',\n",
    "                             '33Z--MANUFACTURING PRODUCTS, PART 3, NESOI',\n",
    "                             'Provided by the Office of Trade and Economic Analysis (OTEA), Industry and Analysis, International Trade Administration, U.S. Department of Commerce'])\n"
   ]
  },
  {
   "cell_type": "code",
   "execution_count": null,
   "metadata": {},
   "outputs": [],
   "source": [
    "# Create a list of column name from multindex \n",
    "# and set the string to lowercase\n",
    "col_list = [ind.lower() for ind in export_02_18t.columns.get_level_values(0)]\n"
   ]
  },
  {
   "cell_type": "code",
   "execution_count": null,
   "metadata": {},
   "outputs": [],
   "source": [
    "# Rename the column name\n",
    "export_02_18t.columns = col_list"
   ]
  },
  {
   "cell_type": "code",
   "execution_count": null,
   "metadata": {},
   "outputs": [],
   "source": [
    "# Rename the total to total_export\n",
    "export_02_18t = export_02_18t.rename(columns = {'total':'total_export'})"
   ]
  },
  {
   "cell_type": "code",
   "execution_count": null,
   "metadata": {},
   "outputs": [],
   "source": [
    "# Check the shape of export data\n",
    "export_02_18t.shape"
   ]
  },
  {
   "cell_type": "code",
   "execution_count": null,
   "metadata": {},
   "outputs": [],
   "source": [
    "# Merge the import with export.\n",
    "balance = import_02_18t.merge(export_02_18t, how = 'inner',\n",
    "                             left_index = True, right_index = True)"
   ]
  },
  {
   "cell_type": "code",
   "execution_count": null,
   "metadata": {},
   "outputs": [],
   "source": [
    "balance['trade_balance'] = balance['total_export'] - balance['total_import']"
   ]
  },
  {
   "cell_type": "markdown",
   "metadata": {},
   "source": [
    "# Investment <a name='investment'></a>"
   ]
  },
  {
   "cell_type": "markdown",
   "metadata": {},
   "source": [
    "## Investment to abroad  <a name='inv-to-abroad'></a>"
   ]
  },
  {
   "cell_type": "markdown",
   "metadata": {},
   "source": [
    "I selected the balance of payments and direct investment abroad data to combine with foreign direct investment data. Calculate the   as total investment "
   ]
  },
  {
   "cell_type": "code",
   "execution_count": null,
   "metadata": {},
   "outputs": [],
   "source": [
    "# Load teh investment direct to abroad data\n",
    "inv_to_abroad = pd.read_excel('./data/Pharmaceutical_investment_us_to_other.xls')"
   ]
  },
  {
   "cell_type": "code",
   "execution_count": null,
   "metadata": {},
   "outputs": [],
   "source": [
    "# Check the data\n",
    "inv_to_abroad.head(7)"
   ]
  },
  {
   "cell_type": "code",
   "execution_count": null,
   "metadata": {},
   "outputs": [],
   "source": [
    "# Select the data size\n",
    "inv_to_abroad = inv_to_abroad[6:7]"
   ]
  },
  {
   "cell_type": "code",
   "execution_count": null,
   "metadata": {},
   "outputs": [],
   "source": [
    "# Drop the first row\n",
    "inv_to_abroad = inv_to_abroad.drop(columns = 'Balance of Payments and Direct Investment Position Data')"
   ]
  },
  {
   "cell_type": "code",
   "execution_count": null,
   "metadata": {},
   "outputs": [],
   "source": [
    "# Change the column's name to year\n",
    "inv_to_abroad.columns = [i for i in range(1999, 2018)]"
   ]
  },
  {
   "cell_type": "code",
   "execution_count": null,
   "metadata": {},
   "outputs": [],
   "source": [
    "# Convert the row with column\n",
    "inv_to_abroadt = inv_to_abroad.T"
   ]
  },
  {
   "cell_type": "code",
   "execution_count": null,
   "metadata": {},
   "outputs": [],
   "source": [
    "# Rename the column \n",
    "inv_to_abroadt.columns = ['manufacturing_inv_to_abroad']"
   ]
  },
  {
   "cell_type": "code",
   "execution_count": null,
   "metadata": {},
   "outputs": [],
   "source": [
    "inv_to_abroadt.head()"
   ]
  },
  {
   "cell_type": "markdown",
   "metadata": {},
   "source": [
    "## Investment from abord  <a name='inv-from-abroad'></a>"
   ]
  },
  {
   "cell_type": "code",
   "execution_count": null,
   "metadata": {},
   "outputs": [],
   "source": [
    "# Load the investment from abroad\n",
    "inv_from_abroad = pd.read_excel('./data/Pharmaceutical_investment_other_to_us.xls')\n"
   ]
  },
  {
   "cell_type": "code",
   "execution_count": null,
   "metadata": {},
   "outputs": [],
   "source": [
    "# Check the investment to abroad data\n",
    "inv_from_abroad.head(7)"
   ]
  },
  {
   "cell_type": "code",
   "execution_count": null,
   "metadata": {},
   "outputs": [],
   "source": [
    "# Select the data size\n",
    "inv_from_abroad = inv_from_abroad[6:7]"
   ]
  },
  {
   "cell_type": "code",
   "execution_count": null,
   "metadata": {},
   "outputs": [],
   "source": [
    "# Drop the first row\n",
    "inv_from_abroad = inv_from_abroad.drop(columns = 'Balance of Payments and Direct Investment Position Data')\n"
   ]
  },
  {
   "cell_type": "code",
   "execution_count": null,
   "metadata": {},
   "outputs": [],
   "source": [
    "# Change the column's name from year\n",
    "inv_from_abroad.columns = [i for i in range(1997, 2018)]"
   ]
  },
  {
   "cell_type": "code",
   "execution_count": null,
   "metadata": {},
   "outputs": [],
   "source": [
    "# Convert the row with column\n",
    "inv_from_abroadt = inv_from_abroad.T"
   ]
  },
  {
   "cell_type": "code",
   "execution_count": null,
   "metadata": {},
   "outputs": [],
   "source": [
    "# Rename the column \n",
    "inv_from_abroadt.columns = ['manufacturing_inv_from_abroad']\n",
    "\n",
    "inv_from_abroadt.head()"
   ]
  },
  {
   "cell_type": "code",
   "execution_count": null,
   "metadata": {},
   "outputs": [],
   "source": [
    "# Merge both the investment data.\n",
    "inv = inv_to_abroadt.merge(inv_from_abroadt, how = 'inner',\n",
    "                         left_index = True, right_index = True)"
   ]
  },
  {
   "cell_type": "code",
   "execution_count": null,
   "metadata": {},
   "outputs": [],
   "source": [
    "# Create a total investment column in the merge dataframe.\n",
    "inv['inv'] = inv['manufacturing_inv_from_abroad']-inv['manufacturing_inv_to_abroad']"
   ]
  },
  {
   "cell_type": "markdown",
   "metadata": {},
   "source": [
    "## US Population <a name=\"us-population\"></a>"
   ]
  },
  {
   "cell_type": "code",
   "execution_count": null,
   "metadata": {},
   "outputs": [],
   "source": [
    "# Load the population data.\n",
    "pop= pd.read_excel('./data/POP.TOTL_all_country.xls')"
   ]
  },
  {
   "cell_type": "code",
   "execution_count": null,
   "metadata": {},
   "outputs": [],
   "source": [
    "# Check the data\n",
    "pop.head()"
   ]
  },
  {
   "cell_type": "code",
   "execution_count": null,
   "metadata": {},
   "outputs": [],
   "source": [
    "# Create a list of number from 1960 to 2018\n",
    "year_list_60_18 = np.arange(1960,2019)\n",
    "year_list_60_18"
   ]
  },
  {
   "cell_type": "code",
   "execution_count": null,
   "metadata": {},
   "outputs": [],
   "source": [
    "# Rename the column\n",
    "pop_new_col = ['Country Name', 'Country Code','Indicator Name',\n",
    "              'Indicator Code']"
   ]
  },
  {
   "cell_type": "code",
   "execution_count": null,
   "metadata": {},
   "outputs": [],
   "source": [
    "# Append the year list to pop_new_col\n",
    "for year in year_list_60_18:\n",
    "    pop_new_col.append(year)\n",
    "pop_new_col[0:7]"
   ]
  },
  {
   "cell_type": "code",
   "execution_count": null,
   "metadata": {},
   "outputs": [],
   "source": [
    "# Rename the column of pop. \n",
    "pop.columns = pop_new_col"
   ]
  },
  {
   "cell_type": "code",
   "execution_count": null,
   "metadata": {},
   "outputs": [],
   "source": [
    "# Check the shape of pop data.\n",
    "pop.shape"
   ]
  },
  {
   "cell_type": "code",
   "execution_count": null,
   "metadata": {},
   "outputs": [],
   "source": [
    "# Check the missing value of year 2018\n",
    "pop[2018].isna().sum()"
   ]
  },
  {
   "cell_type": "code",
   "execution_count": null,
   "metadata": {},
   "outputs": [],
   "source": [
    "# Drop the year 2018 due to uninfomative. \n",
    "pop.drop(columns = [2018], inplace = True)"
   ]
  },
  {
   "cell_type": "code",
   "execution_count": null,
   "metadata": {},
   "outputs": [],
   "source": [
    "# I wanted the data between 2000 to 2018 only,\n",
    "# so I droped the column from 1960 to 1999\n",
    "# create a list for the above years\n",
    "year_list_60_99 = [year for year in range(1960,2000)]\n",
    "year_list_60_99[-5:]"
   ]
  },
  {
   "cell_type": "code",
   "execution_count": null,
   "metadata": {},
   "outputs": [],
   "source": [
    "# Drop the years in columns\n",
    "pop = pop.drop(columns = year_list_60_99)"
   ]
  },
  {
   "cell_type": "code",
   "execution_count": null,
   "metadata": {},
   "outputs": [],
   "source": [
    "# Select the USA as data only\n",
    "mask2 = pop['Country Name'] == 'United States'\n",
    "us_pop = pop[mask2]"
   ]
  },
  {
   "cell_type": "code",
   "execution_count": null,
   "metadata": {},
   "outputs": [],
   "source": [
    "# Since we need only year data with population,\n",
    "# I removed the first 4 columns, too.\n",
    "us_pop = us_pop.drop(columns = ['Country Name','Country Code',\n",
    "                       'Indicator Name','Indicator Code'])"
   ]
  },
  {
   "cell_type": "code",
   "execution_count": null,
   "metadata": {},
   "outputs": [],
   "source": [
    "# Convert the row and columns.\n",
    "us_pop = us_pop.T"
   ]
  },
  {
   "cell_type": "code",
   "execution_count": null,
   "metadata": {},
   "outputs": [],
   "source": [
    "# Rename the column name.\n",
    "us_pop.columns = ['us population']"
   ]
  },
  {
   "cell_type": "code",
   "execution_count": null,
   "metadata": {},
   "outputs": [],
   "source": [
    "us_pop.head()"
   ]
  },
  {
   "cell_type": "markdown",
   "metadata": {},
   "source": [
    "## Employment <a name='employeement'></a>"
   ]
  },
  {
   "cell_type": "markdown",
   "metadata": {},
   "source": [
    "I considered the number of employee as one of the feature of the cost in GDP. Thus, I collected the data from the U.S. Bureau of Labor Statistics and select the three categories of employee number, include total, manufacturing, pharmaceutical and medicine manufacturings. "
   ]
  },
  {
   "cell_type": "code",
   "execution_count": null,
   "metadata": {},
   "outputs": [],
   "source": [
    "# Load the employeement data\n",
    "emp = pd.read_excel('./data/Employment_us.xlsx')"
   ]
  },
  {
   "cell_type": "code",
   "execution_count": null,
   "metadata": {},
   "outputs": [],
   "source": [
    "# Take a look at emp data\n",
    "emp.head()"
   ]
  },
  {
   "cell_type": "code",
   "execution_count": null,
   "metadata": {},
   "outputs": [],
   "source": [
    "# Convert the year to be index\n",
    "emp = emp.T"
   ]
  },
  {
   "cell_type": "code",
   "execution_count": null,
   "metadata": {},
   "outputs": [],
   "source": [
    "# Rename the column name \n",
    "emp.columns = ['total employee','manufacturing employee',\n",
    "               'p&m employee']"
   ]
  },
  {
   "cell_type": "code",
   "execution_count": null,
   "metadata": {},
   "outputs": [],
   "source": [
    "# Drop the first row\n",
    "emp = emp[1:]"
   ]
  },
  {
   "cell_type": "code",
   "execution_count": null,
   "metadata": {},
   "outputs": [],
   "source": [
    "# Times a thoudsand to get the correct employment number\n",
    "emp = emp*1000"
   ]
  },
  {
   "cell_type": "code",
   "execution_count": null,
   "metadata": {},
   "outputs": [],
   "source": [
    "# Add the \n",
    "emp_m = emp[['manufacturing employee']]"
   ]
  },
  {
   "cell_type": "code",
   "execution_count": null,
   "metadata": {},
   "outputs": [],
   "source": [
    "emp_m.head()"
   ]
  },
  {
   "cell_type": "markdown",
   "metadata": {},
   "source": [
    "# Merge Data <a name='merge'></a>"
   ]
  },
  {
   "cell_type": "code",
   "execution_count": null,
   "metadata": {},
   "outputs": [],
   "source": [
    "# merge the data by emp\n",
    "gdp_emp = gdp_97_18_m.merge(emp_m, how ='right',\n",
    "                 left_index=True, right_index=True)"
   ]
  },
  {
   "cell_type": "code",
   "execution_count": null,
   "metadata": {},
   "outputs": [],
   "source": [
    "# Merge the gdp_emp with population\n",
    "gdp_emp_pop = gdp_emp.merge(us_pop, how = 'inner',\n",
    "                 left_index = True,\n",
    "                 right_index = True)"
   ]
  },
  {
   "cell_type": "code",
   "execution_count": null,
   "metadata": {},
   "outputs": [],
   "source": [
    "# Merge the balance with total investment.\n",
    "balance_inv = balance.merge(inv,  how = 'inner',\n",
    "                             left_index = True, right_index = True)"
   ]
  },
  {
   "cell_type": "code",
   "execution_count": null,
   "metadata": {},
   "outputs": [],
   "source": [
    "# Merge all the data together\n",
    "df = gdp_emp_pop.merge(balance_inv, how = 'inner',\n",
    "                       left_index = True, right_index = True)"
   ]
  },
  {
   "cell_type": "markdown",
   "metadata": {},
   "source": [
    "# Exploratory Data Analysis <a name='eda'></a>"
   ]
  },
  {
   "cell_type": "code",
   "execution_count": null,
   "metadata": {},
   "outputs": [],
   "source": [
    "# Check the df data\n",
    "df.head()"
   ]
  },
  {
   "cell_type": "code",
   "execution_count": null,
   "metadata": {
    "scrolled": true
   },
   "outputs": [],
   "source": [
    "# Check the data shape\n",
    "df.shape"
   ]
  },
  {
   "cell_type": "code",
   "execution_count": null,
   "metadata": {},
   "outputs": [],
   "source": [
    "# Check the null value \n",
    "null = df.isnull().sum()"
   ]
  },
  {
   "cell_type": "code",
   "execution_count": null,
   "metadata": {},
   "outputs": [],
   "source": [
    "# Check the column name\n",
    "df.columns.values[0:5]"
   ]
  },
  {
   "cell_type": "code",
   "execution_count": null,
   "metadata": {},
   "outputs": [],
   "source": [
    "# Check the type of each columns\n",
    "df.info()"
   ]
  },
  {
   "cell_type": "code",
   "execution_count": null,
   "metadata": {},
   "outputs": [],
   "source": [
    "# Change the type of each column to int\n",
    "df = df.astype(float)"
   ]
  },
  {
   "cell_type": "code",
   "execution_count": null,
   "metadata": {},
   "outputs": [],
   "source": [
    "# Set the figure size\n",
    "plt.figure(figsize = (3,50))\n",
    "\n",
    "# Some of the columns were not showing, so plot the bar plot\n",
    "sns.heatmap(df.corr()[['manufacturing GDP']].sort_values(['manufacturing GDP']),\n",
    "           annot = True, cmap = 'coolwarm')"
   ]
  },
  {
   "cell_type": "code",
   "execution_count": null,
   "metadata": {},
   "outputs": [],
   "source": [
    "df.info()"
   ]
  },
  {
   "cell_type": "code",
   "execution_count": null,
   "metadata": {},
   "outputs": [],
   "source": [
    "# the features are too much, so I shark the feature to only 6\n",
    "df_shark = df[['manufacturing GDP','manufacturing employee',\n",
    "              'us population','inv','trade_balance','total_import','total_export']]"
   ]
  },
  {
   "cell_type": "code",
   "execution_count": null,
   "metadata": {},
   "outputs": [],
   "source": [
    "# Change the columns name of shark \n",
    "df_shark.columns = ['GDP','employee','population','inv','trade_balance','import','export']"
   ]
  },
  {
   "cell_type": "code",
   "execution_count": null,
   "metadata": {
    "scrolled": true
   },
   "outputs": [],
   "source": [
    "df_shark['year'] = df_shark.index.astype(float)"
   ]
  },
  {
   "cell_type": "code",
   "execution_count": null,
   "metadata": {},
   "outputs": [],
   "source": [
    "# Check the type of df_shark data\n",
    "df_shark.info()"
   ]
  },
  {
   "cell_type": "code",
   "execution_count": null,
   "metadata": {},
   "outputs": [],
   "source": [
    "# Set the figure size\n",
    "plt.figure(figsize = (2,3))\n",
    "# Plot the heatmap to check the correlation of each feature\n",
    "sns.heatmap(df_shark.corr()[['GDP']].sort_values('GDP'),\n",
    "            annot = True, cmap = 'coolwarm')"
   ]
  },
  {
   "cell_type": "code",
   "execution_count": null,
   "metadata": {},
   "outputs": [],
   "source": [
    "plt.figure(figsize = (8,5))\n",
    "# I want to know how each feature growth each year\n",
    "features = ['GDP','import','export','trade_balance']\n",
    "\n",
    "sns.lineplot('year','GDP', data = df_shark)\n",
    "sns.lineplot('year','import', data = df_shark)\n",
    "sns.lineplot('year','export', data = df_shark)\n",
    "sns.lineplot('year','trade_balance',data =df_shark)\n",
    "\n",
    "plt.xlabel('Year')\n",
    "plt.ylabel('Value Add')\n",
    "plt.legend(labels = features)\n",
    "plt.title('Impot/Export and GDP Growth Value Since 2002')"
   ]
  },
  {
   "cell_type": "markdown",
   "metadata": {},
   "source": [
    "- The line chart in the above chart shows the relationship between GDP and imports, exports and trade balance over the years. First, since 2009, except for 2009, the growth trend of GDP and total imports has increased. The huge decline in 2009 was due to the financial crisis that began in the United States and the global economic recession that caused the world's economic recession. Export trends fell twice in 2009 and 2015 to 2016. For the year 2015 to 2016, the weak global economy and the strengthening of the US dollar, exports have fallen, making US goods and services more expensive. Second, the growth rate of import growth has exceeded the trend before 2008. "
   ]
  },
  {
   "cell_type": "code",
   "execution_count": null,
   "metadata": {},
   "outputs": [],
   "source": [
    "plt.figure(figsize = (9,4))\n",
    "# plot the bar plot\n",
    "sns.barplot(df_shark['year'].astype(int),'population', data = df_shark)\n",
    "\n",
    "# Set the labels\n",
    "plt.xlabel('Year')\n",
    "plt.ylabel('Population')\n",
    "plt.title('Population Since 2002')"
   ]
  },
  {
   "cell_type": "code",
   "execution_count": null,
   "metadata": {},
   "outputs": [],
   "source": [
    "# Set the figure size\n",
    "plt.figure(figsize = (9,4))\n",
    "\n",
    "# Plot the bar plot\n",
    "sns.barplot(df_shark['year'].astype(int),'inv', data = df_shark)\n",
    "\n",
    "# Set the labels\n",
    "plt.xlabel('Year')\n",
    "plt.ylabel('Investment')\n",
    "plt.title('Investment Since 2002')"
   ]
  },
  {
   "cell_type": "code",
   "execution_count": null,
   "metadata": {},
   "outputs": [],
   "source": [
    "# Set the figure size\n",
    "plt.figure(figsize = (9,4))\n",
    "\n",
    "# Plot the bar plot\n",
    "sns.barplot(df_shark['year'].astype(int),'employee', data = df_shark)\n",
    "\n",
    "# Set the labels\n",
    "plt.xlabel('Year')\n",
    "plt.ylabel('Employee')\n",
    "plt.title('Employment Since 2002')"
   ]
  },
  {
   "cell_type": "markdown",
   "metadata": {},
   "source": [
    "# Features selection <a name='features-selection'></a>"
   ]
  },
  {
   "cell_type": "markdown",
   "metadata": {},
   "source": [
    "During the feature selection, I selected only 'import' as my feature because it showed 0.98 correlated to GDP in the above heatmap. I used it to test which model worked the best. But Linear Regression, Lasso, and Ridge model worked pretty well and showed about 0.96 in train score, and 0.97 in test score which is much higher than I expeted. High R^2 score indicated that import can explain ~96% of variance in total variance. However, in the formula of GDP, import is only one of the variables. Due to the prefrence of import variable, I tested all other features in df_shark and compare their result by using Linear Regression. "
   ]
  },
  {
   "cell_type": "markdown",
   "metadata": {},
   "source": [
    "## One feature <a name='one-feature'></a>"
   ]
  },
  {
   "cell_type": "markdown",
   "metadata": {},
   "source": [
    "### Import-Linear Regression"
   ]
  },
  {
   "cell_type": "code",
   "execution_count": null,
   "metadata": {},
   "outputs": [],
   "source": [
    "# Select the X and y\n",
    "X = df_shark[['import']]\n",
    "y = df_shark['GDP']"
   ]
  },
  {
   "cell_type": "code",
   "execution_count": null,
   "metadata": {},
   "outputs": [],
   "source": [
    "X.shape"
   ]
  },
  {
   "cell_type": "code",
   "execution_count": null,
   "metadata": {},
   "outputs": [],
   "source": [
    "y.shape"
   ]
  },
  {
   "cell_type": "code",
   "execution_count": null,
   "metadata": {},
   "outputs": [],
   "source": [
    "# Define a function of linear regression to avoid the duplicate work\n",
    "def linear_reg(X_var,y_var):\n",
    "    # train test split the data\n",
    "    X_var_train, X_var_test, y_var_train,y_var_test = train_test_split(X_var,y_var,\n",
    "                                                       random_state = 4)\n",
    "\n",
    "    # Initiate model\n",
    "    lr = LinearRegression()\n",
    "\n",
    "    # fit the model\n",
    "    model = lr.fit(X_var_train, y_var_train)\n",
    "\n",
    "    # Get the predict \n",
    "    lr_y_var_hat_train = model.predict(X_var_train)\n",
    "    lr_y_var_hat_test = model.predict(X_var_test)\n",
    "\n",
    "    # Score the predict\n",
    "    print(\"(lr)R^2 Train score: \",r2_score(y_var_train,lr_y_var_hat_train))\n",
    "    print(\"(lr)R^2 Test score: \",r2_score(y_var_test, lr_y_var_hat_test))\n",
    "    return"
   ]
  },
  {
   "cell_type": "code",
   "execution_count": null,
   "metadata": {},
   "outputs": [],
   "source": [
    "linear_reg(X,y)"
   ]
  },
  {
   "cell_type": "markdown",
   "metadata": {},
   "source": [
    "### Import-Lasso"
   ]
  },
  {
   "cell_type": "code",
   "execution_count": null,
   "metadata": {},
   "outputs": [],
   "source": [
    "def lasso(X_var,y_var):\n",
    "    # train test split the data\n",
    "    X_var_train, X_var_test, y_var_train,y_var_test = train_test_split(X_var,y_var,\n",
    "                                                       random_state = 4)\n",
    "    \n",
    "    # Standard Scale the train and test of X\n",
    "    # use ss is to let every data become unitless \n",
    "    ss = StandardScaler()\n",
    "\n",
    "    #use \n",
    "    ss.fit(X_var_train)\n",
    "    X_var_train_ss = ss.transform(X_var_train)\n",
    "    X_var_test_ss = ss.transform(X_var_test)\n",
    "    # Create lasso regression with some possible alpha values\n",
    "    lasso = LassoCV(alphas=[0.01,0.1,1,5,10,100,1000,2000,\n",
    "                            3000,4000,5000,10000], cv =5)\n",
    "\n",
    "    # Fit the linear regression\n",
    "    lasso_model = lasso.fit(X_var_train_ss , y_var_train)\n",
    "\n",
    "    #Generate predictions\n",
    "    y_hat_lasso_train_var = lasso_model.predict(X_var_train_ss)\n",
    "    y_hat_lasso_test_var = lasso_model.predict(X_var_test_ss)\n",
    "\n",
    "    # calculate teh R^2 score\n",
    "    print(\"(lasso)R^2 Train score: \",r2_score(y_var_train, y_hat_lasso_train_var))\n",
    "    print(\"(lasso)R^2 Test score: \",r2_score(y_var_test, y_hat_lasso_test_var))"
   ]
  },
  {
   "cell_type": "code",
   "execution_count": null,
   "metadata": {},
   "outputs": [],
   "source": [
    "lasso(X,y)"
   ]
  },
  {
   "cell_type": "markdown",
   "metadata": {},
   "source": [
    "### Import-Ridge"
   ]
  },
  {
   "cell_type": "code",
   "execution_count": null,
   "metadata": {},
   "outputs": [],
   "source": [
    "def ridge(X_var,y_var):\n",
    "    # train test split the data\n",
    "    X_var_train, X_var_test, y_var_train,y_var_test = train_test_split(X_var,y_var,\n",
    "                                                       random_state = 4)\n",
    "    \n",
    "    # Standard Scale the train and test of X\n",
    "    # use ss is to let every data become unitless \n",
    "    ss = StandardScaler()\n",
    "\n",
    "    #use \n",
    "    ss.fit(X_var_train)\n",
    "    X_var_train_ss = ss.transform(X_var_train)\n",
    "    X_var_test_ss = ss.transform(X_var_test)\n",
    "    \n",
    "    # Create ridge regression with some possible alpha values\n",
    "    ridge = RidgeCV(alphas=[0.01,1,5,10,100,1000,2000,\n",
    "                            3000,4000,5000,10000], cv =5)\n",
    "\n",
    "    # Fit the linear regression\n",
    "    ridge_model = ridge.fit(X_var_train_ss , y_var_train)\n",
    "\n",
    "    #Generate predictions\n",
    "    y_hat_ridge_train_var = ridge_model.predict(X_var_train_ss)\n",
    "    y_hat_ridge_test_var = ridge_model.predict(X_var_test_ss)\n",
    "\n",
    "    # calculate teh R^2 score\n",
    "    print(\"(ridge)R^2 Train score: \",r2_score(y_var_train, y_hat_ridge_train_var))\n",
    "    print(\"(ridge)R^2 Test score: \",r2_score(y_var_test, y_hat_ridge_test_var))"
   ]
  },
  {
   "cell_type": "code",
   "execution_count": null,
   "metadata": {},
   "outputs": [],
   "source": [
    "ridge(X,y)"
   ]
  },
  {
   "cell_type": "markdown",
   "metadata": {},
   "source": [
    "### Import-Random Forest Regressor"
   ]
  },
  {
   "cell_type": "code",
   "execution_count": null,
   "metadata": {},
   "outputs": [],
   "source": [
    "def random_forset(X_var,y_var):\n",
    "    # train test split the data\n",
    "    X_var_train, X_var_test, y_var_train,y_var_test = train_test_split(X_var,y_var,\n",
    "                                                       random_state = 4)\n",
    "    \n",
    "    # Standard Scale the train and test of X\n",
    "    # use ss is to let every data become unitless \n",
    "    ss = StandardScaler()\n",
    "\n",
    "    #use \n",
    "    ss.fit(X_var_train)\n",
    "    X_var_train_ss = ss.transform(X_var_train)\n",
    "    X_var_test_ss = ss.transform(X_var_test)\n",
    "\n",
    "    # Tune GridSearchCV and use param_grid to get the best grid\n",
    "    pipe_params={\n",
    "        'bootstrap':[True,False],\n",
    "        'max_depth': [None,3,4,5],\n",
    "        'min_samples_leaf':[1,2,3,4]\n",
    "    }\n",
    "    # Initiate random forest model in GridSearchCV\n",
    "    gs = GridSearchCV(RandomForestRegressor(n_estimators = 100), param_grid = pipe_params, cv=3)\n",
    "\n",
    "    # fit the model\n",
    "    gs_model = gs.fit(X_var_train_ss, y_var_train)\n",
    "\n",
    "    # Generate the predict.\n",
    "    y_hat_var_rf_train = gs_model.predict(X_var_train_ss)\n",
    "    y_hat_var_rf_test = gs_model.predict(X_var_test_ss)\n",
    "\n",
    "    # Calculate the R^2 score.\n",
    "    print(\"(rf)R^2 Train score: \",r2_score(y_var_train, y_hat_var_rf_train))\n",
    "    print(\"(rf)R^2 Test score: \",r2_score(y_var_test, y_hat_var_rf_test))"
   ]
  },
  {
   "cell_type": "code",
   "execution_count": null,
   "metadata": {},
   "outputs": [],
   "source": [
    "random_forset(X,y)"
   ]
  },
  {
   "cell_type": "markdown",
   "metadata": {},
   "source": [
    "## Other Features Tested by Linear Regression <a name='other-features'></a>"
   ]
  },
  {
   "cell_type": "code",
   "execution_count": null,
   "metadata": {},
   "outputs": [],
   "source": [
    "# Set the X to year\n",
    "X1 = df_shark[['year']]\n",
    "y = df_shark['GDP']\n",
    "\n",
    "# Run the linear_reg funtion to get the R^2 score\n",
    "linear_reg(X1,y)"
   ]
  },
  {
   "cell_type": "code",
   "execution_count": null,
   "metadata": {},
   "outputs": [],
   "source": [
    "df_shark.columns"
   ]
  },
  {
   "cell_type": "code",
   "execution_count": null,
   "metadata": {},
   "outputs": [],
   "source": [
    "# Set X to population\n",
    "X2 = df_shark[['population']]\n",
    "\n",
    "# Run the linear_reg funtion to get the R^2 score\n",
    "linear_reg(X2,y)"
   ]
  },
  {
   "cell_type": "code",
   "execution_count": null,
   "metadata": {},
   "outputs": [],
   "source": [
    "# Set X to inv_to\n",
    "X3 = df_shark[['inv']]\n",
    "\n",
    "# Run the linear_reg funtion to get the R^2 score\n",
    "linear_reg(X3,y)"
   ]
  },
  {
   "cell_type": "code",
   "execution_count": null,
   "metadata": {},
   "outputs": [],
   "source": [
    "# Set X to export\n",
    "X4 = df_shark[['export']]\n",
    "\n",
    "# Run the linear_reg funtion to get the R^2 score\n",
    "linear_reg(X4,y)"
   ]
  },
  {
   "cell_type": "code",
   "execution_count": null,
   "metadata": {},
   "outputs": [],
   "source": [
    "# Set X to employee\n",
    "X5 = df_shark[['employee']]\n",
    "\n",
    "# Run the linear_reg funtion to get the R^2 score\n",
    "linear_reg(X5,y)"
   ]
  },
  {
   "cell_type": "code",
   "execution_count": null,
   "metadata": {
    "scrolled": true
   },
   "outputs": [],
   "source": [
    "# Set X to balance\n",
    "X6 = df_shark[['trade_balance']]\n",
    "\n",
    "# Run the linear_reg funtion to get the R^2 score\n",
    "linear_reg(X6,y)"
   ]
  },
  {
   "cell_type": "markdown",
   "metadata": {},
   "source": [
    "# Model Selection <a name='model-selection'></a>"
   ]
  },
  {
   "cell_type": "markdown",
   "metadata": {},
   "source": [
    "## Three Features Model <a name='3-features'></a>"
   ]
  },
  {
   "cell_type": "code",
   "execution_count": null,
   "metadata": {},
   "outputs": [],
   "source": [
    "# Set the X\n",
    "X7 = df_shark[['trade_balance','inv','population']]\n",
    "\n",
    "# Linear Regression\n",
    "linear_reg(X7,y)"
   ]
  },
  {
   "cell_type": "code",
   "execution_count": null,
   "metadata": {},
   "outputs": [],
   "source": [
    "# Lasso\n",
    "lasso(X7,y)"
   ]
  },
  {
   "cell_type": "code",
   "execution_count": null,
   "metadata": {},
   "outputs": [],
   "source": [
    "# Ridge\n",
    "ridge(X7,y)"
   ]
  },
  {
   "cell_type": "code",
   "execution_count": null,
   "metadata": {},
   "outputs": [],
   "source": [
    "# Random Forest\n",
    "random_forset(X7,y)"
   ]
  },
  {
   "cell_type": "markdown",
   "metadata": {},
   "source": [
    "## Five Features Model<a name='5-features'></a>"
   ]
  },
  {
   "cell_type": "code",
   "execution_count": null,
   "metadata": {},
   "outputs": [],
   "source": [
    "# Set the X\n",
    "X8 = df_shark[['trade_balance','year','inv','population','employee']]"
   ]
  },
  {
   "cell_type": "code",
   "execution_count": null,
   "metadata": {},
   "outputs": [],
   "source": [
    "# Linear Regression\n",
    "linear_reg(X8,y)"
   ]
  },
  {
   "cell_type": "code",
   "execution_count": null,
   "metadata": {
    "scrolled": true
   },
   "outputs": [],
   "source": [
    "# Lasso\n",
    "lasso(X8,y)"
   ]
  },
  {
   "cell_type": "code",
   "execution_count": null,
   "metadata": {},
   "outputs": [],
   "source": [
    "# Ridge\n",
    "ridge(X8,y)"
   ]
  },
  {
   "cell_type": "code",
   "execution_count": null,
   "metadata": {},
   "outputs": [],
   "source": [
    "# Random Forest\n",
    "random_forset(X8,y)"
   ]
  },
  {
   "cell_type": "markdown",
   "metadata": {},
   "source": [
    "# Conclusion <a name='conclusion'></a>"
   ]
  },
  {
   "cell_type": "markdown",
   "metadata": {},
   "source": [
    "First, since 2009, except for 2009, the growth trend of GDP and total imports has increased. The huge decline in 2009 was due to the financial crisis that began in the United States and the global economic recession that caused the world's economic recession. Export trends fell twice in 2009 and 2015 to 2016. For the year 2015 to 2016, the weak global economy and the strengthening of the US dollar, exports have fallen, making US goods and services more expensive. Second, the ridge model with five features, which include 'trade_balance', 'year', 'inv', 'population', and 'employee', worked the best. It showed 99 percent of the GDP can be explained by the model.  "
   ]
  },
  {
   "cell_type": "markdown",
   "metadata": {},
   "source": [
    "# Future Improvement <a name='future-improve'></a>"
   ]
  },
  {
   "cell_type": "markdown",
   "metadata": {},
   "source": [
    "The GDP is so correlated to import, I don't why for now. But I do need to keep learning more about their relationship. "
   ]
  },
  {
   "cell_type": "markdown",
   "metadata": {},
   "source": [
    "# Resource <a name='resource'> </a>\n",
    "\n",
    "- GDP: https://www.bea.gov/data/gdp/gdp-industry\n",
    "\n",
    "- GDP Calculate: \n",
    "    - https://courses.lumenlearning.com/boundless-economics/chapter/comparing-real-and-nominal-gdp/\n",
    "    - https://www.slideshare.net/syler333/balance-of-payments-46077319\n",
    "    - https://www.thebalance.com/what-is-gdp-definition-of-gross-domestic-product-3306038\n",
    "\n",
    "- GDP affect factors: https://blog.marketresearch.com/the-growing-pharmaceuticals-market-expert-forecasts-and-analysis\n",
    "\n",
    "- investment from/to abroad: https://www.bea.gov/data/intl-trade-investment/direct-investment-country-and-industry\n",
    "\n",
    "- Import/Export: https://www.census.gov/foreign-trade/index.html\n",
    "\n",
    "- Employee: https://www.bls.gov/cps/aa2012/cpsaat18b.htm\n",
    "\n",
    "- US population: https://data.worldbank.org/indicator/SP.POP.TOTL?locations=US\n",
    "- Economic drop: \n",
    "    - https://www.marketwatch.com/story/us-exports-fall-in-2015-for-first-time-since-recession-2016-02-05\n",
    "    - https://www.forbes.com/2009/01/14/global-recession-2009-oped-cx_nr_0115roubini.html#49d387e5185f"
   ]
  },
  {
   "cell_type": "code",
   "execution_count": null,
   "metadata": {},
   "outputs": [],
   "source": []
  }
 ],
 "metadata": {
  "kernelspec": {
   "display_name": "Python 3",
   "language": "python",
   "name": "python3"
  },
  "language_info": {
   "codemirror_mode": {
    "name": "ipython",
    "version": 3
   },
   "file_extension": ".py",
   "mimetype": "text/x-python",
   "name": "python",
   "nbconvert_exporter": "python",
   "pygments_lexer": "ipython3",
   "version": "3.7.2"
  }
 },
 "nbformat": 4,
 "nbformat_minor": 2
}
