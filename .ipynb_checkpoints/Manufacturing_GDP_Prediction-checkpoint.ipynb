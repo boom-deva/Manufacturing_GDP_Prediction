{
 "cells": [
  {
   "cell_type": "code",
   "execution_count": 4,
   "metadata": {},
   "outputs": [],
   "source": [
    "import matplotlib.pyplot as plt\n",
    "import pandas as pd\n",
    "import numpy as np\n",
    "import seaborn as sns\n",
    "\n",
    "from sklearn.linear_model import LinearRegression, LassoCV, RidgeCV, ElasticNet\n",
    "from sklearn.metrics import r2_score, mean_squared_error\n",
    "from sklearn.model_selection import train_test_split,GridSearchCV\n",
    "from sklearn.preprocessing import StandardScaler\n",
    "\n",
    "from sklearn.ensemble import AdaBoostRegressor\n",
    "from sklearn.ensemble import RandomForestRegressor\n",
    "\n",
    "%matplotlib inline"
   ]
  },
  {
   "cell_type": "markdown",
   "metadata": {},
   "source": [
    "# Table of content\n",
    "- [Data Preprocessing](#data-preprocessing)\n",
    "    - [GDP-Major Industry from 1997 to 2018](#gdp-major-97-18)\n",
    "    - [Trade Balance](#trade-balance)\n",
    "        - [Import](#import)\n",
    "        - [Export](#export)\n",
    "    - [Investment](#investment)\n",
    "        - [Investment to abroad](#inv-to-abroad)\n",
    "        - [Investment from abroad](#inv-from-abroad)\n",
    "    - [US Population](#us-population)\n",
    "    - [Empolyment](#employment)\n",
    "- [Merge Data](#merge)\n",
    "- [Exploratory Data Analysis](#eda)\n",
    "- [Feature Selection](#feature-selection)\n",
    "    - [One Feature](#one-feature)\n",
    "    - [Other Feature Tested by Linear Regression](#other-features)\n",
    "- [Model Selection](#model-selection)\n",
    "    - [Three Features Model](#3-features)\n",
    "    - [Five Features Model](#5-features)\n",
    "- [Conclusion](#conclusion)\n",
    "- [Resource](#resource)"
   ]
  },
  {
   "cell_type": "markdown",
   "metadata": {},
   "source": [
    "# Data Preprocessing<a name=\"data-preprocessing\"></a> "
   ]
  },
  {
   "cell_type": "markdown",
   "metadata": {},
   "source": [
    "In order to predict the GDP, I did some study and decided which features may affect the GDP of Manufacturing Industry and make sure I can gather them from the government open source websites. Thus, the data were from multiple sources with diversity formats. In this case, I preprocessed all the data and changed the index to be equal to the year. Then I merged all the data together for exploring data analysis."
   ]
  },
  {
   "cell_type": "markdown",
   "metadata": {},
   "source": [
    "### GDP-Major Industry from 1997 to 2018<a name=\"gdp-major-97-18\"></a>"
   ]
  },
  {
   "cell_type": "markdown",
   "metadata": {},
   "source": [
    "Historical GDP data is from the US Bureau of Economic Analysis. The data is the GDP of all major industries between 1997 to 2018. The following step is the preprocess. First of all, the \"U.Value by Industry\" column contains information such as the data frame source, units (billions of dollars) and index lines. I don't want this information show in my data, so I dropped the column. Then, I checked for missing data and delete multiple rows with no information. I want the index to be years, so I set the name of the column equal to the year. Use a row to convert the column and reset the index to year. Finally, I renamed the column name and added a source to indicate its source."
   ]
  },
  {
   "cell_type": "code",
   "execution_count": 5,
   "metadata": {},
   "outputs": [],
   "source": [
    "# Load the data\n",
    "gdp_97_18 = pd.read_excel('./data/Gross_domestic_product(GDP).xls')"
   ]
  },
  {
   "cell_type": "code",
   "execution_count": 6,
   "metadata": {},
   "outputs": [
    {
     "data": {
      "text/html": [
       "<div>\n",
       "<style scoped>\n",
       "    .dataframe tbody tr th:only-of-type {\n",
       "        vertical-align: middle;\n",
       "    }\n",
       "\n",
       "    .dataframe tbody tr th {\n",
       "        vertical-align: top;\n",
       "    }\n",
       "\n",
       "    .dataframe thead th {\n",
       "        text-align: right;\n",
       "    }\n",
       "</style>\n",
       "<table border=\"1\" class=\"dataframe\">\n",
       "  <thead>\n",
       "    <tr style=\"text-align: right;\">\n",
       "      <th></th>\n",
       "      <th>SAGDP2N Gross domestic product (GDP) by state 1/</th>\n",
       "      <th>Unnamed: 1</th>\n",
       "      <th>Unnamed: 2</th>\n",
       "      <th>Unnamed: 3</th>\n",
       "      <th>Unnamed: 4</th>\n",
       "      <th>Unnamed: 5</th>\n",
       "      <th>Unnamed: 6</th>\n",
       "      <th>Unnamed: 7</th>\n",
       "      <th>Unnamed: 8</th>\n",
       "      <th>Unnamed: 9</th>\n",
       "      <th>...</th>\n",
       "      <th>Unnamed: 16</th>\n",
       "      <th>Unnamed: 17</th>\n",
       "      <th>Unnamed: 18</th>\n",
       "      <th>Unnamed: 19</th>\n",
       "      <th>Unnamed: 20</th>\n",
       "      <th>Unnamed: 21</th>\n",
       "      <th>Unnamed: 22</th>\n",
       "      <th>Unnamed: 23</th>\n",
       "      <th>Unnamed: 24</th>\n",
       "      <th>Unnamed: 25</th>\n",
       "    </tr>\n",
       "  </thead>\n",
       "  <tbody>\n",
       "    <tr>\n",
       "      <th>0</th>\n",
       "      <td>(Millions of current dollars)</td>\n",
       "      <td>NaN</td>\n",
       "      <td>NaN</td>\n",
       "      <td>NaN</td>\n",
       "      <td>NaN</td>\n",
       "      <td>NaN</td>\n",
       "      <td>NaN</td>\n",
       "      <td>NaN</td>\n",
       "      <td>NaN</td>\n",
       "      <td>NaN</td>\n",
       "      <td>...</td>\n",
       "      <td>NaN</td>\n",
       "      <td>NaN</td>\n",
       "      <td>NaN</td>\n",
       "      <td>NaN</td>\n",
       "      <td>NaN</td>\n",
       "      <td>NaN</td>\n",
       "      <td>NaN</td>\n",
       "      <td>NaN</td>\n",
       "      <td>NaN</td>\n",
       "      <td>NaN</td>\n",
       "    </tr>\n",
       "    <tr>\n",
       "      <th>1</th>\n",
       "      <td>Bureau of Economic Analysis</td>\n",
       "      <td>NaN</td>\n",
       "      <td>NaN</td>\n",
       "      <td>NaN</td>\n",
       "      <td>NaN</td>\n",
       "      <td>NaN</td>\n",
       "      <td>NaN</td>\n",
       "      <td>NaN</td>\n",
       "      <td>NaN</td>\n",
       "      <td>NaN</td>\n",
       "      <td>...</td>\n",
       "      <td>NaN</td>\n",
       "      <td>NaN</td>\n",
       "      <td>NaN</td>\n",
       "      <td>NaN</td>\n",
       "      <td>NaN</td>\n",
       "      <td>NaN</td>\n",
       "      <td>NaN</td>\n",
       "      <td>NaN</td>\n",
       "      <td>NaN</td>\n",
       "      <td>NaN</td>\n",
       "    </tr>\n",
       "    <tr>\n",
       "      <th>2</th>\n",
       "      <td>State or DC</td>\n",
       "      <td>NaN</td>\n",
       "      <td>NaN</td>\n",
       "      <td>NaN</td>\n",
       "      <td>NaN</td>\n",
       "      <td>NaN</td>\n",
       "      <td>NaN</td>\n",
       "      <td>NaN</td>\n",
       "      <td>NaN</td>\n",
       "      <td>NaN</td>\n",
       "      <td>...</td>\n",
       "      <td>NaN</td>\n",
       "      <td>NaN</td>\n",
       "      <td>NaN</td>\n",
       "      <td>NaN</td>\n",
       "      <td>NaN</td>\n",
       "      <td>NaN</td>\n",
       "      <td>NaN</td>\n",
       "      <td>NaN</td>\n",
       "      <td>NaN</td>\n",
       "      <td>NaN</td>\n",
       "    </tr>\n",
       "    <tr>\n",
       "      <th>3</th>\n",
       "      <td>NaN</td>\n",
       "      <td>NaN</td>\n",
       "      <td>NaN</td>\n",
       "      <td>NaN</td>\n",
       "      <td>NaN</td>\n",
       "      <td>NaN</td>\n",
       "      <td>NaN</td>\n",
       "      <td>NaN</td>\n",
       "      <td>NaN</td>\n",
       "      <td>NaN</td>\n",
       "      <td>...</td>\n",
       "      <td>NaN</td>\n",
       "      <td>NaN</td>\n",
       "      <td>NaN</td>\n",
       "      <td>NaN</td>\n",
       "      <td>NaN</td>\n",
       "      <td>NaN</td>\n",
       "      <td>NaN</td>\n",
       "      <td>NaN</td>\n",
       "      <td>NaN</td>\n",
       "      <td>NaN</td>\n",
       "    </tr>\n",
       "    <tr>\n",
       "      <th>4</th>\n",
       "      <td>GeoFips</td>\n",
       "      <td>GeoName</td>\n",
       "      <td>LineCode</td>\n",
       "      <td>Description</td>\n",
       "      <td>1997.0</td>\n",
       "      <td>1998.0</td>\n",
       "      <td>1999.0</td>\n",
       "      <td>2000.0</td>\n",
       "      <td>2001.0</td>\n",
       "      <td>2002.0</td>\n",
       "      <td>...</td>\n",
       "      <td>2009.0</td>\n",
       "      <td>2010.0</td>\n",
       "      <td>2011.0</td>\n",
       "      <td>2012.0</td>\n",
       "      <td>2013.0</td>\n",
       "      <td>2014.0</td>\n",
       "      <td>2015.0</td>\n",
       "      <td>2016.0</td>\n",
       "      <td>2017.0</td>\n",
       "      <td>2018</td>\n",
       "    </tr>\n",
       "  </tbody>\n",
       "</table>\n",
       "<p>5 rows × 26 columns</p>\n",
       "</div>"
      ],
      "text/plain": [
       "  SAGDP2N Gross domestic product (GDP) by state 1/ Unnamed: 1 Unnamed: 2  \\\n",
       "0                    (Millions of current dollars)        NaN        NaN   \n",
       "1                      Bureau of Economic Analysis        NaN        NaN   \n",
       "2                                      State or DC        NaN        NaN   \n",
       "3                                              NaN        NaN        NaN   \n",
       "4                                          GeoFips    GeoName   LineCode   \n",
       "\n",
       "    Unnamed: 3  Unnamed: 4  Unnamed: 5  Unnamed: 6  Unnamed: 7  Unnamed: 8  \\\n",
       "0          NaN         NaN         NaN         NaN         NaN         NaN   \n",
       "1          NaN         NaN         NaN         NaN         NaN         NaN   \n",
       "2          NaN         NaN         NaN         NaN         NaN         NaN   \n",
       "3          NaN         NaN         NaN         NaN         NaN         NaN   \n",
       "4  Description      1997.0      1998.0      1999.0      2000.0      2001.0   \n",
       "\n",
       "   Unnamed: 9  ...  Unnamed: 16  Unnamed: 17  Unnamed: 18  Unnamed: 19  \\\n",
       "0         NaN  ...          NaN          NaN          NaN          NaN   \n",
       "1         NaN  ...          NaN          NaN          NaN          NaN   \n",
       "2         NaN  ...          NaN          NaN          NaN          NaN   \n",
       "3         NaN  ...          NaN          NaN          NaN          NaN   \n",
       "4      2002.0  ...       2009.0       2010.0       2011.0       2012.0   \n",
       "\n",
       "   Unnamed: 20  Unnamed: 21  Unnamed: 22  Unnamed: 23  Unnamed: 24  \\\n",
       "0          NaN          NaN          NaN          NaN          NaN   \n",
       "1          NaN          NaN          NaN          NaN          NaN   \n",
       "2          NaN          NaN          NaN          NaN          NaN   \n",
       "3          NaN          NaN          NaN          NaN          NaN   \n",
       "4       2013.0       2014.0       2015.0       2016.0       2017.0   \n",
       "\n",
       "   Unnamed: 25  \n",
       "0          NaN  \n",
       "1          NaN  \n",
       "2          NaN  \n",
       "3          NaN  \n",
       "4         2018  \n",
       "\n",
       "[5 rows x 26 columns]"
      ]
     },
     "execution_count": 6,
     "metadata": {},
     "output_type": "execute_result"
    }
   ],
   "source": [
    "# Check the head of the data. The unit is Millions of current dollars.\n",
    "gdp_97_18.head(5)"
   ]
  },
  {
   "cell_type": "code",
   "execution_count": 7,
   "metadata": {},
   "outputs": [],
   "source": [
    "# Select the Total GDP and Manufacturing\n",
    "gdp_97_18 = gdp_97_18.loc[[5,16]]"
   ]
  },
  {
   "cell_type": "code",
   "execution_count": 8,
   "metadata": {},
   "outputs": [],
   "source": [
    "# Remove the first 3 columns.\n",
    "gdp_97_18 = gdp_97_18.drop(columns = ['SAGDP2N Gross domestic product (GDP) by state 1/',\n",
    "                         'Unnamed: 1','Unnamed: 2'])"
   ]
  },
  {
   "cell_type": "code",
   "execution_count": 9,
   "metadata": {},
   "outputs": [],
   "source": [
    "# Rename the columns to year.\n",
    "gdp_97_18.columns = ['Year',1997,1998,1999,2000,2001,2002,2003,2004,\n",
    "                     2005,2006,2007,2008,2009,2010,2011,2012,2013,2014,\n",
    "                    2015,2016,2017,2018]"
   ]
  },
  {
   "cell_type": "code",
   "execution_count": 10,
   "metadata": {},
   "outputs": [],
   "source": [
    "# Convert the row with column.\n",
    "gdp_97_18 = gdp_97_18.T"
   ]
  },
  {
   "cell_type": "code",
   "execution_count": 11,
   "metadata": {},
   "outputs": [],
   "source": [
    "# Rename the columns with total gdp and manufacturing. \n",
    "gdp_97_18.columns = ['total GDP','manufacturing GDP']"
   ]
  },
  {
   "cell_type": "code",
   "execution_count": 12,
   "metadata": {},
   "outputs": [],
   "source": [
    "# Remove the first row.\n",
    "gdp_97_18 = gdp_97_18[1:]"
   ]
  },
  {
   "cell_type": "code",
   "execution_count": 13,
   "metadata": {},
   "outputs": [],
   "source": [
    "gdp_97_18_m = gdp_97_18[['manufacturing GDP']]"
   ]
  },
  {
   "cell_type": "code",
   "execution_count": 14,
   "metadata": {},
   "outputs": [],
   "source": [
    "gdp_97_18_m = gdp_97_18_m*1_000_000"
   ]
  },
  {
   "cell_type": "markdown",
   "metadata": {},
   "source": [
    "# Trade Balance<a name='trade-balance'></a>"
   ]
  },
  {
   "cell_type": "markdown",
   "metadata": {},
   "source": [
    "## Import<a name ='import'></a>"
   ]
  },
  {
   "cell_type": "markdown",
   "metadata": {},
   "source": [
    "The import data has detail information of all the country contribute to the import between 2002 to 2018. Remove the first two no information rows, and the bottom rows with the note of the data. Reset the column name to year, and then convert the columns with rows for merging."
   ]
  },
  {
   "cell_type": "code",
   "execution_count": 15,
   "metadata": {},
   "outputs": [
    {
     "data": {
      "text/html": [
       "<div>\n",
       "<style scoped>\n",
       "    .dataframe tbody tr th:only-of-type {\n",
       "        vertical-align: middle;\n",
       "    }\n",
       "\n",
       "    .dataframe tbody tr th {\n",
       "        vertical-align: top;\n",
       "    }\n",
       "\n",
       "    .dataframe thead th {\n",
       "        text-align: right;\n",
       "    }\n",
       "</style>\n",
       "<table border=\"1\" class=\"dataframe\">\n",
       "  <thead>\n",
       "    <tr style=\"text-align: right;\">\n",
       "      <th></th>\n",
       "      <th>2018 Imports of NAICS MANUFACTURES</th>\n",
       "      <th>Unnamed: 1</th>\n",
       "      <th>Unnamed: 2</th>\n",
       "      <th>Unnamed: 3</th>\n",
       "      <th>Unnamed: 4</th>\n",
       "      <th>Unnamed: 5</th>\n",
       "      <th>Unnamed: 6</th>\n",
       "      <th>Unnamed: 7</th>\n",
       "      <th>Unnamed: 8</th>\n",
       "      <th>Unnamed: 9</th>\n",
       "      <th>Unnamed: 10</th>\n",
       "      <th>Unnamed: 11</th>\n",
       "      <th>Unnamed: 12</th>\n",
       "      <th>Unnamed: 13</th>\n",
       "      <th>Unnamed: 14</th>\n",
       "      <th>Unnamed: 15</th>\n",
       "      <th>Unnamed: 16</th>\n",
       "      <th>Unnamed: 17</th>\n",
       "    </tr>\n",
       "  </thead>\n",
       "  <tbody>\n",
       "    <tr>\n",
       "      <th>0</th>\n",
       "      <td>NaN</td>\n",
       "      <td>NaN</td>\n",
       "      <td>NaN</td>\n",
       "      <td>NaN</td>\n",
       "      <td>NaN</td>\n",
       "      <td>NaN</td>\n",
       "      <td>NaN</td>\n",
       "      <td>NaN</td>\n",
       "      <td>NaN</td>\n",
       "      <td>NaN</td>\n",
       "      <td>NaN</td>\n",
       "      <td>NaN</td>\n",
       "      <td>NaN</td>\n",
       "      <td>NaN</td>\n",
       "      <td>NaN</td>\n",
       "      <td>NaN</td>\n",
       "      <td>NaN</td>\n",
       "      <td>NaN</td>\n",
       "    </tr>\n",
       "    <tr>\n",
       "      <th>1</th>\n",
       "      <td>NaN</td>\n",
       "      <td>NaN</td>\n",
       "      <td>NaN</td>\n",
       "      <td>NaN</td>\n",
       "      <td>NaN</td>\n",
       "      <td>NaN</td>\n",
       "      <td>NaN</td>\n",
       "      <td>NaN</td>\n",
       "      <td>NaN</td>\n",
       "      <td>NaN</td>\n",
       "      <td>NaN</td>\n",
       "      <td>NaN</td>\n",
       "      <td>NaN</td>\n",
       "      <td>NaN</td>\n",
       "      <td>NaN</td>\n",
       "      <td>NaN</td>\n",
       "      <td>NaN</td>\n",
       "      <td>NaN</td>\n",
       "    </tr>\n",
       "    <tr>\n",
       "      <th>2</th>\n",
       "      <td>Partner</td>\n",
       "      <td>2.002000e+03</td>\n",
       "      <td>2.003000e+03</td>\n",
       "      <td>2.004000e+03</td>\n",
       "      <td>2.005000e+03</td>\n",
       "      <td>2.006000e+03</td>\n",
       "      <td>2.007000e+03</td>\n",
       "      <td>2.008000e+03</td>\n",
       "      <td>2.009000e+03</td>\n",
       "      <td>2.010000e+03</td>\n",
       "      <td>2.011000e+03</td>\n",
       "      <td>2.012000e+03</td>\n",
       "      <td>2.013000e+03</td>\n",
       "      <td>2.014000e+03</td>\n",
       "      <td>2.015000e+03</td>\n",
       "      <td>2.016000e+03</td>\n",
       "      <td>2.017000e+03</td>\n",
       "      <td>2.018000e+03</td>\n",
       "    </tr>\n",
       "    <tr>\n",
       "      <th>3</th>\n",
       "      <td>World</td>\n",
       "      <td>9.841624e+11</td>\n",
       "      <td>1.048359e+12</td>\n",
       "      <td>1.213831e+12</td>\n",
       "      <td>1.346674e+12</td>\n",
       "      <td>1.481720e+12</td>\n",
       "      <td>1.550860e+12</td>\n",
       "      <td>1.577506e+12</td>\n",
       "      <td>1.236411e+12</td>\n",
       "      <td>1.513075e+12</td>\n",
       "      <td>1.719886e+12</td>\n",
       "      <td>1.809100e+12</td>\n",
       "      <td>1.833984e+12</td>\n",
       "      <td>1.930685e+12</td>\n",
       "      <td>1.946797e+12</td>\n",
       "      <td>1.912135e+12</td>\n",
       "      <td>2.021560e+12</td>\n",
       "      <td>2.184416e+12</td>\n",
       "    </tr>\n",
       "    <tr>\n",
       "      <th>4</th>\n",
       "      <td>China</td>\n",
       "      <td>1.221195e+11</td>\n",
       "      <td>1.487016e+11</td>\n",
       "      <td>1.920967e+11</td>\n",
       "      <td>2.376894e+11</td>\n",
       "      <td>2.807631e+11</td>\n",
       "      <td>3.135744e+11</td>\n",
       "      <td>3.288596e+11</td>\n",
       "      <td>2.890899e+11</td>\n",
       "      <td>3.569435e+11</td>\n",
       "      <td>3.916142e+11</td>\n",
       "      <td>4.174162e+11</td>\n",
       "      <td>4.321008e+11</td>\n",
       "      <td>4.591827e+11</td>\n",
       "      <td>4.739173e+11</td>\n",
       "      <td>4.535835e+11</td>\n",
       "      <td>4.956759e+11</td>\n",
       "      <td>5.288119e+11</td>\n",
       "    </tr>\n",
       "  </tbody>\n",
       "</table>\n",
       "</div>"
      ],
      "text/plain": [
       "  2018 Imports of NAICS MANUFACTURES    Unnamed: 1    Unnamed: 2  \\\n",
       "0                                NaN           NaN           NaN   \n",
       "1                                NaN           NaN           NaN   \n",
       "2                            Partner  2.002000e+03  2.003000e+03   \n",
       "3                              World  9.841624e+11  1.048359e+12   \n",
       "4                              China  1.221195e+11  1.487016e+11   \n",
       "\n",
       "     Unnamed: 3    Unnamed: 4    Unnamed: 5    Unnamed: 6    Unnamed: 7  \\\n",
       "0           NaN           NaN           NaN           NaN           NaN   \n",
       "1           NaN           NaN           NaN           NaN           NaN   \n",
       "2  2.004000e+03  2.005000e+03  2.006000e+03  2.007000e+03  2.008000e+03   \n",
       "3  1.213831e+12  1.346674e+12  1.481720e+12  1.550860e+12  1.577506e+12   \n",
       "4  1.920967e+11  2.376894e+11  2.807631e+11  3.135744e+11  3.288596e+11   \n",
       "\n",
       "     Unnamed: 8    Unnamed: 9   Unnamed: 10   Unnamed: 11   Unnamed: 12  \\\n",
       "0           NaN           NaN           NaN           NaN           NaN   \n",
       "1           NaN           NaN           NaN           NaN           NaN   \n",
       "2  2.009000e+03  2.010000e+03  2.011000e+03  2.012000e+03  2.013000e+03   \n",
       "3  1.236411e+12  1.513075e+12  1.719886e+12  1.809100e+12  1.833984e+12   \n",
       "4  2.890899e+11  3.569435e+11  3.916142e+11  4.174162e+11  4.321008e+11   \n",
       "\n",
       "    Unnamed: 13   Unnamed: 14   Unnamed: 15   Unnamed: 16   Unnamed: 17  \n",
       "0           NaN           NaN           NaN           NaN           NaN  \n",
       "1           NaN           NaN           NaN           NaN           NaN  \n",
       "2  2.014000e+03  2.015000e+03  2.016000e+03  2.017000e+03  2.018000e+03  \n",
       "3  1.930685e+12  1.946797e+12  1.912135e+12  2.021560e+12  2.184416e+12  \n",
       "4  4.591827e+11  4.739173e+11  4.535835e+11  4.956759e+11  5.288119e+11  "
      ]
     },
     "execution_count": 15,
     "metadata": {},
     "output_type": "execute_result"
    }
   ],
   "source": [
    "# load import data\n",
    "import_02_18 = pd.read_excel('./data/Import_manuf_2002_2018.xlsx')\n",
    "import_02_18.head()"
   ]
  },
  {
   "cell_type": "code",
   "execution_count": 16,
   "metadata": {},
   "outputs": [],
   "source": [
    "# drop the frist 2 rows\n",
    "import_02_18 = import_02_18[3:241]"
   ]
  },
  {
   "cell_type": "code",
   "execution_count": 17,
   "metadata": {},
   "outputs": [],
   "source": [
    "# Rename the column\n",
    "new_col_list =['country_import']\n",
    "for i in range(2002,2019):\n",
    "    new_col_list.append(i)"
   ]
  },
  {
   "cell_type": "code",
   "execution_count": 18,
   "metadata": {},
   "outputs": [],
   "source": [
    "# Rename the column\n",
    "import_02_18.columns = new_col_list"
   ]
  },
  {
   "cell_type": "code",
   "execution_count": 19,
   "metadata": {},
   "outputs": [],
   "source": [
    "# Convert the row and column\n",
    "import_02_18t = import_02_18.T"
   ]
  },
  {
   "cell_type": "code",
   "execution_count": 20,
   "metadata": {},
   "outputs": [],
   "source": [
    "# convert the first row to column name\n",
    "import_02_18t.columns = [import_02_18t.iloc[0]]"
   ]
  },
  {
   "cell_type": "code",
   "execution_count": 21,
   "metadata": {},
   "outputs": [],
   "source": [
    "# Select the first level as the column name \n",
    "import_02_18t.columns = import_02_18t.columns.get_level_values(0)"
   ]
  },
  {
   "cell_type": "code",
   "execution_count": 22,
   "metadata": {},
   "outputs": [],
   "source": [
    "# Drop the first row\n",
    "import_02_18t = import_02_18t[1:]"
   ]
  },
  {
   "cell_type": "code",
   "execution_count": 23,
   "metadata": {},
   "outputs": [
    {
     "data": {
      "text/plain": [
       "(17, 238)"
      ]
     },
     "execution_count": 23,
     "metadata": {},
     "output_type": "execute_result"
    }
   ],
   "source": [
    "# Check the shape of clean import data\n",
    "import_02_18t.shape"
   ]
  },
  {
   "cell_type": "code",
   "execution_count": 24,
   "metadata": {},
   "outputs": [],
   "source": [
    "# Rename world to total_import\n",
    "import_02_18t = import_02_18t.rename(columns ={'World':'total_import'})"
   ]
  },
  {
   "cell_type": "markdown",
   "metadata": {},
   "source": [
    "## Export <a name='export'></a>"
   ]
  },
  {
   "cell_type": "markdown",
   "metadata": {},
   "source": [
    "The export data has detail information about the detail industries contribute to the export between 2002 to 2018. Reset the column name to year, and then convert the columns with rows. Remove the column with the note of data and columns with no information."
   ]
  },
  {
   "cell_type": "code",
   "execution_count": 25,
   "metadata": {},
   "outputs": [],
   "source": [
    "# load the export data\n",
    "export_02_18 = pd.read_excel('./data/Export_manuf_2002_2018.xlsx')"
   ]
  },
  {
   "cell_type": "code",
   "execution_count": 26,
   "metadata": {},
   "outputs": [
    {
     "data": {
      "text/html": [
       "<div>\n",
       "<style scoped>\n",
       "    .dataframe tbody tr th:only-of-type {\n",
       "        vertical-align: middle;\n",
       "    }\n",
       "\n",
       "    .dataframe tbody tr th {\n",
       "        vertical-align: top;\n",
       "    }\n",
       "\n",
       "    .dataframe thead th {\n",
       "        text-align: right;\n",
       "    }\n",
       "</style>\n",
       "<table border=\"1\" class=\"dataframe\">\n",
       "  <thead>\n",
       "    <tr style=\"text-align: right;\">\n",
       "      <th></th>\n",
       "      <th>Item</th>\n",
       "      <th>2002</th>\n",
       "      <th>2003</th>\n",
       "      <th>2004</th>\n",
       "      <th>2005</th>\n",
       "      <th>2006</th>\n",
       "      <th>2007</th>\n",
       "      <th>2008</th>\n",
       "      <th>2009</th>\n",
       "      <th>2010</th>\n",
       "      <th>2011</th>\n",
       "      <th>2012</th>\n",
       "      <th>2013</th>\n",
       "      <th>2014</th>\n",
       "      <th>2015</th>\n",
       "      <th>2016</th>\n",
       "      <th>2017</th>\n",
       "      <th>2018</th>\n",
       "    </tr>\n",
       "  </thead>\n",
       "  <tbody>\n",
       "    <tr>\n",
       "      <th>0</th>\n",
       "      <td>TOTAL</td>\n",
       "      <td>6.226282e+11</td>\n",
       "      <td>6.469938e+11</td>\n",
       "      <td>7.269821e+11</td>\n",
       "      <td>8.053010e+11</td>\n",
       "      <td>9.144265e+11</td>\n",
       "      <td>1.008773e+12</td>\n",
       "      <td>1.112277e+12</td>\n",
       "      <td>9.179452e+11</td>\n",
       "      <td>1.101356e+12</td>\n",
       "      <td>1.267996e+12</td>\n",
       "      <td>1.341398e+12</td>\n",
       "      <td>1.375170e+12</td>\n",
       "      <td>1.403782e+12</td>\n",
       "      <td>1.317019e+12</td>\n",
       "      <td>1.263659e+12</td>\n",
       "      <td>1.323272e+12</td>\n",
       "      <td>1.397032e+12</td>\n",
       "    </tr>\n",
       "    <tr>\n",
       "      <th>1</th>\n",
       "      <td>336--TRANSPORTATION EQUIPMENT</td>\n",
       "      <td>1.313658e+11</td>\n",
       "      <td>1.297915e+11</td>\n",
       "      <td>1.393141e+11</td>\n",
       "      <td>1.590484e+11</td>\n",
       "      <td>1.802604e+11</td>\n",
       "      <td>2.041235e+11</td>\n",
       "      <td>2.061453e+11</td>\n",
       "      <td>1.653751e+11</td>\n",
       "      <td>1.908867e+11</td>\n",
       "      <td>2.102768e+11</td>\n",
       "      <td>2.413369e+11</td>\n",
       "      <td>2.582860e+11</td>\n",
       "      <td>2.737838e+11</td>\n",
       "      <td>2.756434e+11</td>\n",
       "      <td>2.767096e+11</td>\n",
       "      <td>2.782994e+11</td>\n",
       "      <td>2.859498e+11</td>\n",
       "    </tr>\n",
       "    <tr>\n",
       "      <th>2</th>\n",
       "      <td>334--COMPUTER AND ELECTRONIC PRODUCTS</td>\n",
       "      <td>1.457929e+11</td>\n",
       "      <td>1.499638e+11</td>\n",
       "      <td>1.632066e+11</td>\n",
       "      <td>1.687082e+11</td>\n",
       "      <td>1.858328e+11</td>\n",
       "      <td>1.870470e+11</td>\n",
       "      <td>1.902817e+11</td>\n",
       "      <td>1.606278e+11</td>\n",
       "      <td>1.904353e+11</td>\n",
       "      <td>1.980354e+11</td>\n",
       "      <td>2.031637e+11</td>\n",
       "      <td>2.046397e+11</td>\n",
       "      <td>2.091226e+11</td>\n",
       "      <td>2.046973e+11</td>\n",
       "      <td>2.019351e+11</td>\n",
       "      <td>2.081260e+11</td>\n",
       "      <td>2.132158e+11</td>\n",
       "    </tr>\n",
       "    <tr>\n",
       "      <th>3</th>\n",
       "      <td>325--CHEMICALS</td>\n",
       "      <td>8.048871e+10</td>\n",
       "      <td>9.105409e+10</td>\n",
       "      <td>1.087217e+11</td>\n",
       "      <td>1.186327e+11</td>\n",
       "      <td>1.333280e+11</td>\n",
       "      <td>1.516802e+11</td>\n",
       "      <td>1.716421e+11</td>\n",
       "      <td>1.522551e+11</td>\n",
       "      <td>1.795022e+11</td>\n",
       "      <td>1.974735e+11</td>\n",
       "      <td>1.975292e+11</td>\n",
       "      <td>1.995017e+11</td>\n",
       "      <td>2.004074e+11</td>\n",
       "      <td>1.938342e+11</td>\n",
       "      <td>1.843873e+11</td>\n",
       "      <td>1.928204e+11</td>\n",
       "      <td>2.075045e+11</td>\n",
       "    </tr>\n",
       "    <tr>\n",
       "      <th>4</th>\n",
       "      <td>333--MACHINERY, EXCEPT ELECTRICAL</td>\n",
       "      <td>7.480456e+10</td>\n",
       "      <td>7.577736e+10</td>\n",
       "      <td>9.286031e+10</td>\n",
       "      <td>1.043947e+11</td>\n",
       "      <td>1.178050e+11</td>\n",
       "      <td>1.328307e+11</td>\n",
       "      <td>1.454312e+11</td>\n",
       "      <td>1.134158e+11</td>\n",
       "      <td>1.377996e+11</td>\n",
       "      <td>1.509173e+11</td>\n",
       "      <td>1.595478e+11</td>\n",
       "      <td>1.501391e+11</td>\n",
       "      <td>1.525873e+11</td>\n",
       "      <td>1.391009e+11</td>\n",
       "      <td>1.246790e+11</td>\n",
       "      <td>1.339522e+11</td>\n",
       "      <td>1.425783e+11</td>\n",
       "    </tr>\n",
       "  </tbody>\n",
       "</table>\n",
       "</div>"
      ],
      "text/plain": [
       "                                    Item          2002          2003  \\\n",
       "0                                  TOTAL  6.226282e+11  6.469938e+11   \n",
       "1          336--TRANSPORTATION EQUIPMENT  1.313658e+11  1.297915e+11   \n",
       "2  334--COMPUTER AND ELECTRONIC PRODUCTS  1.457929e+11  1.499638e+11   \n",
       "3                         325--CHEMICALS  8.048871e+10  9.105409e+10   \n",
       "4      333--MACHINERY, EXCEPT ELECTRICAL  7.480456e+10  7.577736e+10   \n",
       "\n",
       "           2004          2005          2006          2007          2008  \\\n",
       "0  7.269821e+11  8.053010e+11  9.144265e+11  1.008773e+12  1.112277e+12   \n",
       "1  1.393141e+11  1.590484e+11  1.802604e+11  2.041235e+11  2.061453e+11   \n",
       "2  1.632066e+11  1.687082e+11  1.858328e+11  1.870470e+11  1.902817e+11   \n",
       "3  1.087217e+11  1.186327e+11  1.333280e+11  1.516802e+11  1.716421e+11   \n",
       "4  9.286031e+10  1.043947e+11  1.178050e+11  1.328307e+11  1.454312e+11   \n",
       "\n",
       "           2009          2010          2011          2012          2013  \\\n",
       "0  9.179452e+11  1.101356e+12  1.267996e+12  1.341398e+12  1.375170e+12   \n",
       "1  1.653751e+11  1.908867e+11  2.102768e+11  2.413369e+11  2.582860e+11   \n",
       "2  1.606278e+11  1.904353e+11  1.980354e+11  2.031637e+11  2.046397e+11   \n",
       "3  1.522551e+11  1.795022e+11  1.974735e+11  1.975292e+11  1.995017e+11   \n",
       "4  1.134158e+11  1.377996e+11  1.509173e+11  1.595478e+11  1.501391e+11   \n",
       "\n",
       "           2014          2015          2016          2017          2018  \n",
       "0  1.403782e+12  1.317019e+12  1.263659e+12  1.323272e+12  1.397032e+12  \n",
       "1  2.737838e+11  2.756434e+11  2.767096e+11  2.782994e+11  2.859498e+11  \n",
       "2  2.091226e+11  2.046973e+11  2.019351e+11  2.081260e+11  2.132158e+11  \n",
       "3  2.004074e+11  1.938342e+11  1.843873e+11  1.928204e+11  2.075045e+11  \n",
       "4  1.525873e+11  1.391009e+11  1.246790e+11  1.339522e+11  1.425783e+11  "
      ]
     },
     "execution_count": 26,
     "metadata": {},
     "output_type": "execute_result"
    }
   ],
   "source": [
    "# Check the data \n",
    "export_02_18.head()"
   ]
  },
  {
   "cell_type": "code",
   "execution_count": 27,
   "metadata": {},
   "outputs": [],
   "source": [
    "# Convert the column and row\n",
    "export_02_18t = export_02_18[:26].T"
   ]
  },
  {
   "cell_type": "code",
   "execution_count": 28,
   "metadata": {},
   "outputs": [],
   "source": [
    "# Rename the column\n",
    "export_02_18t.columns = [export_02_18t.iloc[0]]"
   ]
  },
  {
   "cell_type": "code",
   "execution_count": 29,
   "metadata": {},
   "outputs": [],
   "source": [
    "# Drop the first row\n",
    "export_02_18t = export_02_18t[1:]"
   ]
  },
  {
   "cell_type": "code",
   "execution_count": 30,
   "metadata": {},
   "outputs": [
    {
     "data": {
      "text/html": [
       "<div>\n",
       "<style scoped>\n",
       "    .dataframe tbody tr th:only-of-type {\n",
       "        vertical-align: middle;\n",
       "    }\n",
       "\n",
       "    .dataframe tbody tr th {\n",
       "        vertical-align: top;\n",
       "    }\n",
       "\n",
       "    .dataframe thead tr th {\n",
       "        text-align: left;\n",
       "    }\n",
       "</style>\n",
       "<table border=\"1\" class=\"dataframe\">\n",
       "  <thead>\n",
       "    <tr>\n",
       "      <th>Item</th>\n",
       "      <th>TOTAL</th>\n",
       "      <th>336--TRANSPORTATION EQUIPMENT</th>\n",
       "      <th>334--COMPUTER AND ELECTRONIC PRODUCTS</th>\n",
       "      <th>325--CHEMICALS</th>\n",
       "      <th>333--MACHINERY, EXCEPT ELECTRICAL</th>\n",
       "      <th>324--PETROLEUM &amp; COAL PRODUCTS</th>\n",
       "      <th>339--MISCELLANEOUS MANUFACTURED COMMODITIES</th>\n",
       "      <th>311--FOOD MANUFACTURES</th>\n",
       "      <th>335--ELECTRICAL EQUIPMENT, APPLIANCES &amp; COMPONENTS</th>\n",
       "      <th>331--PRIMARY METAL MFG</th>\n",
       "      <th>...</th>\n",
       "      <th>321--WOOD PRODUCTS</th>\n",
       "      <th>337--FURNITURE &amp; FIXTURES</th>\n",
       "      <th>315--APPAREL MANUFACTURING PRODUCTS</th>\n",
       "      <th>323--PRINTED MATTER AND RELATED PRODUCTS, NESOI</th>\n",
       "      <th>316--LEATHER &amp; ALLIED PRODUCTS</th>\n",
       "      <th>314--TEXTILE MILLS PRODUCTS</th>\n",
       "      <th>511--NEWSPAPERS, BOOKS &amp; OTHER PUBLISHED MATTER, NESOI</th>\n",
       "      <th>3ZZ--MANUFACTURING PRODUCTS, NESOI</th>\n",
       "      <th>33Z--MANUFACTURING PRODUCTS, PART 3, NESOI</th>\n",
       "      <th>Provided by the Office of Trade and Economic Analysis (OTEA), Industry and Analysis, International Trade Administration, U.S. Department of Commerce</th>\n",
       "    </tr>\n",
       "  </thead>\n",
       "  <tbody>\n",
       "    <tr>\n",
       "      <th>count</th>\n",
       "      <td>1.700000e+01</td>\n",
       "      <td>1.700000e+01</td>\n",
       "      <td>1.700000e+01</td>\n",
       "      <td>1.700000e+01</td>\n",
       "      <td>1.700000e+01</td>\n",
       "      <td>1.700000e+01</td>\n",
       "      <td>1.700000e+01</td>\n",
       "      <td>1.700000e+01</td>\n",
       "      <td>1.700000e+01</td>\n",
       "      <td>1.700000e+01</td>\n",
       "      <td>...</td>\n",
       "      <td>1.700000e+01</td>\n",
       "      <td>1.700000e+01</td>\n",
       "      <td>1.700000e+01</td>\n",
       "      <td>1.700000e+01</td>\n",
       "      <td>1.700000e+01</td>\n",
       "      <td>1.700000e+01</td>\n",
       "      <td>17.0</td>\n",
       "      <td>17.0</td>\n",
       "      <td>17.0</td>\n",
       "      <td>0.0</td>\n",
       "    </tr>\n",
       "    <tr>\n",
       "      <th>unique</th>\n",
       "      <td>1.700000e+01</td>\n",
       "      <td>1.700000e+01</td>\n",
       "      <td>1.700000e+01</td>\n",
       "      <td>1.700000e+01</td>\n",
       "      <td>1.700000e+01</td>\n",
       "      <td>1.700000e+01</td>\n",
       "      <td>1.700000e+01</td>\n",
       "      <td>1.700000e+01</td>\n",
       "      <td>1.700000e+01</td>\n",
       "      <td>1.700000e+01</td>\n",
       "      <td>...</td>\n",
       "      <td>1.700000e+01</td>\n",
       "      <td>1.700000e+01</td>\n",
       "      <td>1.700000e+01</td>\n",
       "      <td>1.700000e+01</td>\n",
       "      <td>1.700000e+01</td>\n",
       "      <td>1.700000e+01</td>\n",
       "      <td>11.0</td>\n",
       "      <td>1.0</td>\n",
       "      <td>1.0</td>\n",
       "      <td>0.0</td>\n",
       "    </tr>\n",
       "    <tr>\n",
       "      <th>top</th>\n",
       "      <td>1.375170e+12</td>\n",
       "      <td>1.590484e+11</td>\n",
       "      <td>1.902817e+11</td>\n",
       "      <td>1.995017e+11</td>\n",
       "      <td>7.577736e+10</td>\n",
       "      <td>6.143825e+10</td>\n",
       "      <td>7.841818e+10</td>\n",
       "      <td>3.942719e+10</td>\n",
       "      <td>3.758465e+10</td>\n",
       "      <td>5.353950e+10</td>\n",
       "      <td>...</td>\n",
       "      <td>5.345378e+09</td>\n",
       "      <td>5.680453e+09</td>\n",
       "      <td>5.302044e+09</td>\n",
       "      <td>5.118828e+09</td>\n",
       "      <td>4.178664e+09</td>\n",
       "      <td>3.244249e+09</td>\n",
       "      <td>0.0</td>\n",
       "      <td>0.0</td>\n",
       "      <td>0.0</td>\n",
       "      <td>NaN</td>\n",
       "    </tr>\n",
       "    <tr>\n",
       "      <th>freq</th>\n",
       "      <td>1.000000e+00</td>\n",
       "      <td>1.000000e+00</td>\n",
       "      <td>1.000000e+00</td>\n",
       "      <td>1.000000e+00</td>\n",
       "      <td>1.000000e+00</td>\n",
       "      <td>1.000000e+00</td>\n",
       "      <td>1.000000e+00</td>\n",
       "      <td>1.000000e+00</td>\n",
       "      <td>1.000000e+00</td>\n",
       "      <td>1.000000e+00</td>\n",
       "      <td>...</td>\n",
       "      <td>1.000000e+00</td>\n",
       "      <td>1.000000e+00</td>\n",
       "      <td>1.000000e+00</td>\n",
       "      <td>1.000000e+00</td>\n",
       "      <td>1.000000e+00</td>\n",
       "      <td>1.000000e+00</td>\n",
       "      <td>7.0</td>\n",
       "      <td>17.0</td>\n",
       "      <td>17.0</td>\n",
       "      <td>NaN</td>\n",
       "    </tr>\n",
       "  </tbody>\n",
       "</table>\n",
       "<p>4 rows × 26 columns</p>\n",
       "</div>"
      ],
      "text/plain": [
       "Item           TOTAL 336--TRANSPORTATION EQUIPMENT  \\\n",
       "count   1.700000e+01                  1.700000e+01   \n",
       "unique  1.700000e+01                  1.700000e+01   \n",
       "top     1.375170e+12                  1.590484e+11   \n",
       "freq    1.000000e+00                  1.000000e+00   \n",
       "\n",
       "Item   334--COMPUTER AND ELECTRONIC PRODUCTS 325--CHEMICALS  \\\n",
       "count                           1.700000e+01   1.700000e+01   \n",
       "unique                          1.700000e+01   1.700000e+01   \n",
       "top                             1.902817e+11   1.995017e+11   \n",
       "freq                            1.000000e+00   1.000000e+00   \n",
       "\n",
       "Item   333--MACHINERY, EXCEPT ELECTRICAL 324--PETROLEUM & COAL PRODUCTS  \\\n",
       "count                       1.700000e+01                   1.700000e+01   \n",
       "unique                      1.700000e+01                   1.700000e+01   \n",
       "top                         7.577736e+10                   6.143825e+10   \n",
       "freq                        1.000000e+00                   1.000000e+00   \n",
       "\n",
       "Item   339--MISCELLANEOUS MANUFACTURED COMMODITIES 311--FOOD MANUFACTURES  \\\n",
       "count                                 1.700000e+01           1.700000e+01   \n",
       "unique                                1.700000e+01           1.700000e+01   \n",
       "top                                   7.841818e+10           3.942719e+10   \n",
       "freq                                  1.000000e+00           1.000000e+00   \n",
       "\n",
       "Item   335--ELECTRICAL EQUIPMENT, APPLIANCES & COMPONENTS  \\\n",
       "count                                        1.700000e+01   \n",
       "unique                                       1.700000e+01   \n",
       "top                                          3.758465e+10   \n",
       "freq                                         1.000000e+00   \n",
       "\n",
       "Item   331--PRIMARY METAL MFG  ... 321--WOOD PRODUCTS  \\\n",
       "count            1.700000e+01  ...       1.700000e+01   \n",
       "unique           1.700000e+01  ...       1.700000e+01   \n",
       "top              5.353950e+10  ...       5.345378e+09   \n",
       "freq             1.000000e+00  ...       1.000000e+00   \n",
       "\n",
       "Item   337--FURNITURE & FIXTURES 315--APPAREL MANUFACTURING PRODUCTS  \\\n",
       "count               1.700000e+01                        1.700000e+01   \n",
       "unique              1.700000e+01                        1.700000e+01   \n",
       "top                 5.680453e+09                        5.302044e+09   \n",
       "freq                1.000000e+00                        1.000000e+00   \n",
       "\n",
       "Item   323--PRINTED MATTER AND RELATED PRODUCTS, NESOI  \\\n",
       "count                                     1.700000e+01   \n",
       "unique                                    1.700000e+01   \n",
       "top                                       5.118828e+09   \n",
       "freq                                      1.000000e+00   \n",
       "\n",
       "Item   316--LEATHER & ALLIED PRODUCTS 314--TEXTILE MILLS PRODUCTS  \\\n",
       "count                    1.700000e+01                1.700000e+01   \n",
       "unique                   1.700000e+01                1.700000e+01   \n",
       "top                      4.178664e+09                3.244249e+09   \n",
       "freq                     1.000000e+00                1.000000e+00   \n",
       "\n",
       "Item   511--NEWSPAPERS, BOOKS & OTHER PUBLISHED MATTER, NESOI  \\\n",
       "count                                                17.0       \n",
       "unique                                               11.0       \n",
       "top                                                   0.0       \n",
       "freq                                                  7.0       \n",
       "\n",
       "Item   3ZZ--MANUFACTURING PRODUCTS, NESOI  \\\n",
       "count                                17.0   \n",
       "unique                                1.0   \n",
       "top                                   0.0   \n",
       "freq                                 17.0   \n",
       "\n",
       "Item   33Z--MANUFACTURING PRODUCTS, PART 3, NESOI  \\\n",
       "count                                        17.0   \n",
       "unique                                        1.0   \n",
       "top                                           0.0   \n",
       "freq                                         17.0   \n",
       "\n",
       "Item   Provided by the Office of Trade and Economic Analysis (OTEA), Industry and Analysis, International Trade Administration, U.S. Department of Commerce  \n",
       "count                                                 0.0                                                                                                    \n",
       "unique                                                0.0                                                                                                    \n",
       "top                                                   NaN                                                                                                    \n",
       "freq                                                  NaN                                                                                                    \n",
       "\n",
       "[4 rows x 26 columns]"
      ]
     },
     "execution_count": 30,
     "metadata": {},
     "output_type": "execute_result"
    }
   ],
   "source": [
    "# Check the data a\n",
    "export_02_18t.describe()"
   ]
  },
  {
   "cell_type": "code",
   "execution_count": 31,
   "metadata": {},
   "outputs": [
    {
     "name": "stderr",
     "output_type": "stream",
     "text": [
      "/anaconda3/lib/python3.7/site-packages/pandas/core/generic.py:3812: PerformanceWarning: dropping on a non-lexsorted multi-index without a level parameter may impact performance.\n",
      "  new_axis = axis.drop(labels, errors=errors)\n"
     ]
    }
   ],
   "source": [
    "# Drop the last three uninformation columns\n",
    "export_02_18t = export_02_18t.drop(columns = ['3ZZ--MANUFACTURING PRODUCTS, NESOI',\n",
    "                             '33Z--MANUFACTURING PRODUCTS, PART 3, NESOI',\n",
    "                             'Provided by the Office of Trade and Economic Analysis (OTEA), Industry and Analysis, International Trade Administration, U.S. Department of Commerce'])\n"
   ]
  },
  {
   "cell_type": "code",
   "execution_count": 32,
   "metadata": {},
   "outputs": [],
   "source": [
    "# Create a list of column name from multindex \n",
    "# and set the string to lowercase\n",
    "col_list = [ind.lower() for ind in export_02_18t.columns.get_level_values(0)]\n"
   ]
  },
  {
   "cell_type": "code",
   "execution_count": 33,
   "metadata": {},
   "outputs": [],
   "source": [
    "# Rename the column name\n",
    "export_02_18t.columns = col_list"
   ]
  },
  {
   "cell_type": "code",
   "execution_count": 34,
   "metadata": {},
   "outputs": [],
   "source": [
    "# Rename the total to total_export\n",
    "export_02_18t = export_02_18t.rename(columns = {'total':'total_export'})"
   ]
  },
  {
   "cell_type": "code",
   "execution_count": 35,
   "metadata": {},
   "outputs": [
    {
     "data": {
      "text/plain": [
       "(17, 23)"
      ]
     },
     "execution_count": 35,
     "metadata": {},
     "output_type": "execute_result"
    }
   ],
   "source": [
    "# Check the shape of export data\n",
    "export_02_18t.shape"
   ]
  },
  {
   "cell_type": "code",
   "execution_count": 36,
   "metadata": {},
   "outputs": [],
   "source": [
    "# Merge the import with export.\n",
    "balance = import_02_18t.merge(export_02_18t, how = 'inner',\n",
    "                             left_index = True, right_index = True)"
   ]
  },
  {
   "cell_type": "code",
   "execution_count": 37,
   "metadata": {},
   "outputs": [],
   "source": [
    "balance['trade_balance'] = balance['total_export'] - balance['total_import']"
   ]
  },
  {
   "cell_type": "markdown",
   "metadata": {},
   "source": [
    "# Investment <a name='investment'></a>"
   ]
  },
  {
   "cell_type": "markdown",
   "metadata": {},
   "source": [
    "## Investment to abroad  <a name='inv-to-abroad'></a>"
   ]
  },
  {
   "cell_type": "markdown",
   "metadata": {},
   "source": [
    "I selected the balance of payments and direct investment abroad data to combine with foreign direct investment data. Calculate the   as total investment "
   ]
  },
  {
   "cell_type": "code",
   "execution_count": 38,
   "metadata": {},
   "outputs": [],
   "source": [
    "# Load teh investment direct to abroad data\n",
    "inv_to_abroad = pd.read_excel('./data/Pharmaceutical_investment_us_to_other.xls')"
   ]
  },
  {
   "cell_type": "code",
   "execution_count": 39,
   "metadata": {},
   "outputs": [
    {
     "data": {
      "text/html": [
       "<div>\n",
       "<style scoped>\n",
       "    .dataframe tbody tr th:only-of-type {\n",
       "        vertical-align: middle;\n",
       "    }\n",
       "\n",
       "    .dataframe tbody tr th {\n",
       "        vertical-align: top;\n",
       "    }\n",
       "\n",
       "    .dataframe thead th {\n",
       "        text-align: right;\n",
       "    }\n",
       "</style>\n",
       "<table border=\"1\" class=\"dataframe\">\n",
       "  <thead>\n",
       "    <tr style=\"text-align: right;\">\n",
       "      <th></th>\n",
       "      <th>Balance of Payments and Direct Investment Position Data</th>\n",
       "      <th>Unnamed: 1</th>\n",
       "      <th>Unnamed: 2</th>\n",
       "      <th>Unnamed: 3</th>\n",
       "      <th>Unnamed: 4</th>\n",
       "      <th>Unnamed: 5</th>\n",
       "      <th>Unnamed: 6</th>\n",
       "      <th>Unnamed: 7</th>\n",
       "      <th>Unnamed: 8</th>\n",
       "      <th>Unnamed: 9</th>\n",
       "      <th>Unnamed: 10</th>\n",
       "      <th>Unnamed: 11</th>\n",
       "      <th>Unnamed: 12</th>\n",
       "      <th>Unnamed: 13</th>\n",
       "      <th>Unnamed: 14</th>\n",
       "      <th>Unnamed: 15</th>\n",
       "      <th>Unnamed: 16</th>\n",
       "      <th>Unnamed: 17</th>\n",
       "      <th>Unnamed: 18</th>\n",
       "      <th>Unnamed: 19</th>\n",
       "    </tr>\n",
       "  </thead>\n",
       "  <tbody>\n",
       "    <tr>\n",
       "      <th>0</th>\n",
       "      <td>U.S. Direct Investment Abroad,U.S. Direct Inve...</td>\n",
       "      <td>NaN</td>\n",
       "      <td>NaN</td>\n",
       "      <td>NaN</td>\n",
       "      <td>NaN</td>\n",
       "      <td>NaN</td>\n",
       "      <td>NaN</td>\n",
       "      <td>NaN</td>\n",
       "      <td>NaN</td>\n",
       "      <td>NaN</td>\n",
       "      <td>NaN</td>\n",
       "      <td>NaN</td>\n",
       "      <td>NaN</td>\n",
       "      <td>NaN</td>\n",
       "      <td>NaN</td>\n",
       "      <td>NaN</td>\n",
       "      <td>NaN</td>\n",
       "      <td>NaN</td>\n",
       "      <td>NaN</td>\n",
       "      <td>NaN</td>\n",
       "    </tr>\n",
       "    <tr>\n",
       "      <th>1</th>\n",
       "      <td>Bureau of Economic Analysis</td>\n",
       "      <td>NaN</td>\n",
       "      <td>NaN</td>\n",
       "      <td>NaN</td>\n",
       "      <td>NaN</td>\n",
       "      <td>NaN</td>\n",
       "      <td>NaN</td>\n",
       "      <td>NaN</td>\n",
       "      <td>NaN</td>\n",
       "      <td>NaN</td>\n",
       "      <td>NaN</td>\n",
       "      <td>NaN</td>\n",
       "      <td>NaN</td>\n",
       "      <td>NaN</td>\n",
       "      <td>NaN</td>\n",
       "      <td>NaN</td>\n",
       "      <td>NaN</td>\n",
       "      <td>NaN</td>\n",
       "      <td>NaN</td>\n",
       "      <td>NaN</td>\n",
       "    </tr>\n",
       "    <tr>\n",
       "      <th>2</th>\n",
       "      <td>By Industry of Affiliate Only (All Industries)...</td>\n",
       "      <td>NaN</td>\n",
       "      <td>NaN</td>\n",
       "      <td>NaN</td>\n",
       "      <td>NaN</td>\n",
       "      <td>NaN</td>\n",
       "      <td>NaN</td>\n",
       "      <td>NaN</td>\n",
       "      <td>NaN</td>\n",
       "      <td>NaN</td>\n",
       "      <td>NaN</td>\n",
       "      <td>NaN</td>\n",
       "      <td>NaN</td>\n",
       "      <td>NaN</td>\n",
       "      <td>NaN</td>\n",
       "      <td>NaN</td>\n",
       "      <td>NaN</td>\n",
       "      <td>NaN</td>\n",
       "      <td>NaN</td>\n",
       "      <td>NaN</td>\n",
       "    </tr>\n",
       "    <tr>\n",
       "      <th>3</th>\n",
       "      <td>NaN</td>\n",
       "      <td>NaN</td>\n",
       "      <td>NaN</td>\n",
       "      <td>NaN</td>\n",
       "      <td>NaN</td>\n",
       "      <td>NaN</td>\n",
       "      <td>NaN</td>\n",
       "      <td>NaN</td>\n",
       "      <td>NaN</td>\n",
       "      <td>NaN</td>\n",
       "      <td>NaN</td>\n",
       "      <td>NaN</td>\n",
       "      <td>NaN</td>\n",
       "      <td>NaN</td>\n",
       "      <td>NaN</td>\n",
       "      <td>NaN</td>\n",
       "      <td>NaN</td>\n",
       "      <td>NaN</td>\n",
       "      <td>NaN</td>\n",
       "      <td>NaN</td>\n",
       "    </tr>\n",
       "    <tr>\n",
       "      <th>4</th>\n",
       "      <td>NaN</td>\n",
       "      <td>Position</td>\n",
       "      <td>NaN</td>\n",
       "      <td>NaN</td>\n",
       "      <td>NaN</td>\n",
       "      <td>NaN</td>\n",
       "      <td>NaN</td>\n",
       "      <td>NaN</td>\n",
       "      <td>NaN</td>\n",
       "      <td>NaN</td>\n",
       "      <td>NaN</td>\n",
       "      <td>NaN</td>\n",
       "      <td>NaN</td>\n",
       "      <td>NaN</td>\n",
       "      <td>NaN</td>\n",
       "      <td>NaN</td>\n",
       "      <td>NaN</td>\n",
       "      <td>NaN</td>\n",
       "      <td>NaN</td>\n",
       "      <td>NaN</td>\n",
       "    </tr>\n",
       "    <tr>\n",
       "      <th>5</th>\n",
       "      <td>NaN</td>\n",
       "      <td>1999</td>\n",
       "      <td>2000.0</td>\n",
       "      <td>2001.0</td>\n",
       "      <td>2002.0</td>\n",
       "      <td>2003.0</td>\n",
       "      <td>2004.0</td>\n",
       "      <td>2005.0</td>\n",
       "      <td>2006.0</td>\n",
       "      <td>2007.0</td>\n",
       "      <td>2008.0</td>\n",
       "      <td>2009.0</td>\n",
       "      <td>2010.0</td>\n",
       "      <td>2011.0</td>\n",
       "      <td>2012.0</td>\n",
       "      <td>2013.0</td>\n",
       "      <td>2014.0</td>\n",
       "      <td>2015.0</td>\n",
       "      <td>2016.0</td>\n",
       "      <td>2017.0</td>\n",
       "    </tr>\n",
       "    <tr>\n",
       "      <th>6</th>\n",
       "      <td>Manufacturing</td>\n",
       "      <td>327282</td>\n",
       "      <td>343899.0</td>\n",
       "      <td>328030.0</td>\n",
       "      <td>337741.0</td>\n",
       "      <td>371078.0</td>\n",
       "      <td>416643.0</td>\n",
       "      <td>430737.0</td>\n",
       "      <td>441724.0</td>\n",
       "      <td>484839.0</td>\n",
       "      <td>474733.0</td>\n",
       "      <td>501122.0</td>\n",
       "      <td>518321.0</td>\n",
       "      <td>536656.0</td>\n",
       "      <td>582583.0</td>\n",
       "      <td>623700.0</td>\n",
       "      <td>654335.0</td>\n",
       "      <td>693847.0</td>\n",
       "      <td>735648.0</td>\n",
       "      <td>870099.0</td>\n",
       "    </tr>\n",
       "  </tbody>\n",
       "</table>\n",
       "</div>"
      ],
      "text/plain": [
       "  Balance of Payments and Direct Investment Position Data Unnamed: 1  \\\n",
       "0  U.S. Direct Investment Abroad,U.S. Direct Inve...             NaN   \n",
       "1                        Bureau of Economic Analysis             NaN   \n",
       "2  By Industry of Affiliate Only (All Industries)...             NaN   \n",
       "3                                                NaN             NaN   \n",
       "4                                                NaN        Position   \n",
       "5                                                NaN            1999   \n",
       "6                                      Manufacturing          327282   \n",
       "\n",
       "   Unnamed: 2  Unnamed: 3  Unnamed: 4  Unnamed: 5  Unnamed: 6  Unnamed: 7  \\\n",
       "0         NaN         NaN         NaN         NaN         NaN         NaN   \n",
       "1         NaN         NaN         NaN         NaN         NaN         NaN   \n",
       "2         NaN         NaN         NaN         NaN         NaN         NaN   \n",
       "3         NaN         NaN         NaN         NaN         NaN         NaN   \n",
       "4         NaN         NaN         NaN         NaN         NaN         NaN   \n",
       "5      2000.0      2001.0      2002.0      2003.0      2004.0      2005.0   \n",
       "6    343899.0    328030.0    337741.0    371078.0    416643.0    430737.0   \n",
       "\n",
       "   Unnamed: 8  Unnamed: 9  Unnamed: 10  Unnamed: 11  Unnamed: 12  Unnamed: 13  \\\n",
       "0         NaN         NaN          NaN          NaN          NaN          NaN   \n",
       "1         NaN         NaN          NaN          NaN          NaN          NaN   \n",
       "2         NaN         NaN          NaN          NaN          NaN          NaN   \n",
       "3         NaN         NaN          NaN          NaN          NaN          NaN   \n",
       "4         NaN         NaN          NaN          NaN          NaN          NaN   \n",
       "5      2006.0      2007.0       2008.0       2009.0       2010.0       2011.0   \n",
       "6    441724.0    484839.0     474733.0     501122.0     518321.0     536656.0   \n",
       "\n",
       "   Unnamed: 14  Unnamed: 15  Unnamed: 16  Unnamed: 17  Unnamed: 18  \\\n",
       "0          NaN          NaN          NaN          NaN          NaN   \n",
       "1          NaN          NaN          NaN          NaN          NaN   \n",
       "2          NaN          NaN          NaN          NaN          NaN   \n",
       "3          NaN          NaN          NaN          NaN          NaN   \n",
       "4          NaN          NaN          NaN          NaN          NaN   \n",
       "5       2012.0       2013.0       2014.0       2015.0       2016.0   \n",
       "6     582583.0     623700.0     654335.0     693847.0     735648.0   \n",
       "\n",
       "   Unnamed: 19  \n",
       "0          NaN  \n",
       "1          NaN  \n",
       "2          NaN  \n",
       "3          NaN  \n",
       "4          NaN  \n",
       "5       2017.0  \n",
       "6     870099.0  "
      ]
     },
     "execution_count": 39,
     "metadata": {},
     "output_type": "execute_result"
    }
   ],
   "source": [
    "# Check the data\n",
    "inv_to_abroad.head(7)"
   ]
  },
  {
   "cell_type": "code",
   "execution_count": 40,
   "metadata": {},
   "outputs": [],
   "source": [
    "# Select the data size\n",
    "inv_to_abroad = inv_to_abroad[6:7]"
   ]
  },
  {
   "cell_type": "code",
   "execution_count": 41,
   "metadata": {},
   "outputs": [],
   "source": [
    "# Drop the first row\n",
    "inv_to_abroad = inv_to_abroad.drop(columns = 'Balance of Payments and Direct Investment Position Data')"
   ]
  },
  {
   "cell_type": "code",
   "execution_count": 42,
   "metadata": {},
   "outputs": [],
   "source": [
    "# Change the column's name to year\n",
    "inv_to_abroad.columns = [i for i in range(1999, 2018)]"
   ]
  },
  {
   "cell_type": "code",
   "execution_count": 43,
   "metadata": {},
   "outputs": [],
   "source": [
    "# Convert the row with column\n",
    "inv_to_abroadt = inv_to_abroad.T"
   ]
  },
  {
   "cell_type": "code",
   "execution_count": 44,
   "metadata": {},
   "outputs": [],
   "source": [
    "# Rename the column \n",
    "inv_to_abroadt.columns = ['manufacturing_inv_to_abroad']"
   ]
  },
  {
   "cell_type": "code",
   "execution_count": 45,
   "metadata": {},
   "outputs": [
    {
     "data": {
      "text/html": [
       "<div>\n",
       "<style scoped>\n",
       "    .dataframe tbody tr th:only-of-type {\n",
       "        vertical-align: middle;\n",
       "    }\n",
       "\n",
       "    .dataframe tbody tr th {\n",
       "        vertical-align: top;\n",
       "    }\n",
       "\n",
       "    .dataframe thead th {\n",
       "        text-align: right;\n",
       "    }\n",
       "</style>\n",
       "<table border=\"1\" class=\"dataframe\">\n",
       "  <thead>\n",
       "    <tr style=\"text-align: right;\">\n",
       "      <th></th>\n",
       "      <th>manufacturing_inv_to_abroad</th>\n",
       "    </tr>\n",
       "  </thead>\n",
       "  <tbody>\n",
       "    <tr>\n",
       "      <th>1999</th>\n",
       "      <td>327282</td>\n",
       "    </tr>\n",
       "    <tr>\n",
       "      <th>2000</th>\n",
       "      <td>343899</td>\n",
       "    </tr>\n",
       "    <tr>\n",
       "      <th>2001</th>\n",
       "      <td>328030</td>\n",
       "    </tr>\n",
       "    <tr>\n",
       "      <th>2002</th>\n",
       "      <td>337741</td>\n",
       "    </tr>\n",
       "    <tr>\n",
       "      <th>2003</th>\n",
       "      <td>371078</td>\n",
       "    </tr>\n",
       "  </tbody>\n",
       "</table>\n",
       "</div>"
      ],
      "text/plain": [
       "     manufacturing_inv_to_abroad\n",
       "1999                      327282\n",
       "2000                      343899\n",
       "2001                      328030\n",
       "2002                      337741\n",
       "2003                      371078"
      ]
     },
     "execution_count": 45,
     "metadata": {},
     "output_type": "execute_result"
    }
   ],
   "source": [
    "inv_to_abroadt.head()"
   ]
  },
  {
   "cell_type": "markdown",
   "metadata": {},
   "source": [
    "## Investment from abord  <a name='inv-from-abroad'></a>"
   ]
  },
  {
   "cell_type": "code",
   "execution_count": 46,
   "metadata": {},
   "outputs": [],
   "source": [
    "# Load the investment from abroad\n",
    "inv_from_abroad = pd.read_excel('./data/Pharmaceutical_investment_other_to_us.xls')\n"
   ]
  },
  {
   "cell_type": "code",
   "execution_count": 47,
   "metadata": {},
   "outputs": [
    {
     "data": {
      "text/html": [
       "<div>\n",
       "<style scoped>\n",
       "    .dataframe tbody tr th:only-of-type {\n",
       "        vertical-align: middle;\n",
       "    }\n",
       "\n",
       "    .dataframe tbody tr th {\n",
       "        vertical-align: top;\n",
       "    }\n",
       "\n",
       "    .dataframe thead th {\n",
       "        text-align: right;\n",
       "    }\n",
       "</style>\n",
       "<table border=\"1\" class=\"dataframe\">\n",
       "  <thead>\n",
       "    <tr style=\"text-align: right;\">\n",
       "      <th></th>\n",
       "      <th>Balance of Payments and Direct Investment Position Data</th>\n",
       "      <th>Unnamed: 1</th>\n",
       "      <th>Unnamed: 2</th>\n",
       "      <th>Unnamed: 3</th>\n",
       "      <th>Unnamed: 4</th>\n",
       "      <th>Unnamed: 5</th>\n",
       "      <th>Unnamed: 6</th>\n",
       "      <th>Unnamed: 7</th>\n",
       "      <th>Unnamed: 8</th>\n",
       "      <th>Unnamed: 9</th>\n",
       "      <th>...</th>\n",
       "      <th>Unnamed: 12</th>\n",
       "      <th>Unnamed: 13</th>\n",
       "      <th>Unnamed: 14</th>\n",
       "      <th>Unnamed: 15</th>\n",
       "      <th>Unnamed: 16</th>\n",
       "      <th>Unnamed: 17</th>\n",
       "      <th>Unnamed: 18</th>\n",
       "      <th>Unnamed: 19</th>\n",
       "      <th>Unnamed: 20</th>\n",
       "      <th>Unnamed: 21</th>\n",
       "    </tr>\n",
       "  </thead>\n",
       "  <tbody>\n",
       "    <tr>\n",
       "      <th>0</th>\n",
       "      <td>Foreign Direct Investment in the U.S.,Foreign ...</td>\n",
       "      <td>NaN</td>\n",
       "      <td>NaN</td>\n",
       "      <td>NaN</td>\n",
       "      <td>NaN</td>\n",
       "      <td>NaN</td>\n",
       "      <td>NaN</td>\n",
       "      <td>NaN</td>\n",
       "      <td>NaN</td>\n",
       "      <td>NaN</td>\n",
       "      <td>...</td>\n",
       "      <td>NaN</td>\n",
       "      <td>NaN</td>\n",
       "      <td>NaN</td>\n",
       "      <td>NaN</td>\n",
       "      <td>NaN</td>\n",
       "      <td>NaN</td>\n",
       "      <td>NaN</td>\n",
       "      <td>NaN</td>\n",
       "      <td>NaN</td>\n",
       "      <td>NaN</td>\n",
       "    </tr>\n",
       "    <tr>\n",
       "      <th>1</th>\n",
       "      <td>Bureau of Economic Analysis</td>\n",
       "      <td>NaN</td>\n",
       "      <td>NaN</td>\n",
       "      <td>NaN</td>\n",
       "      <td>NaN</td>\n",
       "      <td>NaN</td>\n",
       "      <td>NaN</td>\n",
       "      <td>NaN</td>\n",
       "      <td>NaN</td>\n",
       "      <td>NaN</td>\n",
       "      <td>...</td>\n",
       "      <td>NaN</td>\n",
       "      <td>NaN</td>\n",
       "      <td>NaN</td>\n",
       "      <td>NaN</td>\n",
       "      <td>NaN</td>\n",
       "      <td>NaN</td>\n",
       "      <td>NaN</td>\n",
       "      <td>NaN</td>\n",
       "      <td>NaN</td>\n",
       "      <td>NaN</td>\n",
       "    </tr>\n",
       "    <tr>\n",
       "      <th>2</th>\n",
       "      <td>By Industry of Affiliate Only (All Industries)...</td>\n",
       "      <td>NaN</td>\n",
       "      <td>NaN</td>\n",
       "      <td>NaN</td>\n",
       "      <td>NaN</td>\n",
       "      <td>NaN</td>\n",
       "      <td>NaN</td>\n",
       "      <td>NaN</td>\n",
       "      <td>NaN</td>\n",
       "      <td>NaN</td>\n",
       "      <td>...</td>\n",
       "      <td>NaN</td>\n",
       "      <td>NaN</td>\n",
       "      <td>NaN</td>\n",
       "      <td>NaN</td>\n",
       "      <td>NaN</td>\n",
       "      <td>NaN</td>\n",
       "      <td>NaN</td>\n",
       "      <td>NaN</td>\n",
       "      <td>NaN</td>\n",
       "      <td>NaN</td>\n",
       "    </tr>\n",
       "    <tr>\n",
       "      <th>3</th>\n",
       "      <td>NaN</td>\n",
       "      <td>NaN</td>\n",
       "      <td>NaN</td>\n",
       "      <td>NaN</td>\n",
       "      <td>NaN</td>\n",
       "      <td>NaN</td>\n",
       "      <td>NaN</td>\n",
       "      <td>NaN</td>\n",
       "      <td>NaN</td>\n",
       "      <td>NaN</td>\n",
       "      <td>...</td>\n",
       "      <td>NaN</td>\n",
       "      <td>NaN</td>\n",
       "      <td>NaN</td>\n",
       "      <td>NaN</td>\n",
       "      <td>NaN</td>\n",
       "      <td>NaN</td>\n",
       "      <td>NaN</td>\n",
       "      <td>NaN</td>\n",
       "      <td>NaN</td>\n",
       "      <td>NaN</td>\n",
       "    </tr>\n",
       "    <tr>\n",
       "      <th>4</th>\n",
       "      <td>NaN</td>\n",
       "      <td>Position</td>\n",
       "      <td>NaN</td>\n",
       "      <td>NaN</td>\n",
       "      <td>NaN</td>\n",
       "      <td>NaN</td>\n",
       "      <td>NaN</td>\n",
       "      <td>NaN</td>\n",
       "      <td>NaN</td>\n",
       "      <td>NaN</td>\n",
       "      <td>...</td>\n",
       "      <td>NaN</td>\n",
       "      <td>NaN</td>\n",
       "      <td>NaN</td>\n",
       "      <td>NaN</td>\n",
       "      <td>NaN</td>\n",
       "      <td>NaN</td>\n",
       "      <td>NaN</td>\n",
       "      <td>NaN</td>\n",
       "      <td>NaN</td>\n",
       "      <td>NaN</td>\n",
       "    </tr>\n",
       "    <tr>\n",
       "      <th>5</th>\n",
       "      <td>NaN</td>\n",
       "      <td>1997</td>\n",
       "      <td>1998.0</td>\n",
       "      <td>1999.0</td>\n",
       "      <td>2000.0</td>\n",
       "      <td>2001.0</td>\n",
       "      <td>2002.0</td>\n",
       "      <td>2003.0</td>\n",
       "      <td>2004.0</td>\n",
       "      <td>2005.0</td>\n",
       "      <td>...</td>\n",
       "      <td>2008.0</td>\n",
       "      <td>2009.0</td>\n",
       "      <td>2010.0</td>\n",
       "      <td>2011.0</td>\n",
       "      <td>2012.0</td>\n",
       "      <td>2013.0</td>\n",
       "      <td>2014.0</td>\n",
       "      <td>2015.0</td>\n",
       "      <td>2016.0</td>\n",
       "      <td>2017.0</td>\n",
       "    </tr>\n",
       "    <tr>\n",
       "      <th>6</th>\n",
       "      <td>Manufacturing</td>\n",
       "      <td>278431</td>\n",
       "      <td>344564.0</td>\n",
       "      <td>406415.0</td>\n",
       "      <td>480561.0</td>\n",
       "      <td>476474.0</td>\n",
       "      <td>451985.0</td>\n",
       "      <td>465401.0</td>\n",
       "      <td>475214.0</td>\n",
       "      <td>499851.0</td>\n",
       "      <td>...</td>\n",
       "      <td>650380.0</td>\n",
       "      <td>698240.0</td>\n",
       "      <td>756868.0</td>\n",
       "      <td>761876.0</td>\n",
       "      <td>864437.0</td>\n",
       "      <td>942695.0</td>\n",
       "      <td>1114540.0</td>\n",
       "      <td>1359812.0</td>\n",
       "      <td>1541897.0</td>\n",
       "      <td>1607209.0</td>\n",
       "    </tr>\n",
       "  </tbody>\n",
       "</table>\n",
       "<p>7 rows × 22 columns</p>\n",
       "</div>"
      ],
      "text/plain": [
       "  Balance of Payments and Direct Investment Position Data Unnamed: 1  \\\n",
       "0  Foreign Direct Investment in the U.S.,Foreign ...             NaN   \n",
       "1                        Bureau of Economic Analysis             NaN   \n",
       "2  By Industry of Affiliate Only (All Industries)...             NaN   \n",
       "3                                                NaN             NaN   \n",
       "4                                                NaN        Position   \n",
       "5                                                NaN            1997   \n",
       "6                                      Manufacturing          278431   \n",
       "\n",
       "   Unnamed: 2  Unnamed: 3  Unnamed: 4  Unnamed: 5  Unnamed: 6  Unnamed: 7  \\\n",
       "0         NaN         NaN         NaN         NaN         NaN         NaN   \n",
       "1         NaN         NaN         NaN         NaN         NaN         NaN   \n",
       "2         NaN         NaN         NaN         NaN         NaN         NaN   \n",
       "3         NaN         NaN         NaN         NaN         NaN         NaN   \n",
       "4         NaN         NaN         NaN         NaN         NaN         NaN   \n",
       "5      1998.0      1999.0      2000.0      2001.0      2002.0      2003.0   \n",
       "6    344564.0    406415.0    480561.0    476474.0    451985.0    465401.0   \n",
       "\n",
       "   Unnamed: 8  Unnamed: 9  ...  Unnamed: 12  Unnamed: 13  Unnamed: 14  \\\n",
       "0         NaN         NaN  ...          NaN          NaN          NaN   \n",
       "1         NaN         NaN  ...          NaN          NaN          NaN   \n",
       "2         NaN         NaN  ...          NaN          NaN          NaN   \n",
       "3         NaN         NaN  ...          NaN          NaN          NaN   \n",
       "4         NaN         NaN  ...          NaN          NaN          NaN   \n",
       "5      2004.0      2005.0  ...       2008.0       2009.0       2010.0   \n",
       "6    475214.0    499851.0  ...     650380.0     698240.0     756868.0   \n",
       "\n",
       "   Unnamed: 15  Unnamed: 16  Unnamed: 17  Unnamed: 18  Unnamed: 19  \\\n",
       "0          NaN          NaN          NaN          NaN          NaN   \n",
       "1          NaN          NaN          NaN          NaN          NaN   \n",
       "2          NaN          NaN          NaN          NaN          NaN   \n",
       "3          NaN          NaN          NaN          NaN          NaN   \n",
       "4          NaN          NaN          NaN          NaN          NaN   \n",
       "5       2011.0       2012.0       2013.0       2014.0       2015.0   \n",
       "6     761876.0     864437.0     942695.0    1114540.0    1359812.0   \n",
       "\n",
       "   Unnamed: 20  Unnamed: 21  \n",
       "0          NaN          NaN  \n",
       "1          NaN          NaN  \n",
       "2          NaN          NaN  \n",
       "3          NaN          NaN  \n",
       "4          NaN          NaN  \n",
       "5       2016.0       2017.0  \n",
       "6    1541897.0    1607209.0  \n",
       "\n",
       "[7 rows x 22 columns]"
      ]
     },
     "execution_count": 47,
     "metadata": {},
     "output_type": "execute_result"
    }
   ],
   "source": [
    "# Check the investment to abroad data\n",
    "inv_from_abroad.head(7)"
   ]
  },
  {
   "cell_type": "code",
   "execution_count": 48,
   "metadata": {},
   "outputs": [],
   "source": [
    "# Select the data size\n",
    "inv_from_abroad = inv_from_abroad[6:7]"
   ]
  },
  {
   "cell_type": "code",
   "execution_count": 49,
   "metadata": {},
   "outputs": [],
   "source": [
    "# Drop the first row\n",
    "inv_from_abroad = inv_from_abroad.drop(columns = 'Balance of Payments and Direct Investment Position Data')\n"
   ]
  },
  {
   "cell_type": "code",
   "execution_count": 50,
   "metadata": {},
   "outputs": [],
   "source": [
    "# Change the column's name from year\n",
    "inv_from_abroad.columns = [i for i in range(1997, 2018)]"
   ]
  },
  {
   "cell_type": "code",
   "execution_count": 51,
   "metadata": {},
   "outputs": [],
   "source": [
    "# Convert the row with column\n",
    "inv_from_abroadt = inv_from_abroad.T"
   ]
  },
  {
   "cell_type": "code",
   "execution_count": 52,
   "metadata": {},
   "outputs": [
    {
     "data": {
      "text/html": [
       "<div>\n",
       "<style scoped>\n",
       "    .dataframe tbody tr th:only-of-type {\n",
       "        vertical-align: middle;\n",
       "    }\n",
       "\n",
       "    .dataframe tbody tr th {\n",
       "        vertical-align: top;\n",
       "    }\n",
       "\n",
       "    .dataframe thead th {\n",
       "        text-align: right;\n",
       "    }\n",
       "</style>\n",
       "<table border=\"1\" class=\"dataframe\">\n",
       "  <thead>\n",
       "    <tr style=\"text-align: right;\">\n",
       "      <th></th>\n",
       "      <th>manufacturing_inv_from_abroad</th>\n",
       "    </tr>\n",
       "  </thead>\n",
       "  <tbody>\n",
       "    <tr>\n",
       "      <th>1997</th>\n",
       "      <td>278431</td>\n",
       "    </tr>\n",
       "    <tr>\n",
       "      <th>1998</th>\n",
       "      <td>344564</td>\n",
       "    </tr>\n",
       "    <tr>\n",
       "      <th>1999</th>\n",
       "      <td>406415</td>\n",
       "    </tr>\n",
       "    <tr>\n",
       "      <th>2000</th>\n",
       "      <td>480561</td>\n",
       "    </tr>\n",
       "    <tr>\n",
       "      <th>2001</th>\n",
       "      <td>476474</td>\n",
       "    </tr>\n",
       "  </tbody>\n",
       "</table>\n",
       "</div>"
      ],
      "text/plain": [
       "     manufacturing_inv_from_abroad\n",
       "1997                        278431\n",
       "1998                        344564\n",
       "1999                        406415\n",
       "2000                        480561\n",
       "2001                        476474"
      ]
     },
     "execution_count": 52,
     "metadata": {},
     "output_type": "execute_result"
    }
   ],
   "source": [
    "# Rename the column \n",
    "inv_from_abroadt.columns = ['manufacturing_inv_from_abroad']\n",
    "\n",
    "inv_from_abroadt.head()"
   ]
  },
  {
   "cell_type": "code",
   "execution_count": 53,
   "metadata": {},
   "outputs": [],
   "source": [
    "# Merge both the investment data.\n",
    "inv = inv_to_abroadt.merge(inv_from_abroadt, how = 'inner',\n",
    "                         left_index = True, right_index = True)"
   ]
  },
  {
   "cell_type": "code",
   "execution_count": 54,
   "metadata": {},
   "outputs": [],
   "source": [
    "# Create a total investment column in the merge dataframe.\n",
    "inv['inv'] = inv['manufacturing_inv_from_abroad']-inv['manufacturing_inv_to_abroad']"
   ]
  },
  {
   "cell_type": "markdown",
   "metadata": {},
   "source": [
    "## US Population <a name=\"us-population\"></a>"
   ]
  },
  {
   "cell_type": "code",
   "execution_count": 55,
   "metadata": {},
   "outputs": [],
   "source": [
    "# Load the population data.\n",
    "pop= pd.read_excel('./data/POP.TOTL_all_country.xls')"
   ]
  },
  {
   "cell_type": "code",
   "execution_count": 56,
   "metadata": {},
   "outputs": [
    {
     "data": {
      "text/html": [
       "<div>\n",
       "<style scoped>\n",
       "    .dataframe tbody tr th:only-of-type {\n",
       "        vertical-align: middle;\n",
       "    }\n",
       "\n",
       "    .dataframe tbody tr th {\n",
       "        vertical-align: top;\n",
       "    }\n",
       "\n",
       "    .dataframe thead th {\n",
       "        text-align: right;\n",
       "    }\n",
       "</style>\n",
       "<table border=\"1\" class=\"dataframe\">\n",
       "  <thead>\n",
       "    <tr style=\"text-align: right;\">\n",
       "      <th></th>\n",
       "      <th>Data Source</th>\n",
       "      <th>World Development Indicators</th>\n",
       "      <th>Unnamed: 2</th>\n",
       "      <th>Unnamed: 3</th>\n",
       "      <th>Unnamed: 4</th>\n",
       "      <th>Unnamed: 5</th>\n",
       "      <th>Unnamed: 6</th>\n",
       "      <th>Unnamed: 7</th>\n",
       "      <th>Unnamed: 8</th>\n",
       "      <th>Unnamed: 9</th>\n",
       "      <th>...</th>\n",
       "      <th>Unnamed: 53</th>\n",
       "      <th>Unnamed: 54</th>\n",
       "      <th>Unnamed: 55</th>\n",
       "      <th>Unnamed: 56</th>\n",
       "      <th>Unnamed: 57</th>\n",
       "      <th>Unnamed: 58</th>\n",
       "      <th>Unnamed: 59</th>\n",
       "      <th>Unnamed: 60</th>\n",
       "      <th>Unnamed: 61</th>\n",
       "      <th>Unnamed: 62</th>\n",
       "    </tr>\n",
       "  </thead>\n",
       "  <tbody>\n",
       "    <tr>\n",
       "      <th>0</th>\n",
       "      <td>Last Updated Date</td>\n",
       "      <td>2019-04-24 00:00:00</td>\n",
       "      <td>NaN</td>\n",
       "      <td>NaN</td>\n",
       "      <td>NaN</td>\n",
       "      <td>NaN</td>\n",
       "      <td>NaN</td>\n",
       "      <td>NaN</td>\n",
       "      <td>NaN</td>\n",
       "      <td>NaN</td>\n",
       "      <td>...</td>\n",
       "      <td>NaN</td>\n",
       "      <td>NaN</td>\n",
       "      <td>NaN</td>\n",
       "      <td>NaN</td>\n",
       "      <td>NaN</td>\n",
       "      <td>NaN</td>\n",
       "      <td>NaN</td>\n",
       "      <td>NaN</td>\n",
       "      <td>NaN</td>\n",
       "      <td>NaN</td>\n",
       "    </tr>\n",
       "    <tr>\n",
       "      <th>1</th>\n",
       "      <td>NaN</td>\n",
       "      <td>NaN</td>\n",
       "      <td>NaN</td>\n",
       "      <td>NaN</td>\n",
       "      <td>NaN</td>\n",
       "      <td>NaN</td>\n",
       "      <td>NaN</td>\n",
       "      <td>NaN</td>\n",
       "      <td>NaN</td>\n",
       "      <td>NaN</td>\n",
       "      <td>...</td>\n",
       "      <td>NaN</td>\n",
       "      <td>NaN</td>\n",
       "      <td>NaN</td>\n",
       "      <td>NaN</td>\n",
       "      <td>NaN</td>\n",
       "      <td>NaN</td>\n",
       "      <td>NaN</td>\n",
       "      <td>NaN</td>\n",
       "      <td>NaN</td>\n",
       "      <td>NaN</td>\n",
       "    </tr>\n",
       "    <tr>\n",
       "      <th>2</th>\n",
       "      <td>Country Name</td>\n",
       "      <td>Country Code</td>\n",
       "      <td>Indicator Name</td>\n",
       "      <td>Indicator Code</td>\n",
       "      <td>1960.0</td>\n",
       "      <td>1961.0</td>\n",
       "      <td>1962.0</td>\n",
       "      <td>1963.0</td>\n",
       "      <td>1964.0</td>\n",
       "      <td>1965.0</td>\n",
       "      <td>...</td>\n",
       "      <td>2009.0</td>\n",
       "      <td>2010.0</td>\n",
       "      <td>2011.0</td>\n",
       "      <td>2012.0</td>\n",
       "      <td>2013.0</td>\n",
       "      <td>2014.0</td>\n",
       "      <td>2015.0</td>\n",
       "      <td>2016.0</td>\n",
       "      <td>2017.0</td>\n",
       "      <td>2018.0</td>\n",
       "    </tr>\n",
       "    <tr>\n",
       "      <th>3</th>\n",
       "      <td>Aruba</td>\n",
       "      <td>ABW</td>\n",
       "      <td>Population, total</td>\n",
       "      <td>SP.POP.TOTL</td>\n",
       "      <td>54211.0</td>\n",
       "      <td>55438.0</td>\n",
       "      <td>56225.0</td>\n",
       "      <td>56695.0</td>\n",
       "      <td>57032.0</td>\n",
       "      <td>57360.0</td>\n",
       "      <td>...</td>\n",
       "      <td>101453.0</td>\n",
       "      <td>101669.0</td>\n",
       "      <td>102053.0</td>\n",
       "      <td>102577.0</td>\n",
       "      <td>103187.0</td>\n",
       "      <td>103795.0</td>\n",
       "      <td>104341.0</td>\n",
       "      <td>104822.0</td>\n",
       "      <td>105264.0</td>\n",
       "      <td>NaN</td>\n",
       "    </tr>\n",
       "    <tr>\n",
       "      <th>4</th>\n",
       "      <td>Afghanistan</td>\n",
       "      <td>AFG</td>\n",
       "      <td>Population, total</td>\n",
       "      <td>SP.POP.TOTL</td>\n",
       "      <td>8996351.0</td>\n",
       "      <td>9166764.0</td>\n",
       "      <td>9345868.0</td>\n",
       "      <td>9533954.0</td>\n",
       "      <td>9731361.0</td>\n",
       "      <td>9938414.0</td>\n",
       "      <td>...</td>\n",
       "      <td>28004331.0</td>\n",
       "      <td>28803167.0</td>\n",
       "      <td>29708599.0</td>\n",
       "      <td>30696958.0</td>\n",
       "      <td>31731688.0</td>\n",
       "      <td>32758020.0</td>\n",
       "      <td>33736494.0</td>\n",
       "      <td>34656032.0</td>\n",
       "      <td>35530081.0</td>\n",
       "      <td>NaN</td>\n",
       "    </tr>\n",
       "  </tbody>\n",
       "</table>\n",
       "<p>5 rows × 63 columns</p>\n",
       "</div>"
      ],
      "text/plain": [
       "         Data Source World Development Indicators         Unnamed: 2  \\\n",
       "0  Last Updated Date          2019-04-24 00:00:00                NaN   \n",
       "1                NaN                          NaN                NaN   \n",
       "2       Country Name                 Country Code     Indicator Name   \n",
       "3              Aruba                          ABW  Population, total   \n",
       "4        Afghanistan                          AFG  Population, total   \n",
       "\n",
       "       Unnamed: 3  Unnamed: 4  Unnamed: 5  Unnamed: 6  Unnamed: 7  Unnamed: 8  \\\n",
       "0             NaN         NaN         NaN         NaN         NaN         NaN   \n",
       "1             NaN         NaN         NaN         NaN         NaN         NaN   \n",
       "2  Indicator Code      1960.0      1961.0      1962.0      1963.0      1964.0   \n",
       "3     SP.POP.TOTL     54211.0     55438.0     56225.0     56695.0     57032.0   \n",
       "4     SP.POP.TOTL   8996351.0   9166764.0   9345868.0   9533954.0   9731361.0   \n",
       "\n",
       "   Unnamed: 9  ...  Unnamed: 53  Unnamed: 54  Unnamed: 55  Unnamed: 56  \\\n",
       "0         NaN  ...          NaN          NaN          NaN          NaN   \n",
       "1         NaN  ...          NaN          NaN          NaN          NaN   \n",
       "2      1965.0  ...       2009.0       2010.0       2011.0       2012.0   \n",
       "3     57360.0  ...     101453.0     101669.0     102053.0     102577.0   \n",
       "4   9938414.0  ...   28004331.0   28803167.0   29708599.0   30696958.0   \n",
       "\n",
       "   Unnamed: 57  Unnamed: 58  Unnamed: 59  Unnamed: 60  Unnamed: 61  \\\n",
       "0          NaN          NaN          NaN          NaN          NaN   \n",
       "1          NaN          NaN          NaN          NaN          NaN   \n",
       "2       2013.0       2014.0       2015.0       2016.0       2017.0   \n",
       "3     103187.0     103795.0     104341.0     104822.0     105264.0   \n",
       "4   31731688.0   32758020.0   33736494.0   34656032.0   35530081.0   \n",
       "\n",
       "   Unnamed: 62  \n",
       "0          NaN  \n",
       "1          NaN  \n",
       "2       2018.0  \n",
       "3          NaN  \n",
       "4          NaN  \n",
       "\n",
       "[5 rows x 63 columns]"
      ]
     },
     "execution_count": 56,
     "metadata": {},
     "output_type": "execute_result"
    }
   ],
   "source": [
    "# Check the data\n",
    "pop.head()"
   ]
  },
  {
   "cell_type": "code",
   "execution_count": 57,
   "metadata": {},
   "outputs": [
    {
     "data": {
      "text/plain": [
       "array([1960, 1961, 1962, 1963, 1964, 1965, 1966, 1967, 1968, 1969, 1970,\n",
       "       1971, 1972, 1973, 1974, 1975, 1976, 1977, 1978, 1979, 1980, 1981,\n",
       "       1982, 1983, 1984, 1985, 1986, 1987, 1988, 1989, 1990, 1991, 1992,\n",
       "       1993, 1994, 1995, 1996, 1997, 1998, 1999, 2000, 2001, 2002, 2003,\n",
       "       2004, 2005, 2006, 2007, 2008, 2009, 2010, 2011, 2012, 2013, 2014,\n",
       "       2015, 2016, 2017, 2018])"
      ]
     },
     "execution_count": 57,
     "metadata": {},
     "output_type": "execute_result"
    }
   ],
   "source": [
    "# Create a list of number from 1960 to 2018\n",
    "year_list_60_18 = np.arange(1960,2019)\n",
    "year_list_60_18"
   ]
  },
  {
   "cell_type": "code",
   "execution_count": 58,
   "metadata": {},
   "outputs": [],
   "source": [
    "# Rename the column\n",
    "pop_new_col = ['Country Name', 'Country Code','Indicator Name',\n",
    "              'Indicator Code']"
   ]
  },
  {
   "cell_type": "code",
   "execution_count": 59,
   "metadata": {},
   "outputs": [
    {
     "data": {
      "text/plain": [
       "['Country Name',\n",
       " 'Country Code',\n",
       " 'Indicator Name',\n",
       " 'Indicator Code',\n",
       " 1960,\n",
       " 1961,\n",
       " 1962]"
      ]
     },
     "execution_count": 59,
     "metadata": {},
     "output_type": "execute_result"
    }
   ],
   "source": [
    "# Append the year list to pop_new_col\n",
    "for year in year_list_60_18:\n",
    "    pop_new_col.append(year)\n",
    "pop_new_col[0:7]"
   ]
  },
  {
   "cell_type": "code",
   "execution_count": 60,
   "metadata": {},
   "outputs": [],
   "source": [
    "# Rename the column of pop. \n",
    "pop.columns = pop_new_col"
   ]
  },
  {
   "cell_type": "code",
   "execution_count": 61,
   "metadata": {},
   "outputs": [
    {
     "data": {
      "text/plain": [
       "(267, 63)"
      ]
     },
     "execution_count": 61,
     "metadata": {},
     "output_type": "execute_result"
    }
   ],
   "source": [
    "# Check the shape of pop data.\n",
    "pop.shape"
   ]
  },
  {
   "cell_type": "code",
   "execution_count": 62,
   "metadata": {},
   "outputs": [
    {
     "data": {
      "text/plain": [
       "266"
      ]
     },
     "execution_count": 62,
     "metadata": {},
     "output_type": "execute_result"
    }
   ],
   "source": [
    "# Check the missing value of year 2018\n",
    "pop[2018].isna().sum()"
   ]
  },
  {
   "cell_type": "code",
   "execution_count": 63,
   "metadata": {},
   "outputs": [],
   "source": [
    "# Drop the year 2018 due to uninfomative. \n",
    "pop.drop(columns = [2018], inplace = True)"
   ]
  },
  {
   "cell_type": "code",
   "execution_count": 64,
   "metadata": {},
   "outputs": [
    {
     "data": {
      "text/plain": [
       "[1995, 1996, 1997, 1998, 1999]"
      ]
     },
     "execution_count": 64,
     "metadata": {},
     "output_type": "execute_result"
    }
   ],
   "source": [
    "# I wanted the data between 2000 to 2018 only,\n",
    "# so I droped the column from 1960 to 1999\n",
    "# create a list for the above years\n",
    "year_list_60_99 = [year for year in range(1960,2000)]\n",
    "year_list_60_99[-5:]"
   ]
  },
  {
   "cell_type": "code",
   "execution_count": 65,
   "metadata": {},
   "outputs": [],
   "source": [
    "# Drop the years in columns\n",
    "pop = pop.drop(columns = year_list_60_99)"
   ]
  },
  {
   "cell_type": "code",
   "execution_count": 66,
   "metadata": {},
   "outputs": [],
   "source": [
    "# Select the USA as data only\n",
    "mask2 = pop['Country Name'] == 'United States'\n",
    "us_pop = pop[mask2]"
   ]
  },
  {
   "cell_type": "code",
   "execution_count": 67,
   "metadata": {},
   "outputs": [],
   "source": [
    "# Since we need only year data with population,\n",
    "# I removed the first 4 columns, too.\n",
    "us_pop = us_pop.drop(columns = ['Country Name','Country Code',\n",
    "                       'Indicator Name','Indicator Code'])"
   ]
  },
  {
   "cell_type": "code",
   "execution_count": 68,
   "metadata": {},
   "outputs": [],
   "source": [
    "# Convert the row and columns.\n",
    "us_pop = us_pop.T"
   ]
  },
  {
   "cell_type": "code",
   "execution_count": 69,
   "metadata": {},
   "outputs": [],
   "source": [
    "# Rename the column name.\n",
    "us_pop.columns = ['us population']"
   ]
  },
  {
   "cell_type": "code",
   "execution_count": 70,
   "metadata": {},
   "outputs": [
    {
     "data": {
      "text/html": [
       "<div>\n",
       "<style scoped>\n",
       "    .dataframe tbody tr th:only-of-type {\n",
       "        vertical-align: middle;\n",
       "    }\n",
       "\n",
       "    .dataframe tbody tr th {\n",
       "        vertical-align: top;\n",
       "    }\n",
       "\n",
       "    .dataframe thead th {\n",
       "        text-align: right;\n",
       "    }\n",
       "</style>\n",
       "<table border=\"1\" class=\"dataframe\">\n",
       "  <thead>\n",
       "    <tr style=\"text-align: right;\">\n",
       "      <th></th>\n",
       "      <th>us population</th>\n",
       "    </tr>\n",
       "  </thead>\n",
       "  <tbody>\n",
       "    <tr>\n",
       "      <th>2000</th>\n",
       "      <td>282162411.0</td>\n",
       "    </tr>\n",
       "    <tr>\n",
       "      <th>2001</th>\n",
       "      <td>284968955.0</td>\n",
       "    </tr>\n",
       "    <tr>\n",
       "      <th>2002</th>\n",
       "      <td>287625193.0</td>\n",
       "    </tr>\n",
       "    <tr>\n",
       "      <th>2003</th>\n",
       "      <td>290107933.0</td>\n",
       "    </tr>\n",
       "    <tr>\n",
       "      <th>2004</th>\n",
       "      <td>292805298.0</td>\n",
       "    </tr>\n",
       "  </tbody>\n",
       "</table>\n",
       "</div>"
      ],
      "text/plain": [
       "      us population\n",
       "2000    282162411.0\n",
       "2001    284968955.0\n",
       "2002    287625193.0\n",
       "2003    290107933.0\n",
       "2004    292805298.0"
      ]
     },
     "execution_count": 70,
     "metadata": {},
     "output_type": "execute_result"
    }
   ],
   "source": [
    "us_pop.head()"
   ]
  },
  {
   "cell_type": "markdown",
   "metadata": {},
   "source": [
    "## Employment <a name='employeement'></a>"
   ]
  },
  {
   "cell_type": "markdown",
   "metadata": {},
   "source": [
    "I considered the number of employee as one of the feature of the cost in GDP. Thus, I collected the data from the U.S. Bureau of Labor Statistics and select the three categories of employee number, include total, manufacturing, pharmaceutical and medicine manufacturings. "
   ]
  },
  {
   "cell_type": "code",
   "execution_count": 71,
   "metadata": {},
   "outputs": [],
   "source": [
    "# Load the employeement data\n",
    "emp = pd.read_excel('./data/Employment_us.xlsx')"
   ]
  },
  {
   "cell_type": "code",
   "execution_count": 72,
   "metadata": {},
   "outputs": [
    {
     "data": {
      "text/html": [
       "<div>\n",
       "<style scoped>\n",
       "    .dataframe tbody tr th:only-of-type {\n",
       "        vertical-align: middle;\n",
       "    }\n",
       "\n",
       "    .dataframe tbody tr th {\n",
       "        vertical-align: top;\n",
       "    }\n",
       "\n",
       "    .dataframe thead th {\n",
       "        text-align: right;\n",
       "    }\n",
       "</style>\n",
       "<table border=\"1\" class=\"dataframe\">\n",
       "  <thead>\n",
       "    <tr style=\"text-align: right;\">\n",
       "      <th></th>\n",
       "      <th>Employment</th>\n",
       "      <th>2002</th>\n",
       "      <th>2003</th>\n",
       "      <th>2004</th>\n",
       "      <th>2005</th>\n",
       "      <th>2006</th>\n",
       "      <th>2007</th>\n",
       "      <th>2008</th>\n",
       "      <th>2009</th>\n",
       "      <th>2010</th>\n",
       "      <th>2011</th>\n",
       "      <th>2012</th>\n",
       "      <th>2013</th>\n",
       "      <th>2014</th>\n",
       "      <th>2015</th>\n",
       "      <th>2016</th>\n",
       "      <th>2017</th>\n",
       "      <th>2018</th>\n",
       "    </tr>\n",
       "  </thead>\n",
       "  <tbody>\n",
       "    <tr>\n",
       "      <th>0</th>\n",
       "      <td>Total</td>\n",
       "      <td>136485.0</td>\n",
       "      <td>137736</td>\n",
       "      <td>139252</td>\n",
       "      <td>141730</td>\n",
       "      <td>144427</td>\n",
       "      <td>146047</td>\n",
       "      <td>145362</td>\n",
       "      <td>139877</td>\n",
       "      <td>139064</td>\n",
       "      <td>139869</td>\n",
       "      <td>142469</td>\n",
       "      <td>143929</td>\n",
       "      <td>146305</td>\n",
       "      <td>148834</td>\n",
       "      <td>151436</td>\n",
       "      <td>153337</td>\n",
       "      <td>155761</td>\n",
       "    </tr>\n",
       "    <tr>\n",
       "      <th>1</th>\n",
       "      <td>Manufacturing</td>\n",
       "      <td>18147.0</td>\n",
       "      <td>16902</td>\n",
       "      <td>16484</td>\n",
       "      <td>16253</td>\n",
       "      <td>16377</td>\n",
       "      <td>16302</td>\n",
       "      <td>15904</td>\n",
       "      <td>14202</td>\n",
       "      <td>14081</td>\n",
       "      <td>14336</td>\n",
       "      <td>14686</td>\n",
       "      <td>14869</td>\n",
       "      <td>15100</td>\n",
       "      <td>15338</td>\n",
       "      <td>15408</td>\n",
       "      <td>15408</td>\n",
       "      <td>15560</td>\n",
       "    </tr>\n",
       "    <tr>\n",
       "      <th>2</th>\n",
       "      <td>Pharmaceutical and medicine manufacturing</td>\n",
       "      <td>NaN</td>\n",
       "      <td>481</td>\n",
       "      <td>438</td>\n",
       "      <td>420</td>\n",
       "      <td>417</td>\n",
       "      <td>468</td>\n",
       "      <td>457</td>\n",
       "      <td>462</td>\n",
       "      <td>423</td>\n",
       "      <td>458</td>\n",
       "      <td>451</td>\n",
       "      <td>448</td>\n",
       "      <td>486</td>\n",
       "      <td>521</td>\n",
       "      <td>556</td>\n",
       "      <td>518</td>\n",
       "      <td>563</td>\n",
       "    </tr>\n",
       "  </tbody>\n",
       "</table>\n",
       "</div>"
      ],
      "text/plain": [
       "                                  Employment      2002    2003    2004  \\\n",
       "0                                      Total  136485.0  137736  139252   \n",
       "1                              Manufacturing   18147.0   16902   16484   \n",
       "2  Pharmaceutical and medicine manufacturing       NaN     481     438   \n",
       "\n",
       "     2005    2006    2007    2008    2009    2010    2011    2012    2013  \\\n",
       "0  141730  144427  146047  145362  139877  139064  139869  142469  143929   \n",
       "1   16253   16377   16302   15904   14202   14081   14336   14686   14869   \n",
       "2     420     417     468     457     462     423     458     451     448   \n",
       "\n",
       "     2014    2015    2016    2017    2018  \n",
       "0  146305  148834  151436  153337  155761  \n",
       "1   15100   15338   15408   15408   15560  \n",
       "2     486     521     556     518     563  "
      ]
     },
     "execution_count": 72,
     "metadata": {},
     "output_type": "execute_result"
    }
   ],
   "source": [
    "# Take a look at emp data\n",
    "emp.head()"
   ]
  },
  {
   "cell_type": "code",
   "execution_count": 73,
   "metadata": {},
   "outputs": [],
   "source": [
    "# Convert the year to be index\n",
    "emp = emp.T"
   ]
  },
  {
   "cell_type": "code",
   "execution_count": 74,
   "metadata": {},
   "outputs": [],
   "source": [
    "# Rename the column name \n",
    "emp.columns = ['total employee','manufacturing employee',\n",
    "               'p&m employee']"
   ]
  },
  {
   "cell_type": "code",
   "execution_count": 75,
   "metadata": {},
   "outputs": [],
   "source": [
    "# Drop the first row\n",
    "emp = emp[1:]"
   ]
  },
  {
   "cell_type": "code",
   "execution_count": 76,
   "metadata": {},
   "outputs": [],
   "source": [
    "# Times a thoudsand to get the correct employment number\n",
    "emp = emp*1000"
   ]
  },
  {
   "cell_type": "code",
   "execution_count": 77,
   "metadata": {},
   "outputs": [],
   "source": [
    "# Add the \n",
    "emp_m = emp[['manufacturing employee']]"
   ]
  },
  {
   "cell_type": "code",
   "execution_count": 78,
   "metadata": {},
   "outputs": [
    {
     "data": {
      "text/html": [
       "<div>\n",
       "<style scoped>\n",
       "    .dataframe tbody tr th:only-of-type {\n",
       "        vertical-align: middle;\n",
       "    }\n",
       "\n",
       "    .dataframe tbody tr th {\n",
       "        vertical-align: top;\n",
       "    }\n",
       "\n",
       "    .dataframe thead th {\n",
       "        text-align: right;\n",
       "    }\n",
       "</style>\n",
       "<table border=\"1\" class=\"dataframe\">\n",
       "  <thead>\n",
       "    <tr style=\"text-align: right;\">\n",
       "      <th></th>\n",
       "      <th>manufacturing employee</th>\n",
       "    </tr>\n",
       "  </thead>\n",
       "  <tbody>\n",
       "    <tr>\n",
       "      <th>2002</th>\n",
       "      <td>1.8147e+07</td>\n",
       "    </tr>\n",
       "    <tr>\n",
       "      <th>2003</th>\n",
       "      <td>16902000</td>\n",
       "    </tr>\n",
       "    <tr>\n",
       "      <th>2004</th>\n",
       "      <td>16484000</td>\n",
       "    </tr>\n",
       "    <tr>\n",
       "      <th>2005</th>\n",
       "      <td>16253000</td>\n",
       "    </tr>\n",
       "    <tr>\n",
       "      <th>2006</th>\n",
       "      <td>16377000</td>\n",
       "    </tr>\n",
       "  </tbody>\n",
       "</table>\n",
       "</div>"
      ],
      "text/plain": [
       "     manufacturing employee\n",
       "2002             1.8147e+07\n",
       "2003               16902000\n",
       "2004               16484000\n",
       "2005               16253000\n",
       "2006               16377000"
      ]
     },
     "execution_count": 78,
     "metadata": {},
     "output_type": "execute_result"
    }
   ],
   "source": [
    "emp_m.head()"
   ]
  },
  {
   "cell_type": "markdown",
   "metadata": {},
   "source": [
    "# Merge Data <a name='merge'></a>"
   ]
  },
  {
   "cell_type": "code",
   "execution_count": 79,
   "metadata": {},
   "outputs": [],
   "source": [
    "# merge the data by emp\n",
    "gdp_emp = gdp_97_18_m.merge(emp_m, how ='right',\n",
    "                 left_index=True, right_index=True)"
   ]
  },
  {
   "cell_type": "code",
   "execution_count": 80,
   "metadata": {},
   "outputs": [],
   "source": [
    "# Merge the gdp_emp with population\n",
    "gdp_emp_pop = gdp_emp.merge(us_pop, how = 'inner',\n",
    "                 left_index = True,\n",
    "                 right_index = True)"
   ]
  },
  {
   "cell_type": "code",
   "execution_count": 81,
   "metadata": {},
   "outputs": [],
   "source": [
    "# Merge the balance with total investment.\n",
    "balance_inv = balance.merge(inv,  how = 'inner',\n",
    "                             left_index = True, right_index = True)"
   ]
  },
  {
   "cell_type": "code",
   "execution_count": 82,
   "metadata": {},
   "outputs": [],
   "source": [
    "# Merge all the data together\n",
    "df = gdp_emp_pop.merge(balance_inv, how = 'inner',\n",
    "                       left_index = True, right_index = True)"
   ]
  },
  {
   "cell_type": "markdown",
   "metadata": {},
   "source": [
    "# Exploratory Data Analysis <a name='eda'></a>"
   ]
  },
  {
   "cell_type": "code",
   "execution_count": 83,
   "metadata": {},
   "outputs": [
    {
     "data": {
      "text/html": [
       "<div>\n",
       "<style scoped>\n",
       "    .dataframe tbody tr th:only-of-type {\n",
       "        vertical-align: middle;\n",
       "    }\n",
       "\n",
       "    .dataframe tbody tr th {\n",
       "        vertical-align: top;\n",
       "    }\n",
       "\n",
       "    .dataframe thead th {\n",
       "        text-align: right;\n",
       "    }\n",
       "</style>\n",
       "<table border=\"1\" class=\"dataframe\">\n",
       "  <thead>\n",
       "    <tr style=\"text-align: right;\">\n",
       "      <th></th>\n",
       "      <th>manufacturing GDP</th>\n",
       "      <th>manufacturing employee</th>\n",
       "      <th>us population</th>\n",
       "      <th>total_import</th>\n",
       "      <th>China</th>\n",
       "      <th>Mexico</th>\n",
       "      <th>Canada</th>\n",
       "      <th>Japan</th>\n",
       "      <th>Germany</th>\n",
       "      <th>South Korea</th>\n",
       "      <th>...</th>\n",
       "      <th>337--furniture &amp; fixtures</th>\n",
       "      <th>315--apparel manufacturing products</th>\n",
       "      <th>323--printed matter and related products, nesoi</th>\n",
       "      <th>316--leather &amp; allied products</th>\n",
       "      <th>314--textile mills products</th>\n",
       "      <th>511--newspapers, books &amp; other published matter, nesoi</th>\n",
       "      <th>trade_balance</th>\n",
       "      <th>manufacturing_inv_to_abroad</th>\n",
       "      <th>manufacturing_inv_from_abroad</th>\n",
       "      <th>inv</th>\n",
       "    </tr>\n",
       "  </thead>\n",
       "  <tbody>\n",
       "    <tr>\n",
       "      <th>2002</th>\n",
       "      <td>1.46849e+12</td>\n",
       "      <td>1.8147e+07</td>\n",
       "      <td>287625193.0</td>\n",
       "      <td>9.84162e+11</td>\n",
       "      <td>1.2212e+11</td>\n",
       "      <td>1.13695e+11</td>\n",
       "      <td>1.63001e+11</td>\n",
       "      <td>1.17222e+11</td>\n",
       "      <td>5.87622e+10</td>\n",
       "      <td>3.46668e+10</td>\n",
       "      <td>...</td>\n",
       "      <td>2.63679e+09</td>\n",
       "      <td>5.99311e+09</td>\n",
       "      <td>4.7677e+09</td>\n",
       "      <td>2.64245e+09</td>\n",
       "      <td>1.98186e+09</td>\n",
       "      <td>3.2408e+08</td>\n",
       "      <td>-3.61534e+11</td>\n",
       "      <td>337741</td>\n",
       "      <td>451985</td>\n",
       "      <td>114244</td>\n",
       "    </tr>\n",
       "    <tr>\n",
       "      <th>2003</th>\n",
       "      <td>1.52421e+12</td>\n",
       "      <td>16902000</td>\n",
       "      <td>290107933.0</td>\n",
       "      <td>1.04836e+12</td>\n",
       "      <td>1.48702e+11</td>\n",
       "      <td>1.13408e+11</td>\n",
       "      <td>1.67643e+11</td>\n",
       "      <td>1.13885e+11</td>\n",
       "      <td>6.45614e+10</td>\n",
       "      <td>3.63723e+10</td>\n",
       "      <td>...</td>\n",
       "      <td>2.86155e+09</td>\n",
       "      <td>5.46727e+09</td>\n",
       "      <td>4.98669e+09</td>\n",
       "      <td>2.7637e+09</td>\n",
       "      <td>1.99688e+09</td>\n",
       "      <td>3.40097e+08</td>\n",
       "      <td>-4.01365e+11</td>\n",
       "      <td>371078</td>\n",
       "      <td>465401</td>\n",
       "      <td>94323</td>\n",
       "    </tr>\n",
       "    <tr>\n",
       "      <th>2004</th>\n",
       "      <td>1.6081e+12</td>\n",
       "      <td>16484000</td>\n",
       "      <td>292805298.0</td>\n",
       "      <td>1.21383e+12</td>\n",
       "      <td>1.92097e+11</td>\n",
       "      <td>1.26071e+11</td>\n",
       "      <td>1.92415e+11</td>\n",
       "      <td>1.25453e+11</td>\n",
       "      <td>7.34132e+10</td>\n",
       "      <td>4.51554e+10</td>\n",
       "      <td>...</td>\n",
       "      <td>3.12938e+09</td>\n",
       "      <td>4.97415e+09</td>\n",
       "      <td>5.25633e+09</td>\n",
       "      <td>2.99209e+09</td>\n",
       "      <td>2.2573e+09</td>\n",
       "      <td>7.50575e+08</td>\n",
       "      <td>-4.86849e+11</td>\n",
       "      <td>416643</td>\n",
       "      <td>475214</td>\n",
       "      <td>58571</td>\n",
       "    </tr>\n",
       "    <tr>\n",
       "      <th>2005</th>\n",
       "      <td>1.69344e+12</td>\n",
       "      <td>16253000</td>\n",
       "      <td>295516599.0</td>\n",
       "      <td>1.34667e+12</td>\n",
       "      <td>2.37689e+11</td>\n",
       "      <td>1.34472e+11</td>\n",
       "      <td>2.07813e+11</td>\n",
       "      <td>1.3326e+11</td>\n",
       "      <td>8.0632e+10</td>\n",
       "      <td>4.27365e+10</td>\n",
       "      <td>...</td>\n",
       "      <td>3.45895e+09</td>\n",
       "      <td>4.90693e+09</td>\n",
       "      <td>5.82447e+09</td>\n",
       "      <td>3.14822e+09</td>\n",
       "      <td>2.54779e+09</td>\n",
       "      <td>9.97764e+08</td>\n",
       "      <td>-5.41373e+11</td>\n",
       "      <td>430737</td>\n",
       "      <td>499851</td>\n",
       "      <td>69114</td>\n",
       "    </tr>\n",
       "    <tr>\n",
       "      <th>2006</th>\n",
       "      <td>1.79384e+12</td>\n",
       "      <td>16377000</td>\n",
       "      <td>298379912.0</td>\n",
       "      <td>1.48172e+12</td>\n",
       "      <td>2.80763e+11</td>\n",
       "      <td>1.54162e+11</td>\n",
       "      <td>2.1577e+11</td>\n",
       "      <td>1.42795e+11</td>\n",
       "      <td>8.41864e+10</td>\n",
       "      <td>4.47547e+10</td>\n",
       "      <td>...</td>\n",
       "      <td>3.81654e+09</td>\n",
       "      <td>4.7854e+09</td>\n",
       "      <td>6.12764e+09</td>\n",
       "      <td>3.35846e+09</td>\n",
       "      <td>2.79721e+09</td>\n",
       "      <td>9.62853e+08</td>\n",
       "      <td>-5.67294e+11</td>\n",
       "      <td>441724</td>\n",
       "      <td>569324</td>\n",
       "      <td>127600</td>\n",
       "    </tr>\n",
       "  </tbody>\n",
       "</table>\n",
       "<p>5 rows × 268 columns</p>\n",
       "</div>"
      ],
      "text/plain": [
       "     manufacturing GDP manufacturing employee  us population total_import  \\\n",
       "2002       1.46849e+12             1.8147e+07    287625193.0  9.84162e+11   \n",
       "2003       1.52421e+12               16902000    290107933.0  1.04836e+12   \n",
       "2004        1.6081e+12               16484000    292805298.0  1.21383e+12   \n",
       "2005       1.69344e+12               16253000    295516599.0  1.34667e+12   \n",
       "2006       1.79384e+12               16377000    298379912.0  1.48172e+12   \n",
       "\n",
       "            China       Mexico       Canada        Japan      Germany  \\\n",
       "2002   1.2212e+11  1.13695e+11  1.63001e+11  1.17222e+11  5.87622e+10   \n",
       "2003  1.48702e+11  1.13408e+11  1.67643e+11  1.13885e+11  6.45614e+10   \n",
       "2004  1.92097e+11  1.26071e+11  1.92415e+11  1.25453e+11  7.34132e+10   \n",
       "2005  2.37689e+11  1.34472e+11  2.07813e+11   1.3326e+11   8.0632e+10   \n",
       "2006  2.80763e+11  1.54162e+11   2.1577e+11  1.42795e+11  8.41864e+10   \n",
       "\n",
       "      South Korea  ... 337--furniture & fixtures  \\\n",
       "2002  3.46668e+10  ...               2.63679e+09   \n",
       "2003  3.63723e+10  ...               2.86155e+09   \n",
       "2004  4.51554e+10  ...               3.12938e+09   \n",
       "2005  4.27365e+10  ...               3.45895e+09   \n",
       "2006  4.47547e+10  ...               3.81654e+09   \n",
       "\n",
       "     315--apparel manufacturing products  \\\n",
       "2002                         5.99311e+09   \n",
       "2003                         5.46727e+09   \n",
       "2004                         4.97415e+09   \n",
       "2005                         4.90693e+09   \n",
       "2006                          4.7854e+09   \n",
       "\n",
       "     323--printed matter and related products, nesoi  \\\n",
       "2002                                      4.7677e+09   \n",
       "2003                                     4.98669e+09   \n",
       "2004                                     5.25633e+09   \n",
       "2005                                     5.82447e+09   \n",
       "2006                                     6.12764e+09   \n",
       "\n",
       "     316--leather & allied products 314--textile mills products  \\\n",
       "2002                    2.64245e+09                 1.98186e+09   \n",
       "2003                     2.7637e+09                 1.99688e+09   \n",
       "2004                    2.99209e+09                  2.2573e+09   \n",
       "2005                    3.14822e+09                 2.54779e+09   \n",
       "2006                    3.35846e+09                 2.79721e+09   \n",
       "\n",
       "     511--newspapers, books & other published matter, nesoi trade_balance  \\\n",
       "2002                                         3.2408e+08      -3.61534e+11   \n",
       "2003                                        3.40097e+08      -4.01365e+11   \n",
       "2004                                        7.50575e+08      -4.86849e+11   \n",
       "2005                                        9.97764e+08      -5.41373e+11   \n",
       "2006                                        9.62853e+08      -5.67294e+11   \n",
       "\n",
       "     manufacturing_inv_to_abroad manufacturing_inv_from_abroad     inv  \n",
       "2002                      337741                        451985  114244  \n",
       "2003                      371078                        465401   94323  \n",
       "2004                      416643                        475214   58571  \n",
       "2005                      430737                        499851   69114  \n",
       "2006                      441724                        569324  127600  \n",
       "\n",
       "[5 rows x 268 columns]"
      ]
     },
     "execution_count": 83,
     "metadata": {},
     "output_type": "execute_result"
    }
   ],
   "source": [
    "# Check the df data\n",
    "df.head()"
   ]
  },
  {
   "cell_type": "code",
   "execution_count": 84,
   "metadata": {
    "scrolled": true
   },
   "outputs": [
    {
     "data": {
      "text/plain": [
       "(16, 268)"
      ]
     },
     "execution_count": 84,
     "metadata": {},
     "output_type": "execute_result"
    }
   ],
   "source": [
    "# Check the data shape\n",
    "df.shape"
   ]
  },
  {
   "cell_type": "code",
   "execution_count": 85,
   "metadata": {},
   "outputs": [],
   "source": [
    "# Check the null value \n",
    "null = df.isnull().sum()"
   ]
  },
  {
   "cell_type": "code",
   "execution_count": 86,
   "metadata": {},
   "outputs": [
    {
     "data": {
      "text/plain": [
       "array(['manufacturing GDP', 'manufacturing employee', 'us population',\n",
       "       'total_import', 'China'], dtype=object)"
      ]
     },
     "execution_count": 86,
     "metadata": {},
     "output_type": "execute_result"
    }
   ],
   "source": [
    "# Check the column name\n",
    "df.columns.values[0:5]"
   ]
  },
  {
   "cell_type": "code",
   "execution_count": 87,
   "metadata": {},
   "outputs": [
    {
     "name": "stdout",
     "output_type": "stream",
     "text": [
      "<class 'pandas.core.frame.DataFrame'>\n",
      "Int64Index: 16 entries, 2002 to 2017\n",
      "Columns: 268 entries, manufacturing GDP to inv\n",
      "dtypes: float64(1), object(267)\n",
      "memory usage: 34.2+ KB\n"
     ]
    }
   ],
   "source": [
    "# Check the type of each columns\n",
    "df.info()"
   ]
  },
  {
   "cell_type": "code",
   "execution_count": 88,
   "metadata": {},
   "outputs": [],
   "source": [
    "# Change the type of each column to int\n",
    "df = df.astype(float)"
   ]
  },
  {
   "cell_type": "code",
   "execution_count": 89,
   "metadata": {},
   "outputs": [
    {
     "data": {
      "text/plain": [
       "<matplotlib.axes._subplots.AxesSubplot at 0x1a1cf70860>"
      ]
     },
     "execution_count": 89,
     "metadata": {},
     "output_type": "execute_result"
    },
    {
     "data": {
      "image/png": "[encoded data removed]",
      "text/plain": [
       "<Figure size 216x3600 with 2 Axes>"
      ]
     },
     "metadata": {
      "needs_background": "light"
     },
     "output_type": "display_data"
    }
   ],
   "source": [
    "# Set the figure size\n",
    "plt.figure(figsize = (3,50))\n",
    "\n",
    "# Some of the columns were not showing, so plot the bar plot\n",
    "sns.heatmap(df.corr()[['manufacturing GDP']].sort_values(['manufacturing GDP']),\n",
    "           annot = True, cmap = 'coolwarm')"
   ]
  },
  {
   "cell_type": "code",
   "execution_count": 90,
   "metadata": {},
   "outputs": [
    {
     "name": "stdout",
     "output_type": "stream",
     "text": [
      "<class 'pandas.core.frame.DataFrame'>\n",
      "Int64Index: 16 entries, 2002 to 2017\n",
      "Columns: 268 entries, manufacturing GDP to inv\n",
      "dtypes: float64(268)\n",
      "memory usage: 34.2 KB\n"
     ]
    }
   ],
   "source": [
    "df.info()"
   ]
  },
  {
   "cell_type": "code",
   "execution_count": 91,
   "metadata": {},
   "outputs": [],
   "source": [
    "# the features are too much, so I shark the feature to only 6\n",
    "df_shark = df[['manufacturing GDP','manufacturing employee',\n",
    "              'us population','inv','trade_balance','total_import','total_export']]"
   ]
  },
  {
   "cell_type": "code",
   "execution_count": 92,
   "metadata": {},
   "outputs": [],
   "source": [
    "# Change the columns name of shark \n",
    "df_shark.columns = ['GDP','employee','population','inv','trade_balance','import','export']"
   ]
  },
  {
   "cell_type": "code",
   "execution_count": 93,
   "metadata": {
    "scrolled": true
   },
   "outputs": [
    {
     "name": "stderr",
     "output_type": "stream",
     "text": [
      "/anaconda3/lib/python3.7/site-packages/ipykernel_launcher.py:1: SettingWithCopyWarning: \n",
      "A value is trying to be set on a copy of a slice from a DataFrame.\n",
      "Try using .loc[row_indexer,col_indexer] = value instead\n",
      "\n",
      "See the caveats in the documentation: http://pandas.pydata.org/pandas-docs/stable/indexing.html#indexing-view-versus-copy\n",
      "  \"\"\"Entry point for launching an IPython kernel.\n"
     ]
    }
   ],
   "source": [
    "df_shark['year'] = df_shark.index.astype(float)"
   ]
  },
  {
   "cell_type": "code",
   "execution_count": 94,
   "metadata": {},
   "outputs": [
    {
     "name": "stdout",
     "output_type": "stream",
     "text": [
      "<class 'pandas.core.frame.DataFrame'>\n",
      "Int64Index: 16 entries, 2002 to 2017\n",
      "Data columns (total 8 columns):\n",
      "GDP              16 non-null float64\n",
      "employee         16 non-null float64\n",
      "population       16 non-null float64\n",
      "inv              16 non-null float64\n",
      "trade_balance    16 non-null float64\n",
      "import           16 non-null float64\n",
      "export           16 non-null float64\n",
      "year             16 non-null float64\n",
      "dtypes: float64(8)\n",
      "memory usage: 1.8 KB\n"
     ]
    }
   ],
   "source": [
    "# Check the type of df_shark data\n",
    "df_shark.info()"
   ]
  },
  {
   "cell_type": "code",
   "execution_count": 95,
   "metadata": {},
   "outputs": [
    {
     "data": {
      "text/plain": [
       "<matplotlib.axes._subplots.AxesSubplot at 0x1a1f5cb9e8>"
      ]
     },
     "execution_count": 95,
     "metadata": {},
     "output_type": "execute_result"
    },
    {
     "data": {
      "image/png": "[encoded data removed]",
      "text/plain": [
       "<Figure size 144x216 with 2 Axes>"
      ]
     },
     "metadata": {
      "needs_background": "light"
     },
     "output_type": "display_data"
    }
   ],
   "source": [
    "# Set the figure size\n",
    "plt.figure(figsize = (2,3))\n",
    "# Plot the heatmap to check the correlation of each feature\n",
    "sns.heatmap(df_shark.corr()[['GDP']].sort_values('GDP'),\n",
    "            annot = True, cmap = 'coolwarm')"
   ]
  },
  {
   "cell_type": "code",
   "execution_count": 96,
   "metadata": {},
   "outputs": [
    {
     "data": {
      "text/plain": [
       "Text(0.5, 1.0, 'Impot/Export and GDP Growth Value Since 2002')"
      ]
     },
     "execution_count": 96,
     "metadata": {},
     "output_type": "execute_result"
    },
    {
     "data": {
      "image/png": "[encoded data removed]",
      "text/plain": [
       "<Figure size 576x360 with 1 Axes>"
      ]
     },
     "metadata": {
      "needs_background": "light"
     },
     "output_type": "display_data"
    }
   ],
   "source": [
    "plt.figure(figsize = (8,5))\n",
    "# I want to know how each feature growth each year\n",
    "features = ['GDP','import','export','trade_balance']\n",
    "\n",
    "sns.lineplot('year','GDP', data = df_shark)\n",
    "sns.lineplot('year','import', data = df_shark)\n",
    "sns.lineplot('year','export', data = df_shark)\n",
    "sns.lineplot('year','trade_balance',data =df_shark)\n",
    "\n",
    "plt.xlabel('Year')\n",
    "plt.ylabel('Value Add')\n",
    "plt.legend(labels = features)\n",
    "plt.title('Impot/Export and GDP Growth Value Since 2002')"
   ]
  },
  {
   "cell_type": "markdown",
   "metadata": {},
   "source": [
    "- The line chart in the above chart shows the relationship between GDP and imports, exports and trade balance over the years. First, since 2009, except for 2009, the growth trend of GDP and total imports has increased. The huge decline in 2009 was due to the financial crisis that began in the United States and the global economic recession that caused the world's economic recession. Export trends fell twice in 2009 and 2015 to 2016. For the year 2015 to 2016, the weak global economy and the strengthening of the US dollar, exports have fallen, making US goods and services more expensive. Second, the growth rate of import growth has exceeded the trend before 2008. "
   ]
  },
  {
   "cell_type": "code",
   "execution_count": 97,
   "metadata": {},
   "outputs": [
    {
     "data": {
      "text/plain": [
       "Text(0.5, 1.0, 'Population Since 2002')"
      ]
     },
     "execution_count": 97,
     "metadata": {},
     "output_type": "execute_result"
    },
    {
     "data": {
      "image/png": "[encoded data removed]",
      "text/plain": [
       "<Figure size 648x288 with 1 Axes>"
      ]
     },
     "metadata": {
      "needs_background": "light"
     },
     "output_type": "display_data"
    }
   ],
   "source": [
    "plt.figure(figsize = (9,4))\n",
    "# plot the bar plot\n",
    "sns.barplot(df_shark['year'].astype(int),'population', data = df_shark)\n",
    "\n",
    "# Set the labels\n",
    "plt.xlabel('Year')\n",
    "plt.ylabel('Population')\n",
    "plt.title('Population Since 2002')"
   ]
  },
  {
   "cell_type": "code",
   "execution_count": 98,
   "metadata": {},
   "outputs": [
    {
     "data": {
      "text/plain": [
       "Text(0.5, 1.0, 'Investment Since 2002')"
      ]
     },
     "execution_count": 98,
     "metadata": {},
     "output_type": "execute_result"
    },
    {
     "data": {
      "image/png": "[encoded data removed]",
      "text/plain": [
       "<Figure size 648x288 with 1 Axes>"
      ]
     },
     "metadata": {
      "needs_background": "light"
     },
     "output_type": "display_data"
    }
   ],
   "source": [
    "# Set the figure size\n",
    "plt.figure(figsize = (9,4))\n",
    "\n",
    "# Plot the bar plot\n",
    "sns.barplot(df_shark['year'].astype(int),'inv', data = df_shark)\n",
    "\n",
    "# Set the labels\n",
    "plt.xlabel('Year')\n",
    "plt.ylabel('Investment')\n",
    "plt.title('Investment Since 2002')"
   ]
  },
  {
   "cell_type": "code",
   "execution_count": 99,
   "metadata": {},
   "outputs": [
    {
     "data": {
      "text/plain": [
       "Text(0.5, 1.0, 'Employment Since 2002')"
      ]
     },
     "execution_count": 99,
     "metadata": {},
     "output_type": "execute_result"
    },
    {
     "data": {
      "image/png": "[encoded data removed]",
      "text/plain": [
       "<Figure size 648x288 with 1 Axes>"
      ]
     },
     "metadata": {
      "needs_background": "light"
     },
     "output_type": "display_data"
    }
   ],
   "source": [
    "# Set the figure size\n",
    "plt.figure(figsize = (9,4))\n",
    "\n",
    "# Plot the bar plot\n",
    "sns.barplot(df_shark['year'].astype(int),'employee', data = df_shark)\n",
    "\n",
    "# Set the labels\n",
    "plt.xlabel('Year')\n",
    "plt.ylabel('Employee')\n",
    "plt.title('Employment Since 2002')"
   ]
  },
  {
   "cell_type": "markdown",
   "metadata": {},
   "source": [
    "# Features selection <a name='features-selection'></a>"
   ]
  },
  {
   "cell_type": "markdown",
   "metadata": {},
   "source": [
    "During the feature selection, I selected only 'import' as my feature because it showed 0.98 correlated to GDP in the above heatmap. I used it to test which model worked the best. But Linear Regression, Lasso, and Ridge model worked pretty well and showed about 0.96 in train score, and 0.97 in test score which is much higher than I expeted. High R^2 score indicated that import can explain ~96% of variance in total variance. However, in the formula of GDP, import is only one of the variables. Due to the prefrence of import variable, I tested all other features in df_shark and compare their result by using Linear Regression. "
   ]
  },
  {
   "cell_type": "markdown",
   "metadata": {},
   "source": [
    "## One feature <a name='one-feature'></a>"
   ]
  },
  {
   "cell_type": "markdown",
   "metadata": {},
   "source": [
    "### Import-Linear Regression"
   ]
  },
  {
   "cell_type": "code",
   "execution_count": 100,
   "metadata": {},
   "outputs": [],
   "source": [
    "# Select the X and y\n",
    "X = df_shark[['import']]\n",
    "y = df_shark['GDP']"
   ]
  },
  {
   "cell_type": "code",
   "execution_count": 101,
   "metadata": {},
   "outputs": [
    {
     "data": {
      "text/plain": [
       "(16, 1)"
      ]
     },
     "execution_count": 101,
     "metadata": {},
     "output_type": "execute_result"
    }
   ],
   "source": [
    "X.shape"
   ]
  },
  {
   "cell_type": "code",
   "execution_count": 102,
   "metadata": {},
   "outputs": [
    {
     "data": {
      "text/plain": [
       "(16,)"
      ]
     },
     "execution_count": 102,
     "metadata": {},
     "output_type": "execute_result"
    }
   ],
   "source": [
    "y.shape"
   ]
  },
  {
   "cell_type": "code",
   "execution_count": 103,
   "metadata": {},
   "outputs": [],
   "source": [
    "# Define a function of linear regression to avoid the duplicate work\n",
    "def linear_reg(X_var,y_var):\n",
    "    # train test split the data\n",
    "    X_var_train, X_var_test, y_var_train,y_var_test = train_test_split(X_var,y_var,\n",
    "                                                       random_state = 4)\n",
    "\n",
    "    # Initiate model\n",
    "    lr = LinearRegression()\n",
    "\n",
    "    # fit the model\n",
    "    model = lr.fit(X_var_train, y_var_train)\n",
    "\n",
    "    # Get the predict \n",
    "    lr_y_var_hat_train = model.predict(X_var_train)\n",
    "    lr_y_var_hat_test = model.predict(X_var_test)\n",
    "\n",
    "    # Score the predict\n",
    "    print(\"(lr)R^2 Train score: \",r2_score(y_var_train,lr_y_var_hat_train))\n",
    "    print(\"(lr)R^2 Test score: \",r2_score(y_var_test, lr_y_var_hat_test))\n",
    "    return"
   ]
  },
  {
   "cell_type": "code",
   "execution_count": 104,
   "metadata": {},
   "outputs": [
    {
     "name": "stdout",
     "output_type": "stream",
     "text": [
      "(lr)R^2 Train score:  0.9558823555684157\n",
      "(lr)R^2 Test score:  0.97921913919045\n"
     ]
    }
   ],
   "source": [
    "linear_reg(X,y)"
   ]
  },
  {
   "cell_type": "markdown",
   "metadata": {},
   "source": [
    "### Import-Lasso"
   ]
  },
  {
   "cell_type": "code",
   "execution_count": 105,
   "metadata": {},
   "outputs": [],
   "source": [
    "def lasso(X_var,y_var):\n",
    "    # train test split the data\n",
    "    X_var_train, X_var_test, y_var_train,y_var_test = train_test_split(X_var,y_var,\n",
    "                                                       random_state = 4)\n",
    "    \n",
    "    # Standard Scale the train and test of X\n",
    "    # use ss is to let every data become unitless \n",
    "    ss = StandardScaler()\n",
    "\n",
    "    #use \n",
    "    ss.fit(X_var_train)\n",
    "    X_var_train_ss = ss.transform(X_var_train)\n",
    "    X_var_test_ss = ss.transform(X_var_test)\n",
    "    # Create lasso regression with some possible alpha values\n",
    "    lasso = LassoCV(alphas=[0.01,0.1,1,5,10,100,1000,2000,\n",
    "                            3000,4000,5000,10000], cv =5)\n",
    "\n",
    "    # Fit the linear regression\n",
    "    lasso_model = lasso.fit(X_var_train_ss , y_var_train)\n",
    "\n",
    "    #Generate predictions\n",
    "    y_hat_lasso_train_var = lasso_model.predict(X_var_train_ss)\n",
    "    y_hat_lasso_test_var = lasso_model.predict(X_var_test_ss)\n",
    "\n",
    "    # calculate teh R^2 score\n",
    "    print(\"(lasso)R^2 Train score: \",r2_score(y_var_train, y_hat_lasso_train_var))\n",
    "    print(\"(lasso)R^2 Test score: \",r2_score(y_var_test, y_hat_lasso_test_var))"
   ]
  },
  {
   "cell_type": "code",
   "execution_count": 106,
   "metadata": {},
   "outputs": [
    {
     "name": "stdout",
     "output_type": "stream",
     "text": [
      "(lasso)R^2 Train score:  0.9558823555684156\n",
      "(lasso)R^2 Test score:  0.9792191391904475\n"
     ]
    }
   ],
   "source": [
    "lasso(X,y)"
   ]
  },
  {
   "cell_type": "markdown",
   "metadata": {},
   "source": [
    "### Import-Ridge"
   ]
  },
  {
   "cell_type": "code",
   "execution_count": 107,
   "metadata": {},
   "outputs": [],
   "source": [
    "def ridge(X_var,y_var):\n",
    "    # train test split the data\n",
    "    X_var_train, X_var_test, y_var_train,y_var_test = train_test_split(X_var,y_var,\n",
    "                                                       random_state = 4)\n",
    "    \n",
    "    # Standard Scale the train and test of X\n",
    "    # use ss is to let every data become unitless \n",
    "    ss = StandardScaler()\n",
    "\n",
    "    #use \n",
    "    ss.fit(X_var_train)\n",
    "    X_var_train_ss = ss.transform(X_var_train)\n",
    "    X_var_test_ss = ss.transform(X_var_test)\n",
    "    \n",
    "    # Create ridge regression with some possible alpha values\n",
    "    ridge = RidgeCV(alphas=[0.01,1,5,10,100,1000,2000,\n",
    "                            3000,4000,5000,10000], cv =5)\n",
    "\n",
    "    # Fit the linear regression\n",
    "    ridge_model = ridge.fit(X_var_train_ss , y_var_train)\n",
    "\n",
    "    #Generate predictions\n",
    "    y_hat_ridge_train_var = ridge_model.predict(X_var_train_ss)\n",
    "    y_hat_ridge_test_var = ridge_model.predict(X_var_test_ss)\n",
    "\n",
    "    # calculate teh R^2 score\n",
    "    print(\"(ridge)R^2 Train score: \",r2_score(y_var_train, y_hat_ridge_train_var))\n",
    "    print(\"(ridge)R^2 Test score: \",r2_score(y_var_test, y_hat_ridge_test_var))"
   ]
  },
  {
   "cell_type": "code",
   "execution_count": 108,
   "metadata": {},
   "outputs": [
    {
     "name": "stdout",
     "output_type": "stream",
     "text": [
      "(ridge)R^2 Train score:  0.9502262469555849\n",
      "(ridge)R^2 Test score:  0.9682829355434251\n"
     ]
    },
    {
     "name": "stderr",
     "output_type": "stream",
     "text": [
      "/anaconda3/lib/python3.7/site-packages/sklearn/model_selection/_search.py:841: DeprecationWarning: The default of the `iid` parameter will change from True to False in version 0.22 and will be removed in 0.24. This will change numeric results when test-set sizes are unequal.\n",
      "  DeprecationWarning)\n"
     ]
    }
   ],
   "source": [
    "ridge(X,y)"
   ]
  },
  {
   "cell_type": "markdown",
   "metadata": {},
   "source": [
    "### Import-Random Forest Regressor"
   ]
  },
  {
   "cell_type": "code",
   "execution_count": 109,
   "metadata": {},
   "outputs": [],
   "source": [
    "def random_forset(X_var,y_var):\n",
    "    # train test split the data\n",
    "    X_var_train, X_var_test, y_var_train,y_var_test = train_test_split(X_var,y_var,\n",
    "                                                       random_state = 4)\n",
    "    \n",
    "    # Standard Scale the train and test of X\n",
    "    # use ss is to let every data become unitless \n",
    "    ss = StandardScaler()\n",
    "\n",
    "    #use \n",
    "    ss.fit(X_var_train)\n",
    "    X_var_train_ss = ss.transform(X_var_train)\n",
    "    X_var_test_ss = ss.transform(X_var_test)\n",
    "\n",
    "    # Tune GridSearchCV and use param_grid to get the best grid\n",
    "    pipe_params={\n",
    "        'bootstrap':[True,False],\n",
    "        'max_depth': [None,3,4,5],\n",
    "        'min_samples_leaf':[1,2,3,4]\n",
    "    }\n",
    "    # Initiate random forest model in GridSearchCV\n",
    "    gs = GridSearchCV(RandomForestRegressor(n_estimators = 100), param_grid = pipe_params, cv=3)\n",
    "\n",
    "    # fit the model\n",
    "    gs_model = gs.fit(X_var_train_ss, y_var_train)\n",
    "\n",
    "    # Generate the predict.\n",
    "    y_hat_var_rf_train = gs_model.predict(X_var_train_ss)\n",
    "    y_hat_var_rf_test = gs_model.predict(X_var_test_ss)\n",
    "\n",
    "    # Calculate the R^2 score.\n",
    "    print(\"(rf)R^2 Train score: \",r2_score(y_var_train, y_hat_var_rf_train))\n",
    "    print(\"(rf)R^2 Test score: \",r2_score(y_var_test, y_hat_var_rf_test))"
   ]
  },
  {
   "cell_type": "code",
   "execution_count": 110,
   "metadata": {},
   "outputs": [
    {
     "name": "stdout",
     "output_type": "stream",
     "text": [
      "(rf)R^2 Train score:  0.9878956795716822\n",
      "(rf)R^2 Test score:  0.9162366844046099\n"
     ]
    }
   ],
   "source": [
    "random_forset(X,y)"
   ]
  },
  {
   "cell_type": "markdown",
   "metadata": {},
   "source": [
    "## Other Features Tested by Linear Regression <a name='other-features'></a>"
   ]
  },
  {
   "cell_type": "code",
   "execution_count": 111,
   "metadata": {},
   "outputs": [
    {
     "name": "stdout",
     "output_type": "stream",
     "text": [
      "(lr)R^2 Train score:  0.89516270008361\n",
      "(lr)R^2 Test score:  0.9642783372196487\n"
     ]
    }
   ],
   "source": [
    "# Set the X to year\n",
    "X1 = df_shark[['year']]\n",
    "y = df_shark['GDP']\n",
    "\n",
    "# Run the linear_reg funtion to get the R^2 score\n",
    "linear_reg(X1,y)"
   ]
  },
  {
   "cell_type": "code",
   "execution_count": 112,
   "metadata": {},
   "outputs": [
    {
     "data": {
      "text/plain": [
       "Index(['GDP', 'employee', 'population', 'inv', 'trade_balance', 'import',\n",
       "       'export', 'year'],\n",
       "      dtype='object')"
      ]
     },
     "execution_count": 112,
     "metadata": {},
     "output_type": "execute_result"
    }
   ],
   "source": [
    "df_shark.columns"
   ]
  },
  {
   "cell_type": "code",
   "execution_count": 113,
   "metadata": {},
   "outputs": [
    {
     "name": "stdout",
     "output_type": "stream",
     "text": [
      "(lr)R^2 Train score:  0.882455079333648\n",
      "(lr)R^2 Test score:  0.9696629877789172\n"
     ]
    }
   ],
   "source": [
    "# Set X to population\n",
    "X2 = df_shark[['population']]\n",
    "\n",
    "# Run the linear_reg funtion to get the R^2 score\n",
    "linear_reg(X2,y)"
   ]
  },
  {
   "cell_type": "code",
   "execution_count": 114,
   "metadata": {},
   "outputs": [
    {
     "name": "stdout",
     "output_type": "stream",
     "text": [
      "(lr)R^2 Train score:  0.7768220929836893\n",
      "(lr)R^2 Test score:  0.5737590010461421\n"
     ]
    }
   ],
   "source": [
    "# Set X to inv_to\n",
    "X3 = df_shark[['inv']]\n",
    "\n",
    "# Run the linear_reg funtion to get the R^2 score\n",
    "linear_reg(X3,y)"
   ]
  },
  {
   "cell_type": "code",
   "execution_count": 115,
   "metadata": {},
   "outputs": [
    {
     "name": "stdout",
     "output_type": "stream",
     "text": [
      "(lr)R^2 Train score:  0.8058092845653335\n",
      "(lr)R^2 Test score:  0.9282914816945176\n"
     ]
    }
   ],
   "source": [
    "# Set X to export\n",
    "X4 = df_shark[['export']]\n",
    "\n",
    "# Run the linear_reg funtion to get the R^2 score\n",
    "linear_reg(X4,y)"
   ]
  },
  {
   "cell_type": "code",
   "execution_count": 116,
   "metadata": {},
   "outputs": [
    {
     "name": "stdout",
     "output_type": "stream",
     "text": [
      "(lr)R^2 Train score:  0.11054257591421301\n",
      "(lr)R^2 Test score:  0.5235362949016801\n"
     ]
    }
   ],
   "source": [
    "# Set X to employee\n",
    "X5 = df_shark[['employee']]\n",
    "\n",
    "# Run the linear_reg funtion to get the R^2 score\n",
    "linear_reg(X5,y)"
   ]
  },
  {
   "cell_type": "code",
   "execution_count": 117,
   "metadata": {
    "scrolled": true
   },
   "outputs": [
    {
     "name": "stdout",
     "output_type": "stream",
     "text": [
      "(lr)R^2 Train score:  0.5575818629124051\n",
      "(lr)R^2 Test score:  0.33571997887301963\n"
     ]
    }
   ],
   "source": [
    "# Set X to balance\n",
    "X6 = df_shark[['trade_balance']]\n",
    "\n",
    "# Run the linear_reg funtion to get the R^2 score\n",
    "linear_reg(X6,y)"
   ]
  },
  {
   "cell_type": "markdown",
   "metadata": {},
   "source": [
    "# Model Selection <a name='model-selection'></a>"
   ]
  },
  {
   "cell_type": "markdown",
   "metadata": {},
   "source": [
    "## Three Features Model <a name='3-features'></a>"
   ]
  },
  {
   "cell_type": "code",
   "execution_count": 118,
   "metadata": {},
   "outputs": [
    {
     "name": "stdout",
     "output_type": "stream",
     "text": [
      "(lr)R^2 Train score:  0.9832993661645827\n",
      "(lr)R^2 Test score:  0.9707677470974911\n"
     ]
    }
   ],
   "source": [
    "# Set the X\n",
    "X7 = df_shark[['trade_balance','inv','population']]\n",
    "\n",
    "# Linear Regression\n",
    "linear_reg(X7,y)"
   ]
  },
  {
   "cell_type": "code",
   "execution_count": 119,
   "metadata": {},
   "outputs": [
    {
     "name": "stdout",
     "output_type": "stream",
     "text": [
      "(lasso)R^2 Train score:  0.9832993661645827\n",
      "(lasso)R^2 Test score:  0.9707677470976162\n"
     ]
    }
   ],
   "source": [
    "# Lasso\n",
    "lasso(X7,y)"
   ]
  },
  {
   "cell_type": "code",
   "execution_count": 120,
   "metadata": {},
   "outputs": [
    {
     "name": "stdout",
     "output_type": "stream",
     "text": [
      "(ridge)R^2 Train score:  0.9832893222811059\n",
      "(ridge)R^2 Test score:  0.9718139575801816\n"
     ]
    },
    {
     "name": "stderr",
     "output_type": "stream",
     "text": [
      "/anaconda3/lib/python3.7/site-packages/sklearn/model_selection/_search.py:841: DeprecationWarning: The default of the `iid` parameter will change from True to False in version 0.22 and will be removed in 0.24. This will change numeric results when test-set sizes are unequal.\n",
      "  DeprecationWarning)\n"
     ]
    }
   ],
   "source": [
    "# Ridge\n",
    "ridge(X7,y)"
   ]
  },
  {
   "cell_type": "code",
   "execution_count": 121,
   "metadata": {},
   "outputs": [
    {
     "name": "stdout",
     "output_type": "stream",
     "text": [
      "(rf)R^2 Train score:  0.9636452801177935\n",
      "(rf)R^2 Test score:  0.8258359228333066\n"
     ]
    }
   ],
   "source": [
    "# Random Forest\n",
    "random_forset(X7,y)"
   ]
  },
  {
   "cell_type": "markdown",
   "metadata": {},
   "source": [
    "## Five Features Model<a name='5-features'></a>"
   ]
  },
  {
   "cell_type": "code",
   "execution_count": 122,
   "metadata": {},
   "outputs": [],
   "source": [
    "# Set the X\n",
    "X8 = df_shark[['trade_balance','year','inv','population','employee']]"
   ]
  },
  {
   "cell_type": "code",
   "execution_count": 123,
   "metadata": {},
   "outputs": [
    {
     "name": "stdout",
     "output_type": "stream",
     "text": [
      "(lr)R^2 Train score:  0.9950777126596828\n",
      "(lr)R^2 Test score:  0.9326218921462988\n"
     ]
    }
   ],
   "source": [
    "# Linear Regression\n",
    "linear_reg(X8,y)"
   ]
  },
  {
   "cell_type": "code",
   "execution_count": 124,
   "metadata": {
    "scrolled": true
   },
   "outputs": [
    {
     "name": "stdout",
     "output_type": "stream",
     "text": [
      "(lasso)R^2 Train score:  0.9918171578600613\n",
      "(lasso)R^2 Test score:  0.9812593367854304\n"
     ]
    },
    {
     "name": "stderr",
     "output_type": "stream",
     "text": [
      "/anaconda3/lib/python3.7/site-packages/sklearn/linear_model/coordinate_descent.py:492: ConvergenceWarning: Objective did not converge. You might want to increase the number of iterations. Fitting data with very small alpha may cause precision problems.\n",
      "  ConvergenceWarning)\n",
      "/anaconda3/lib/python3.7/site-packages/sklearn/linear_model/coordinate_descent.py:492: ConvergenceWarning: Objective did not converge. You might want to increase the number of iterations. Fitting data with very small alpha may cause precision problems.\n",
      "  ConvergenceWarning)\n",
      "/anaconda3/lib/python3.7/site-packages/sklearn/linear_model/coordinate_descent.py:492: ConvergenceWarning: Objective did not converge. You might want to increase the number of iterations. Fitting data with very small alpha may cause precision problems.\n",
      "  ConvergenceWarning)\n",
      "/anaconda3/lib/python3.7/site-packages/sklearn/linear_model/coordinate_descent.py:492: ConvergenceWarning: Objective did not converge. You might want to increase the number of iterations. Fitting data with very small alpha may cause precision problems.\n",
      "  ConvergenceWarning)\n",
      "/anaconda3/lib/python3.7/site-packages/sklearn/linear_model/coordinate_descent.py:492: ConvergenceWarning: Objective did not converge. You might want to increase the number of iterations. Fitting data with very small alpha may cause precision problems.\n",
      "  ConvergenceWarning)\n",
      "/anaconda3/lib/python3.7/site-packages/sklearn/linear_model/coordinate_descent.py:492: ConvergenceWarning: Objective did not converge. You might want to increase the number of iterations. Fitting data with very small alpha may cause precision problems.\n",
      "  ConvergenceWarning)\n",
      "/anaconda3/lib/python3.7/site-packages/sklearn/linear_model/coordinate_descent.py:492: ConvergenceWarning: Objective did not converge. You might want to increase the number of iterations. Fitting data with very small alpha may cause precision problems.\n",
      "  ConvergenceWarning)\n",
      "/anaconda3/lib/python3.7/site-packages/sklearn/linear_model/coordinate_descent.py:492: ConvergenceWarning: Objective did not converge. You might want to increase the number of iterations. Fitting data with very small alpha may cause precision problems.\n",
      "  ConvergenceWarning)\n",
      "/anaconda3/lib/python3.7/site-packages/sklearn/linear_model/coordinate_descent.py:492: ConvergenceWarning: Objective did not converge. You might want to increase the number of iterations. Fitting data with very small alpha may cause precision problems.\n",
      "  ConvergenceWarning)\n",
      "/anaconda3/lib/python3.7/site-packages/sklearn/linear_model/coordinate_descent.py:492: ConvergenceWarning: Objective did not converge. You might want to increase the number of iterations. Fitting data with very small alpha may cause precision problems.\n",
      "  ConvergenceWarning)\n",
      "/anaconda3/lib/python3.7/site-packages/sklearn/linear_model/coordinate_descent.py:492: ConvergenceWarning: Objective did not converge. You might want to increase the number of iterations. Fitting data with very small alpha may cause precision problems.\n",
      "  ConvergenceWarning)\n",
      "/anaconda3/lib/python3.7/site-packages/sklearn/linear_model/coordinate_descent.py:492: ConvergenceWarning: Objective did not converge. You might want to increase the number of iterations. Fitting data with very small alpha may cause precision problems.\n",
      "  ConvergenceWarning)\n",
      "/anaconda3/lib/python3.7/site-packages/sklearn/linear_model/coordinate_descent.py:492: ConvergenceWarning: Objective did not converge. You might want to increase the number of iterations. Fitting data with very small alpha may cause precision problems.\n",
      "  ConvergenceWarning)\n",
      "/anaconda3/lib/python3.7/site-packages/sklearn/linear_model/coordinate_descent.py:492: ConvergenceWarning: Objective did not converge. You might want to increase the number of iterations. Fitting data with very small alpha may cause precision problems.\n",
      "  ConvergenceWarning)\n",
      "/anaconda3/lib/python3.7/site-packages/sklearn/linear_model/coordinate_descent.py:492: ConvergenceWarning: Objective did not converge. You might want to increase the number of iterations. Fitting data with very small alpha may cause precision problems.\n",
      "  ConvergenceWarning)\n",
      "/anaconda3/lib/python3.7/site-packages/sklearn/linear_model/coordinate_descent.py:492: ConvergenceWarning: Objective did not converge. You might want to increase the number of iterations. Fitting data with very small alpha may cause precision problems.\n",
      "  ConvergenceWarning)\n",
      "/anaconda3/lib/python3.7/site-packages/sklearn/linear_model/coordinate_descent.py:492: ConvergenceWarning: Objective did not converge. You might want to increase the number of iterations. Fitting data with very small alpha may cause precision problems.\n",
      "  ConvergenceWarning)\n",
      "/anaconda3/lib/python3.7/site-packages/sklearn/linear_model/coordinate_descent.py:492: ConvergenceWarning: Objective did not converge. You might want to increase the number of iterations. Fitting data with very small alpha may cause precision problems.\n",
      "  ConvergenceWarning)\n",
      "/anaconda3/lib/python3.7/site-packages/sklearn/linear_model/coordinate_descent.py:492: ConvergenceWarning: Objective did not converge. You might want to increase the number of iterations. Fitting data with very small alpha may cause precision problems.\n",
      "  ConvergenceWarning)\n",
      "/anaconda3/lib/python3.7/site-packages/sklearn/linear_model/coordinate_descent.py:492: ConvergenceWarning: Objective did not converge. You might want to increase the number of iterations. Fitting data with very small alpha may cause precision problems.\n",
      "  ConvergenceWarning)\n",
      "/anaconda3/lib/python3.7/site-packages/sklearn/linear_model/coordinate_descent.py:492: ConvergenceWarning: Objective did not converge. You might want to increase the number of iterations. Fitting data with very small alpha may cause precision problems.\n",
      "  ConvergenceWarning)\n",
      "/anaconda3/lib/python3.7/site-packages/sklearn/linear_model/coordinate_descent.py:492: ConvergenceWarning: Objective did not converge. You might want to increase the number of iterations. Fitting data with very small alpha may cause precision problems.\n",
      "  ConvergenceWarning)\n",
      "/anaconda3/lib/python3.7/site-packages/sklearn/linear_model/coordinate_descent.py:492: ConvergenceWarning: Objective did not converge. You might want to increase the number of iterations. Fitting data with very small alpha may cause precision problems.\n",
      "  ConvergenceWarning)\n",
      "/anaconda3/lib/python3.7/site-packages/sklearn/linear_model/coordinate_descent.py:492: ConvergenceWarning: Objective did not converge. You might want to increase the number of iterations. Fitting data with very small alpha may cause precision problems.\n",
      "  ConvergenceWarning)\n",
      "/anaconda3/lib/python3.7/site-packages/sklearn/linear_model/coordinate_descent.py:492: ConvergenceWarning: Objective did not converge. You might want to increase the number of iterations. Fitting data with very small alpha may cause precision problems.\n",
      "  ConvergenceWarning)\n",
      "/anaconda3/lib/python3.7/site-packages/sklearn/linear_model/coordinate_descent.py:492: ConvergenceWarning: Objective did not converge. You might want to increase the number of iterations. Fitting data with very small alpha may cause precision problems.\n",
      "  ConvergenceWarning)\n",
      "/anaconda3/lib/python3.7/site-packages/sklearn/linear_model/coordinate_descent.py:492: ConvergenceWarning: Objective did not converge. You might want to increase the number of iterations. Fitting data with very small alpha may cause precision problems.\n",
      "  ConvergenceWarning)\n",
      "/anaconda3/lib/python3.7/site-packages/sklearn/linear_model/coordinate_descent.py:492: ConvergenceWarning: Objective did not converge. You might want to increase the number of iterations. Fitting data with very small alpha may cause precision problems.\n",
      "  ConvergenceWarning)\n",
      "/anaconda3/lib/python3.7/site-packages/sklearn/linear_model/coordinate_descent.py:492: ConvergenceWarning: Objective did not converge. You might want to increase the number of iterations. Fitting data with very small alpha may cause precision problems.\n",
      "  ConvergenceWarning)\n",
      "/anaconda3/lib/python3.7/site-packages/sklearn/linear_model/coordinate_descent.py:492: ConvergenceWarning: Objective did not converge. You might want to increase the number of iterations. Fitting data with very small alpha may cause precision problems.\n",
      "  ConvergenceWarning)\n",
      "/anaconda3/lib/python3.7/site-packages/sklearn/linear_model/coordinate_descent.py:492: ConvergenceWarning: Objective did not converge. You might want to increase the number of iterations. Fitting data with very small alpha may cause precision problems.\n",
      "  ConvergenceWarning)\n",
      "/anaconda3/lib/python3.7/site-packages/sklearn/linear_model/coordinate_descent.py:492: ConvergenceWarning: Objective did not converge. You might want to increase the number of iterations. Fitting data with very small alpha may cause precision problems.\n",
      "  ConvergenceWarning)\n",
      "/anaconda3/lib/python3.7/site-packages/sklearn/linear_model/coordinate_descent.py:492: ConvergenceWarning: Objective did not converge. You might want to increase the number of iterations. Fitting data with very small alpha may cause precision problems.\n",
      "  ConvergenceWarning)\n",
      "/anaconda3/lib/python3.7/site-packages/sklearn/linear_model/coordinate_descent.py:492: ConvergenceWarning: Objective did not converge. You might want to increase the number of iterations. Fitting data with very small alpha may cause precision problems.\n",
      "  ConvergenceWarning)\n",
      "/anaconda3/lib/python3.7/site-packages/sklearn/linear_model/coordinate_descent.py:492: ConvergenceWarning: Objective did not converge. You might want to increase the number of iterations. Fitting data with very small alpha may cause precision problems.\n",
      "  ConvergenceWarning)\n",
      "/anaconda3/lib/python3.7/site-packages/sklearn/linear_model/coordinate_descent.py:492: ConvergenceWarning: Objective did not converge. You might want to increase the number of iterations. Fitting data with very small alpha may cause precision problems.\n",
      "  ConvergenceWarning)\n",
      "/anaconda3/lib/python3.7/site-packages/sklearn/linear_model/coordinate_descent.py:492: ConvergenceWarning: Objective did not converge. You might want to increase the number of iterations. Fitting data with very small alpha may cause precision problems.\n",
      "  ConvergenceWarning)\n",
      "/anaconda3/lib/python3.7/site-packages/sklearn/linear_model/coordinate_descent.py:492: ConvergenceWarning: Objective did not converge. You might want to increase the number of iterations. Fitting data with very small alpha may cause precision problems.\n",
      "  ConvergenceWarning)\n",
      "/anaconda3/lib/python3.7/site-packages/sklearn/linear_model/coordinate_descent.py:492: ConvergenceWarning: Objective did not converge. You might want to increase the number of iterations. Fitting data with very small alpha may cause precision problems.\n",
      "  ConvergenceWarning)\n",
      "/anaconda3/lib/python3.7/site-packages/sklearn/linear_model/coordinate_descent.py:492: ConvergenceWarning: Objective did not converge. You might want to increase the number of iterations. Fitting data with very small alpha may cause precision problems.\n",
      "  ConvergenceWarning)\n",
      "/anaconda3/lib/python3.7/site-packages/sklearn/linear_model/coordinate_descent.py:492: ConvergenceWarning: Objective did not converge. You might want to increase the number of iterations. Fitting data with very small alpha may cause precision problems.\n",
      "  ConvergenceWarning)\n",
      "/anaconda3/lib/python3.7/site-packages/sklearn/linear_model/coordinate_descent.py:492: ConvergenceWarning: Objective did not converge. You might want to increase the number of iterations. Fitting data with very small alpha may cause precision problems.\n",
      "  ConvergenceWarning)\n",
      "/anaconda3/lib/python3.7/site-packages/sklearn/linear_model/coordinate_descent.py:492: ConvergenceWarning: Objective did not converge. You might want to increase the number of iterations. Fitting data with very small alpha may cause precision problems.\n",
      "  ConvergenceWarning)\n",
      "/anaconda3/lib/python3.7/site-packages/sklearn/linear_model/coordinate_descent.py:492: ConvergenceWarning: Objective did not converge. You might want to increase the number of iterations. Fitting data with very small alpha may cause precision problems.\n",
      "  ConvergenceWarning)\n",
      "/anaconda3/lib/python3.7/site-packages/sklearn/linear_model/coordinate_descent.py:492: ConvergenceWarning: Objective did not converge. You might want to increase the number of iterations. Fitting data with very small alpha may cause precision problems.\n",
      "  ConvergenceWarning)\n",
      "/anaconda3/lib/python3.7/site-packages/sklearn/linear_model/coordinate_descent.py:492: ConvergenceWarning: Objective did not converge. You might want to increase the number of iterations. Fitting data with very small alpha may cause precision problems.\n",
      "  ConvergenceWarning)\n",
      "/anaconda3/lib/python3.7/site-packages/sklearn/linear_model/coordinate_descent.py:492: ConvergenceWarning: Objective did not converge. You might want to increase the number of iterations. Fitting data with very small alpha may cause precision problems.\n",
      "  ConvergenceWarning)\n",
      "/anaconda3/lib/python3.7/site-packages/sklearn/linear_model/coordinate_descent.py:492: ConvergenceWarning: Objective did not converge. You might want to increase the number of iterations. Fitting data with very small alpha may cause precision problems.\n",
      "  ConvergenceWarning)\n",
      "/anaconda3/lib/python3.7/site-packages/sklearn/linear_model/coordinate_descent.py:492: ConvergenceWarning: Objective did not converge. You might want to increase the number of iterations. Fitting data with very small alpha may cause precision problems.\n",
      "  ConvergenceWarning)\n",
      "/anaconda3/lib/python3.7/site-packages/sklearn/linear_model/coordinate_descent.py:492: ConvergenceWarning: Objective did not converge. You might want to increase the number of iterations. Fitting data with very small alpha may cause precision problems.\n",
      "  ConvergenceWarning)\n",
      "/anaconda3/lib/python3.7/site-packages/sklearn/linear_model/coordinate_descent.py:492: ConvergenceWarning: Objective did not converge. You might want to increase the number of iterations. Fitting data with very small alpha may cause precision problems.\n",
      "  ConvergenceWarning)\n",
      "/anaconda3/lib/python3.7/site-packages/sklearn/linear_model/coordinate_descent.py:492: ConvergenceWarning: Objective did not converge. You might want to increase the number of iterations. Fitting data with very small alpha may cause precision problems.\n",
      "  ConvergenceWarning)\n",
      "/anaconda3/lib/python3.7/site-packages/sklearn/linear_model/coordinate_descent.py:492: ConvergenceWarning: Objective did not converge. You might want to increase the number of iterations. Fitting data with very small alpha may cause precision problems.\n",
      "  ConvergenceWarning)\n",
      "/anaconda3/lib/python3.7/site-packages/sklearn/linear_model/coordinate_descent.py:492: ConvergenceWarning: Objective did not converge. You might want to increase the number of iterations. Fitting data with very small alpha may cause precision problems.\n",
      "  ConvergenceWarning)\n",
      "/anaconda3/lib/python3.7/site-packages/sklearn/linear_model/coordinate_descent.py:492: ConvergenceWarning: Objective did not converge. You might want to increase the number of iterations. Fitting data with very small alpha may cause precision problems.\n",
      "  ConvergenceWarning)\n",
      "/anaconda3/lib/python3.7/site-packages/sklearn/linear_model/coordinate_descent.py:492: ConvergenceWarning: Objective did not converge. You might want to increase the number of iterations. Fitting data with very small alpha may cause precision problems.\n",
      "  ConvergenceWarning)\n",
      "/anaconda3/lib/python3.7/site-packages/sklearn/linear_model/coordinate_descent.py:492: ConvergenceWarning: Objective did not converge. You might want to increase the number of iterations. Fitting data with very small alpha may cause precision problems.\n",
      "  ConvergenceWarning)\n",
      "/anaconda3/lib/python3.7/site-packages/sklearn/linear_model/coordinate_descent.py:492: ConvergenceWarning: Objective did not converge. You might want to increase the number of iterations. Fitting data with very small alpha may cause precision problems.\n",
      "  ConvergenceWarning)\n",
      "/anaconda3/lib/python3.7/site-packages/sklearn/linear_model/coordinate_descent.py:492: ConvergenceWarning: Objective did not converge. You might want to increase the number of iterations. Fitting data with very small alpha may cause precision problems.\n",
      "  ConvergenceWarning)\n",
      "/anaconda3/lib/python3.7/site-packages/sklearn/linear_model/coordinate_descent.py:492: ConvergenceWarning: Objective did not converge. You might want to increase the number of iterations. Fitting data with very small alpha may cause precision problems.\n",
      "  ConvergenceWarning)\n",
      "/anaconda3/lib/python3.7/site-packages/sklearn/linear_model/coordinate_descent.py:492: ConvergenceWarning: Objective did not converge. You might want to increase the number of iterations. Fitting data with very small alpha may cause precision problems.\n",
      "  ConvergenceWarning)\n"
     ]
    }
   ],
   "source": [
    "# Lasso\n",
    "lasso(X8,y)"
   ]
  },
  {
   "cell_type": "code",
   "execution_count": 125,
   "metadata": {},
   "outputs": [
    {
     "name": "stdout",
     "output_type": "stream",
     "text": [
      "(ridge)R^2 Train score:  0.9903664978324943\n",
      "(ridge)R^2 Test score:  0.987493866336312\n"
     ]
    },
    {
     "name": "stderr",
     "output_type": "stream",
     "text": [
      "/anaconda3/lib/python3.7/site-packages/sklearn/model_selection/_search.py:841: DeprecationWarning: The default of the `iid` parameter will change from True to False in version 0.22 and will be removed in 0.24. This will change numeric results when test-set sizes are unequal.\n",
      "  DeprecationWarning)\n"
     ]
    }
   ],
   "source": [
    "# Ridge\n",
    "ridge(X8,y)"
   ]
  },
  {
   "cell_type": "code",
   "execution_count": 126,
   "metadata": {},
   "outputs": [
    {
     "name": "stdout",
     "output_type": "stream",
     "text": [
      "(rf)R^2 Train score:  0.9974817188382046\n",
      "(rf)R^2 Test score:  0.9365369581914548\n"
     ]
    }
   ],
   "source": [
    "# Random Forest\n",
    "random_forset(X8,y)"
   ]
  },
  {
   "cell_type": "markdown",
   "metadata": {},
   "source": [
    "# Conclusion <a name='conclusion'></a>"
   ]
  },
  {
   "cell_type": "markdown",
   "metadata": {},
   "source": [
    "First, since 2009, except for 2009, the growth trend of GDP and total imports has increased. The huge decline in 2009 was due to the financial crisis that began in the United States and the global economic recession that caused the world's economic recession. Export trends fell twice in 2009 and 2015 to 2016. For the year 2015 to 2016, the weak global economy and the strengthening of the US dollar, exports have fallen, making US goods and services more expensive. Second, the ridge model with five features, which include 'trade_balance', 'year', 'inv', 'population', and 'employee', worked the best. It showed 99 percent of the GDP can be explained by the model.  "
   ]
  },
  {
   "cell_type": "markdown",
   "metadata": {},
   "source": [
    "# Future Improvement <a name='future-improve'></a>"
   ]
  },
  {
   "cell_type": "markdown",
   "metadata": {},
   "source": [
    "The GDP is so correlated to import, I don't why for now. But I do need to keep learning more about their relationship. "
   ]
  },
  {
   "cell_type": "markdown",
   "metadata": {},
   "source": [
    "# Resource <a name='resource'> </a>\n",
    "\n",
    "- GDP: https://www.bea.gov/data/gdp/gdp-industry\n",
    "\n",
    "- GDP Calculate: \n",
    "    - https://courses.lumenlearning.com/boundless-economics/chapter/comparing-real-and-nominal-gdp/\n",
    "    - https://www.slideshare.net/syler333/balance-of-payments-46077319\n",
    "    - https://www.thebalance.com/what-is-gdp-definition-of-gross-domestic-product-3306038\n",
    "\n",
    "- GDP affect factors: https://blog.marketresearch.com/the-growing-pharmaceuticals-market-expert-forecasts-and-analysis\n",
    "\n",
    "- investment from/to abroad: https://www.bea.gov/data/intl-trade-investment/direct-investment-country-and-industry\n",
    "\n",
    "- Import/Export: https://www.census.gov/foreign-trade/index.html\n",
    "\n",
    "- Employee: https://www.bls.gov/cps/aa2012/cpsaat18b.htm\n",
    "\n",
    "- US population: https://data.worldbank.org/indicator/SP.POP.TOTL?locations=US\n",
    "- Economic drop: \n",
    "    - https://www.marketwatch.com/story/us-exports-fall-in-2015-for-first-time-since-recession-2016-02-05\n",
    "    - https://www.forbes.com/2009/01/14/global-recession-2009-oped-cx_nr_0115roubini.html#49d387e5185f"
   ]
  },
  {
   "cell_type": "code",
   "execution_count": null,
   "metadata": {},
   "outputs": [],
   "source": []
  }
 ],
 "metadata": {
  "kernelspec": {
   "display_name": "Python 3",
   "language": "python",
   "name": "python3"
  },
  "language_info": {
   "codemirror_mode": {
    "name": "ipython",
    "version": 3
   },
   "file_extension": ".py",
   "mimetype": "text/x-python",
   "name": "python",
   "nbconvert_exporter": "python",
   "pygments_lexer": "ipython3",
   "version": "3.7.2"
  }
 },
 "nbformat": 4,
 "nbformat_minor": 2
}
